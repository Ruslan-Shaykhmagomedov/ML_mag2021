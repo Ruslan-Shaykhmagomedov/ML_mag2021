{
 "cells": [
  {
   "cell_type": "code",
   "execution_count": 2,
   "metadata": {},
   "outputs": [],
   "source": [
    "import numpy as np\n",
    "import matplotlib.pyplot as plt\n",
    "import pandas as pd\n",
    "import seaborn as sns\n",
    "import sklearn"
   ]
  },
  {
   "cell_type": "markdown",
   "metadata": {},
   "source": [
    "# Оценка годовой стоимости недвижимости, проданной на рынке недвижимости     Нью-Йорка"
   ]
  },
  {
   "cell_type": "markdown",
   "metadata": {},
   "source": [
    "Предположим, риэлтор в целях улучшения качества своей работы хочет узнать информацию о проданной за последнее время в Нью-Йорке недвижиомсти. О её территориальном распределении в частности. Загрузим данные о проданных объектах недвижимости Нью-Йорке за год."
   ]
  },
  {
   "cell_type": "markdown",
   "metadata": {},
   "source": [
    "# 1.Загружаем данные"
   ]
  },
  {
   "cell_type": "code",
   "execution_count": 3,
   "metadata": {},
   "outputs": [],
   "source": [
    "url = \"https://raw.githubusercontent.com/LakshinaAlexandra/MachineLearning/master/NYC_Property_Sales.csv\"\n",
    "data = pd.read_csv(url)"
   ]
  },
  {
   "cell_type": "code",
   "execution_count": 4,
   "metadata": {},
   "outputs": [],
   "source": [
    "# Сразу удалим стоблец \"Unnamed: 0\", не инрающий в дальнейшем никакой роли\n",
    "data.drop(['Unnamed: 0'], axis='columns', inplace=True)"
   ]
  },
  {
   "cell_type": "markdown",
   "metadata": {},
   "source": [
    "Таблица содержит данные о более 84500 зданий или строительных единиц (квартиры и т.д.), проданных на рынке недвижимости Нью-Йорка за 12-месячный период.\n",
    "\n",
    "Для объектов указаны их информация о расположении, класс строения, адрес, почтовый индекс, площадь, год постройки, налоговый класс, цена и дата при продаже и т.д.\n",
    "\n",
    "Вначале посмотрим на размеры таблицы - количество строк (каждая строка соответствует одной одному объекту недвижимости) и количество столбцов (каждый столбец соответствует конкретному признаку):"
   ]
  },
  {
   "cell_type": "code",
   "execution_count": 5,
   "metadata": {},
   "outputs": [
    {
     "data": {
      "text/plain": [
       "(84548, 21)"
      ]
     },
     "execution_count": 5,
     "metadata": {},
     "output_type": "execute_result"
    }
   ],
   "source": [
    "data.shape"
   ]
  },
  {
   "cell_type": "markdown",
   "metadata": {},
   "source": [
    "Метод data.head() отображает первые строки (по умолчанию, 5 строк) таблицы"
   ]
  },
  {
   "cell_type": "code",
   "execution_count": 6,
   "metadata": {},
   "outputs": [
    {
     "data": {
      "text/html": [
       "<div>\n",
       "<style scoped>\n",
       "    .dataframe tbody tr th:only-of-type {\n",
       "        vertical-align: middle;\n",
       "    }\n",
       "\n",
       "    .dataframe tbody tr th {\n",
       "        vertical-align: top;\n",
       "    }\n",
       "\n",
       "    .dataframe thead th {\n",
       "        text-align: right;\n",
       "    }\n",
       "</style>\n",
       "<table border=\"1\" class=\"dataframe\">\n",
       "  <thead>\n",
       "    <tr style=\"text-align: right;\">\n",
       "      <th></th>\n",
       "      <th>BOROUGH</th>\n",
       "      <th>NEIGHBORHOOD</th>\n",
       "      <th>BUILDING CLASS CATEGORY</th>\n",
       "      <th>TAX CLASS AT PRESENT</th>\n",
       "      <th>BLOCK</th>\n",
       "      <th>LOT</th>\n",
       "      <th>EASE-MENT</th>\n",
       "      <th>BUILDING CLASS AT PRESENT</th>\n",
       "      <th>ADDRESS</th>\n",
       "      <th>APARTMENT NUMBER</th>\n",
       "      <th>...</th>\n",
       "      <th>RESIDENTIAL UNITS</th>\n",
       "      <th>COMMERCIAL UNITS</th>\n",
       "      <th>TOTAL UNITS</th>\n",
       "      <th>LAND SQUARE FEET</th>\n",
       "      <th>GROSS SQUARE FEET</th>\n",
       "      <th>YEAR BUILT</th>\n",
       "      <th>TAX CLASS AT TIME OF SALE</th>\n",
       "      <th>BUILDING CLASS AT TIME OF SALE</th>\n",
       "      <th>SALE PRICE</th>\n",
       "      <th>SALE DATE</th>\n",
       "    </tr>\n",
       "  </thead>\n",
       "  <tbody>\n",
       "    <tr>\n",
       "      <th>0</th>\n",
       "      <td>1</td>\n",
       "      <td>ALPHABET CITY</td>\n",
       "      <td>07 RENTALS - WALKUP APARTMENTS</td>\n",
       "      <td>2A</td>\n",
       "      <td>392</td>\n",
       "      <td>6</td>\n",
       "      <td></td>\n",
       "      <td>C2</td>\n",
       "      <td>153 AVENUE B</td>\n",
       "      <td></td>\n",
       "      <td>...</td>\n",
       "      <td>5</td>\n",
       "      <td>0</td>\n",
       "      <td>5</td>\n",
       "      <td>1633</td>\n",
       "      <td>6440</td>\n",
       "      <td>1900</td>\n",
       "      <td>2</td>\n",
       "      <td>C2</td>\n",
       "      <td>6625000</td>\n",
       "      <td>2017-07-19 00:00:00</td>\n",
       "    </tr>\n",
       "    <tr>\n",
       "      <th>1</th>\n",
       "      <td>1</td>\n",
       "      <td>ALPHABET CITY</td>\n",
       "      <td>07 RENTALS - WALKUP APARTMENTS</td>\n",
       "      <td>2</td>\n",
       "      <td>399</td>\n",
       "      <td>26</td>\n",
       "      <td></td>\n",
       "      <td>C7</td>\n",
       "      <td>234 EAST 4TH   STREET</td>\n",
       "      <td></td>\n",
       "      <td>...</td>\n",
       "      <td>28</td>\n",
       "      <td>3</td>\n",
       "      <td>31</td>\n",
       "      <td>4616</td>\n",
       "      <td>18690</td>\n",
       "      <td>1900</td>\n",
       "      <td>2</td>\n",
       "      <td>C7</td>\n",
       "      <td>-</td>\n",
       "      <td>2016-12-14 00:00:00</td>\n",
       "    </tr>\n",
       "    <tr>\n",
       "      <th>2</th>\n",
       "      <td>1</td>\n",
       "      <td>ALPHABET CITY</td>\n",
       "      <td>07 RENTALS - WALKUP APARTMENTS</td>\n",
       "      <td>2</td>\n",
       "      <td>399</td>\n",
       "      <td>39</td>\n",
       "      <td></td>\n",
       "      <td>C7</td>\n",
       "      <td>197 EAST 3RD   STREET</td>\n",
       "      <td></td>\n",
       "      <td>...</td>\n",
       "      <td>16</td>\n",
       "      <td>1</td>\n",
       "      <td>17</td>\n",
       "      <td>2212</td>\n",
       "      <td>7803</td>\n",
       "      <td>1900</td>\n",
       "      <td>2</td>\n",
       "      <td>C7</td>\n",
       "      <td>-</td>\n",
       "      <td>2016-12-09 00:00:00</td>\n",
       "    </tr>\n",
       "    <tr>\n",
       "      <th>3</th>\n",
       "      <td>1</td>\n",
       "      <td>ALPHABET CITY</td>\n",
       "      <td>07 RENTALS - WALKUP APARTMENTS</td>\n",
       "      <td>2B</td>\n",
       "      <td>402</td>\n",
       "      <td>21</td>\n",
       "      <td></td>\n",
       "      <td>C4</td>\n",
       "      <td>154 EAST 7TH STREET</td>\n",
       "      <td></td>\n",
       "      <td>...</td>\n",
       "      <td>10</td>\n",
       "      <td>0</td>\n",
       "      <td>10</td>\n",
       "      <td>2272</td>\n",
       "      <td>6794</td>\n",
       "      <td>1913</td>\n",
       "      <td>2</td>\n",
       "      <td>C4</td>\n",
       "      <td>3936272</td>\n",
       "      <td>2016-09-23 00:00:00</td>\n",
       "    </tr>\n",
       "    <tr>\n",
       "      <th>4</th>\n",
       "      <td>1</td>\n",
       "      <td>ALPHABET CITY</td>\n",
       "      <td>07 RENTALS - WALKUP APARTMENTS</td>\n",
       "      <td>2A</td>\n",
       "      <td>404</td>\n",
       "      <td>55</td>\n",
       "      <td></td>\n",
       "      <td>C2</td>\n",
       "      <td>301 EAST 10TH   STREET</td>\n",
       "      <td></td>\n",
       "      <td>...</td>\n",
       "      <td>6</td>\n",
       "      <td>0</td>\n",
       "      <td>6</td>\n",
       "      <td>2369</td>\n",
       "      <td>4615</td>\n",
       "      <td>1900</td>\n",
       "      <td>2</td>\n",
       "      <td>C2</td>\n",
       "      <td>8000000</td>\n",
       "      <td>2016-11-17 00:00:00</td>\n",
       "    </tr>\n",
       "  </tbody>\n",
       "</table>\n",
       "<p>5 rows × 21 columns</p>\n",
       "</div>"
      ],
      "text/plain": [
       "   BOROUGH   NEIGHBORHOOD                      BUILDING CLASS CATEGORY  \\\n",
       "0        1  ALPHABET CITY  07 RENTALS - WALKUP APARTMENTS                \n",
       "1        1  ALPHABET CITY  07 RENTALS - WALKUP APARTMENTS                \n",
       "2        1  ALPHABET CITY  07 RENTALS - WALKUP APARTMENTS                \n",
       "3        1  ALPHABET CITY  07 RENTALS - WALKUP APARTMENTS                \n",
       "4        1  ALPHABET CITY  07 RENTALS - WALKUP APARTMENTS                \n",
       "\n",
       "  TAX CLASS AT PRESENT  BLOCK  LOT EASE-MENT BUILDING CLASS AT PRESENT  \\\n",
       "0                   2A    392    6                                  C2   \n",
       "1                    2    399   26                                  C7   \n",
       "2                    2    399   39                                  C7   \n",
       "3                   2B    402   21                                  C4   \n",
       "4                   2A    404   55                                  C2   \n",
       "\n",
       "                  ADDRESS APARTMENT NUMBER  ...  RESIDENTIAL UNITS  \\\n",
       "0            153 AVENUE B                   ...                  5   \n",
       "1   234 EAST 4TH   STREET                   ...                 28   \n",
       "2   197 EAST 3RD   STREET                   ...                 16   \n",
       "3     154 EAST 7TH STREET                   ...                 10   \n",
       "4  301 EAST 10TH   STREET                   ...                  6   \n",
       "\n",
       "   COMMERCIAL UNITS  TOTAL UNITS  LAND SQUARE FEET GROSS SQUARE FEET  \\\n",
       "0                 0            5              1633              6440   \n",
       "1                 3           31              4616             18690   \n",
       "2                 1           17              2212              7803   \n",
       "3                 0           10              2272              6794   \n",
       "4                 0            6              2369              4615   \n",
       "\n",
       "  YEAR BUILT  TAX CLASS AT TIME OF SALE  BUILDING CLASS AT TIME OF SALE  \\\n",
       "0       1900                          2                              C2   \n",
       "1       1900                          2                              C7   \n",
       "2       1900                          2                              C7   \n",
       "3       1913                          2                              C4   \n",
       "4       1900                          2                              C2   \n",
       "\n",
       "  SALE PRICE            SALE DATE  \n",
       "0    6625000  2017-07-19 00:00:00  \n",
       "1        -    2016-12-14 00:00:00  \n",
       "2        -    2016-12-09 00:00:00  \n",
       "3    3936272  2016-09-23 00:00:00  \n",
       "4    8000000  2016-11-17 00:00:00  \n",
       "\n",
       "[5 rows x 21 columns]"
      ]
     },
     "execution_count": 6,
     "metadata": {},
     "output_type": "execute_result"
    }
   ],
   "source": [
    "data.head()"
   ]
  },
  {
   "cell_type": "markdown",
   "metadata": {},
   "source": [
    "Так же можно вывести последние строки (по умолчанию, 5 строк) таблицы"
   ]
  },
  {
   "cell_type": "code",
   "execution_count": 7,
   "metadata": {},
   "outputs": [
    {
     "data": {
      "text/html": [
       "<div>\n",
       "<style scoped>\n",
       "    .dataframe tbody tr th:only-of-type {\n",
       "        vertical-align: middle;\n",
       "    }\n",
       "\n",
       "    .dataframe tbody tr th {\n",
       "        vertical-align: top;\n",
       "    }\n",
       "\n",
       "    .dataframe thead th {\n",
       "        text-align: right;\n",
       "    }\n",
       "</style>\n",
       "<table border=\"1\" class=\"dataframe\">\n",
       "  <thead>\n",
       "    <tr style=\"text-align: right;\">\n",
       "      <th></th>\n",
       "      <th>BOROUGH</th>\n",
       "      <th>NEIGHBORHOOD</th>\n",
       "      <th>BUILDING CLASS CATEGORY</th>\n",
       "      <th>TAX CLASS AT PRESENT</th>\n",
       "      <th>BLOCK</th>\n",
       "      <th>LOT</th>\n",
       "      <th>EASE-MENT</th>\n",
       "      <th>BUILDING CLASS AT PRESENT</th>\n",
       "      <th>ADDRESS</th>\n",
       "      <th>APARTMENT NUMBER</th>\n",
       "      <th>...</th>\n",
       "      <th>RESIDENTIAL UNITS</th>\n",
       "      <th>COMMERCIAL UNITS</th>\n",
       "      <th>TOTAL UNITS</th>\n",
       "      <th>LAND SQUARE FEET</th>\n",
       "      <th>GROSS SQUARE FEET</th>\n",
       "      <th>YEAR BUILT</th>\n",
       "      <th>TAX CLASS AT TIME OF SALE</th>\n",
       "      <th>BUILDING CLASS AT TIME OF SALE</th>\n",
       "      <th>SALE PRICE</th>\n",
       "      <th>SALE DATE</th>\n",
       "    </tr>\n",
       "  </thead>\n",
       "  <tbody>\n",
       "    <tr>\n",
       "      <th>84543</th>\n",
       "      <td>5</td>\n",
       "      <td>WOODROW</td>\n",
       "      <td>02 TWO FAMILY DWELLINGS</td>\n",
       "      <td>1</td>\n",
       "      <td>7349</td>\n",
       "      <td>34</td>\n",
       "      <td></td>\n",
       "      <td>B9</td>\n",
       "      <td>37 QUAIL LANE</td>\n",
       "      <td></td>\n",
       "      <td>...</td>\n",
       "      <td>2</td>\n",
       "      <td>0</td>\n",
       "      <td>2</td>\n",
       "      <td>2400</td>\n",
       "      <td>2575</td>\n",
       "      <td>1998</td>\n",
       "      <td>1</td>\n",
       "      <td>B9</td>\n",
       "      <td>450000</td>\n",
       "      <td>2016-11-28 00:00:00</td>\n",
       "    </tr>\n",
       "    <tr>\n",
       "      <th>84544</th>\n",
       "      <td>5</td>\n",
       "      <td>WOODROW</td>\n",
       "      <td>02 TWO FAMILY DWELLINGS</td>\n",
       "      <td>1</td>\n",
       "      <td>7349</td>\n",
       "      <td>78</td>\n",
       "      <td></td>\n",
       "      <td>B9</td>\n",
       "      <td>32 PHEASANT LANE</td>\n",
       "      <td></td>\n",
       "      <td>...</td>\n",
       "      <td>2</td>\n",
       "      <td>0</td>\n",
       "      <td>2</td>\n",
       "      <td>2498</td>\n",
       "      <td>2377</td>\n",
       "      <td>1998</td>\n",
       "      <td>1</td>\n",
       "      <td>B9</td>\n",
       "      <td>550000</td>\n",
       "      <td>2017-04-21 00:00:00</td>\n",
       "    </tr>\n",
       "    <tr>\n",
       "      <th>84545</th>\n",
       "      <td>5</td>\n",
       "      <td>WOODROW</td>\n",
       "      <td>02 TWO FAMILY DWELLINGS</td>\n",
       "      <td>1</td>\n",
       "      <td>7351</td>\n",
       "      <td>60</td>\n",
       "      <td></td>\n",
       "      <td>B2</td>\n",
       "      <td>49 PITNEY AVENUE</td>\n",
       "      <td></td>\n",
       "      <td>...</td>\n",
       "      <td>2</td>\n",
       "      <td>0</td>\n",
       "      <td>2</td>\n",
       "      <td>4000</td>\n",
       "      <td>1496</td>\n",
       "      <td>1925</td>\n",
       "      <td>1</td>\n",
       "      <td>B2</td>\n",
       "      <td>460000</td>\n",
       "      <td>2017-07-05 00:00:00</td>\n",
       "    </tr>\n",
       "    <tr>\n",
       "      <th>84546</th>\n",
       "      <td>5</td>\n",
       "      <td>WOODROW</td>\n",
       "      <td>22 STORE BUILDINGS</td>\n",
       "      <td>4</td>\n",
       "      <td>7100</td>\n",
       "      <td>28</td>\n",
       "      <td></td>\n",
       "      <td>K6</td>\n",
       "      <td>2730 ARTHUR KILL ROAD</td>\n",
       "      <td></td>\n",
       "      <td>...</td>\n",
       "      <td>0</td>\n",
       "      <td>7</td>\n",
       "      <td>7</td>\n",
       "      <td>208033</td>\n",
       "      <td>64117</td>\n",
       "      <td>2001</td>\n",
       "      <td>4</td>\n",
       "      <td>K6</td>\n",
       "      <td>11693337</td>\n",
       "      <td>2016-12-21 00:00:00</td>\n",
       "    </tr>\n",
       "    <tr>\n",
       "      <th>84547</th>\n",
       "      <td>5</td>\n",
       "      <td>WOODROW</td>\n",
       "      <td>35 INDOOR PUBLIC AND CULTURAL FACILITIES</td>\n",
       "      <td>4</td>\n",
       "      <td>7105</td>\n",
       "      <td>679</td>\n",
       "      <td></td>\n",
       "      <td>P9</td>\n",
       "      <td>155 CLAY PIT ROAD</td>\n",
       "      <td></td>\n",
       "      <td>...</td>\n",
       "      <td>0</td>\n",
       "      <td>1</td>\n",
       "      <td>1</td>\n",
       "      <td>10796</td>\n",
       "      <td>2400</td>\n",
       "      <td>2006</td>\n",
       "      <td>4</td>\n",
       "      <td>P9</td>\n",
       "      <td>69300</td>\n",
       "      <td>2016-10-27 00:00:00</td>\n",
       "    </tr>\n",
       "  </tbody>\n",
       "</table>\n",
       "<p>5 rows × 21 columns</p>\n",
       "</div>"
      ],
      "text/plain": [
       "       BOROUGH NEIGHBORHOOD                      BUILDING CLASS CATEGORY  \\\n",
       "84543        5      WOODROW  02 TWO FAMILY DWELLINGS                       \n",
       "84544        5      WOODROW  02 TWO FAMILY DWELLINGS                       \n",
       "84545        5      WOODROW  02 TWO FAMILY DWELLINGS                       \n",
       "84546        5      WOODROW  22 STORE BUILDINGS                            \n",
       "84547        5      WOODROW  35 INDOOR PUBLIC AND CULTURAL FACILITIES      \n",
       "\n",
       "      TAX CLASS AT PRESENT  BLOCK  LOT EASE-MENT BUILDING CLASS AT PRESENT  \\\n",
       "84543                    1   7349   34                                  B9   \n",
       "84544                    1   7349   78                                  B9   \n",
       "84545                    1   7351   60                                  B2   \n",
       "84546                    4   7100   28                                  K6   \n",
       "84547                    4   7105  679                                  P9   \n",
       "\n",
       "                     ADDRESS APARTMENT NUMBER  ...  RESIDENTIAL UNITS  \\\n",
       "84543          37 QUAIL LANE                   ...                  2   \n",
       "84544       32 PHEASANT LANE                   ...                  2   \n",
       "84545       49 PITNEY AVENUE                   ...                  2   \n",
       "84546  2730 ARTHUR KILL ROAD                   ...                  0   \n",
       "84547      155 CLAY PIT ROAD                   ...                  0   \n",
       "\n",
       "       COMMERCIAL UNITS  TOTAL UNITS  LAND SQUARE FEET GROSS SQUARE FEET  \\\n",
       "84543                 0            2              2400              2575   \n",
       "84544                 0            2              2498              2377   \n",
       "84545                 0            2              4000              1496   \n",
       "84546                 7            7            208033             64117   \n",
       "84547                 1            1             10796              2400   \n",
       "\n",
       "      YEAR BUILT  TAX CLASS AT TIME OF SALE  BUILDING CLASS AT TIME OF SALE  \\\n",
       "84543       1998                          1                              B9   \n",
       "84544       1998                          1                              B9   \n",
       "84545       1925                          1                              B2   \n",
       "84546       2001                          4                              K6   \n",
       "84547       2006                          4                              P9   \n",
       "\n",
       "      SALE PRICE            SALE DATE  \n",
       "84543     450000  2016-11-28 00:00:00  \n",
       "84544     550000  2017-04-21 00:00:00  \n",
       "84545     460000  2017-07-05 00:00:00  \n",
       "84546   11693337  2016-12-21 00:00:00  \n",
       "84547      69300  2016-10-27 00:00:00  \n",
       "\n",
       "[5 rows x 21 columns]"
      ]
     },
     "execution_count": 7,
     "metadata": {},
     "output_type": "execute_result"
    }
   ],
   "source": [
    "data.tail()"
   ]
  },
  {
   "cell_type": "markdown",
   "metadata": {},
   "source": [
    "Имена столбцов (признаков) можно получить таким образом:"
   ]
  },
  {
   "cell_type": "code",
   "execution_count": 8,
   "metadata": {},
   "outputs": [
    {
     "data": {
      "text/plain": [
       "Index(['BOROUGH', 'NEIGHBORHOOD', 'BUILDING CLASS CATEGORY',\n",
       "       'TAX CLASS AT PRESENT', 'BLOCK', 'LOT', 'EASE-MENT',\n",
       "       'BUILDING CLASS AT PRESENT', 'ADDRESS', 'APARTMENT NUMBER', 'ZIP CODE',\n",
       "       'RESIDENTIAL UNITS', 'COMMERCIAL UNITS', 'TOTAL UNITS',\n",
       "       'LAND SQUARE FEET', 'GROSS SQUARE FEET', 'YEAR BUILT',\n",
       "       'TAX CLASS AT TIME OF SALE', 'BUILDING CLASS AT TIME OF SALE',\n",
       "       'SALE PRICE', 'SALE DATE'],\n",
       "      dtype='object')"
      ]
     },
     "execution_count": 8,
     "metadata": {},
     "output_type": "execute_result"
    }
   ],
   "source": [
    "data.columns"
   ]
  },
  {
   "cell_type": "markdown",
   "metadata": {},
   "source": [
    "Мы видим, что столбцы (признаки) имеют имена\n",
    "\n",
    "- BOROUGH - цифровой код района, в котором находится недвижимость  \n",
    "  Это будут наши 5 классов данных, с которыми мы будем работать:  \n",
    "\n",
    "   - 1 - Манхэттен  \n",
    "   - 2 - Бронкс  \n",
    "   - 3 - Бруклин  \n",
    "   - 4 - Куинс   \n",
    "   - 5 - Статен-Айленд\n",
    "   \n",
    "- NEIGHBORHOOD - соседний район\n",
    "- BUILDING CLASS CATEGORY - класс строения\n",
    "- TAX CLASS AT PRESENT - налоговый класс в настоящий момент\n",
    "- BLOCK - квартал\n",
    "- LOT - участок\n",
    "(Комбинация BOROUGH, BLOCK и LOT является уникальным ключом к собственности в Нью-Йорке. Обычно называется BBL)\n",
    "- EASE-MENT - сервитут - право ограниченного пользования чужим земельным участком, зданием, сооружением и другим недвижимым имуществом\n",
    "- BUILDING CLASS AT PRESENT - класс здания на настоящее время\n",
    "- ADDRESS - адрес недвижимости\n",
    "- APARTMENT NUMBER - номер квартиры\n",
    "- ZIP CODE - почтовый индекс\n",
    "- RESIDENTIAL UNITS - жилых единиц в объекте недвижимости\n",
    "- COMMERCIAL UNITS - коммерческих единиц в объекте недвижимости\n",
    "- TOTAL UNITS - всего единиц в объекте недвижимости\n",
    "- LAND SQUARE FEET - площадь земли в кв.футах\n",
    "- GROSS SQUARE FEET - валовая площадь в кв.футах\n",
    "- YEAR BUILT - год постройки\n",
    "- TAX CLASS AT TIME OF SALE - налоговый класс на момент продажи\n",
    "- BUILDING CLASS AT TIME OF SALE - класс здания на момент продажи\n",
    "- SALE PRICE - цена недвижимости при продаже\n",
    "- SALE DATE - дажа продажи\n",
    "\n",
    "Признаки: BOROUGH, ZIP CODE  - категориальные, представлены в числовом виде  \n",
    "Признаки: TAX CLASS AT PRESENT, BUILDING CLASS AT PRESENT, APARTMENT NUMBER, TAX CLASS AT TIME OF SALE, BUILDING CLASS AT TIME OF SALE, - категориальные, представлены в виде числа или числа+буквы  \n",
    "Признаки: NEIGHBORHOOD, BUILDING CLASS CATEGORY, ADDRESS, SALE DATE, EASE-MENT - категориальные  \n",
    "Признаки: BLOCK, LOT, RESIDENTIAL UNITS, COMMERCIAL UNITS, TOTAL UNITS, LAND SQUARE FEET, GROSS SQUARE FEET, EAR BUILT, SALE PRICE - числовые\n",
    "\n",
    "Требуется предсказать категориальный признак BOROUGH, представленный в числовом виде (номер кода района) по остальным признакам. Это задача классификации."
   ]
  },
  {
   "cell_type": "markdown",
   "metadata": {},
   "source": [
    "Имена строк (совпадают с номерами)"
   ]
  },
  {
   "cell_type": "code",
   "execution_count": 9,
   "metadata": {},
   "outputs": [
    {
     "data": {
      "text/plain": [
       "RangeIndex(start=0, stop=84548, step=1)"
      ]
     },
     "execution_count": 9,
     "metadata": {},
     "output_type": "execute_result"
    }
   ],
   "source": [
    "data.index"
   ]
  },
  {
   "cell_type": "code",
   "execution_count": 10,
   "metadata": {},
   "outputs": [
    {
     "data": {
      "text/plain": [
       "BOROUGH                            int64\n",
       "NEIGHBORHOOD                      object\n",
       "BUILDING CLASS CATEGORY           object\n",
       "TAX CLASS AT PRESENT              object\n",
       "BLOCK                              int64\n",
       "LOT                                int64\n",
       "EASE-MENT                         object\n",
       "BUILDING CLASS AT PRESENT         object\n",
       "ADDRESS                           object\n",
       "APARTMENT NUMBER                  object\n",
       "ZIP CODE                           int64\n",
       "RESIDENTIAL UNITS                  int64\n",
       "COMMERCIAL UNITS                   int64\n",
       "TOTAL UNITS                        int64\n",
       "LAND SQUARE FEET                  object\n",
       "GROSS SQUARE FEET                 object\n",
       "YEAR BUILT                         int64\n",
       "TAX CLASS AT TIME OF SALE          int64\n",
       "BUILDING CLASS AT TIME OF SALE    object\n",
       "SALE PRICE                        object\n",
       "SALE DATE                         object\n",
       "dtype: object"
      ]
     },
     "execution_count": 10,
     "metadata": {},
     "output_type": "execute_result"
    }
   ],
   "source": [
    "data.dtypes"
   ]
  },
  {
   "cell_type": "markdown",
   "metadata": {},
   "source": [
    "Столбцы 'NEIGHBORHOOD', 'BUILDING CLASS CATEGORY', 'TAX CLASS AT PRESENT', 'EASE-MENT', 'BUILDING CLASS AT PRESENT', 'ADDRESS', 'APARTMENT NUMBER', 'BUILDING CLASS AT TIME OF SALE' и 'SALE DATE' содержат категориальные значения. Пока имеют тип 'Object'. Приведём их к специальному типу, предназначенному для хранения категориальных значений.\n",
    "\n",
    "Столбцы 'LAND SQUARE FEET', 'GROSS SQUARE FEET' и 'SALE PRICE' содержат числовые значения, но тоже имеют тип 'Object'. Приведём их к типу float64."
   ]
  },
  {
   "cell_type": "code",
   "execution_count": 11,
   "metadata": {},
   "outputs": [],
   "source": [
    "data['NEIGHBORHOOD'] = data['NEIGHBORHOOD'].astype('category');"
   ]
  },
  {
   "cell_type": "code",
   "execution_count": 12,
   "metadata": {},
   "outputs": [],
   "source": [
    "data['BUILDING CLASS CATEGORY'] = data['BUILDING CLASS CATEGORY'].astype('category');"
   ]
  },
  {
   "cell_type": "code",
   "execution_count": 13,
   "metadata": {},
   "outputs": [],
   "source": [
    "data['TAX CLASS AT PRESENT'] = data['TAX CLASS AT PRESENT'].astype('category');"
   ]
  },
  {
   "cell_type": "code",
   "execution_count": 14,
   "metadata": {},
   "outputs": [],
   "source": [
    "data['EASE-MENT'] = data['EASE-MENT'].astype('category');"
   ]
  },
  {
   "cell_type": "code",
   "execution_count": 15,
   "metadata": {},
   "outputs": [],
   "source": [
    "data['BUILDING CLASS AT PRESENT'] = data['BUILDING CLASS AT PRESENT'].astype('category');"
   ]
  },
  {
   "cell_type": "code",
   "execution_count": 16,
   "metadata": {},
   "outputs": [],
   "source": [
    "data['ADDRESS'] = data['ADDRESS'].astype('category');"
   ]
  },
  {
   "cell_type": "code",
   "execution_count": 17,
   "metadata": {},
   "outputs": [],
   "source": [
    "data['APARTMENT NUMBER'] = data['APARTMENT NUMBER'].astype('category');"
   ]
  },
  {
   "cell_type": "code",
   "execution_count": 18,
   "metadata": {},
   "outputs": [],
   "source": [
    "data['BUILDING CLASS AT TIME OF SALE'] = data['BUILDING CLASS AT TIME OF SALE'].astype('category');"
   ]
  },
  {
   "cell_type": "code",
   "execution_count": 19,
   "metadata": {},
   "outputs": [],
   "source": [
    "data['SALE DATE'] = data['SALE DATE'].astype('category');"
   ]
  },
  {
   "cell_type": "code",
   "execution_count": 20,
   "metadata": {},
   "outputs": [],
   "source": [
    "# в столбце числа и дефисы. Переводим в числа и NaN\n",
    "data['LAND SQUARE FEET'] = pd.to_numeric(data['LAND SQUARE FEET'], errors='coerce')"
   ]
  },
  {
   "cell_type": "code",
   "execution_count": 21,
   "metadata": {},
   "outputs": [],
   "source": [
    "# в столбце числа и дефисы. Переводим в числа и NaN\n",
    "data['GROSS SQUARE FEET'] = pd.to_numeric(data['GROSS SQUARE FEET'], errors='coerce')"
   ]
  },
  {
   "cell_type": "code",
   "execution_count": 22,
   "metadata": {},
   "outputs": [],
   "source": [
    "# в столбце числа и дефисы. Переводим в числа и NaN\n",
    "data['SALE PRICE'] = pd.to_numeric(data['SALE PRICE'], errors='coerce')"
   ]
  },
  {
   "cell_type": "code",
   "execution_count": 23,
   "metadata": {},
   "outputs": [
    {
     "data": {
      "text/plain": [
       "BOROUGH                              int64\n",
       "NEIGHBORHOOD                      category\n",
       "BUILDING CLASS CATEGORY           category\n",
       "TAX CLASS AT PRESENT              category\n",
       "BLOCK                                int64\n",
       "LOT                                  int64\n",
       "EASE-MENT                         category\n",
       "BUILDING CLASS AT PRESENT         category\n",
       "ADDRESS                           category\n",
       "APARTMENT NUMBER                  category\n",
       "ZIP CODE                             int64\n",
       "RESIDENTIAL UNITS                    int64\n",
       "COMMERCIAL UNITS                     int64\n",
       "TOTAL UNITS                          int64\n",
       "LAND SQUARE FEET                   float64\n",
       "GROSS SQUARE FEET                  float64\n",
       "YEAR BUILT                           int64\n",
       "TAX CLASS AT TIME OF SALE            int64\n",
       "BUILDING CLASS AT TIME OF SALE    category\n",
       "SALE PRICE                         float64\n",
       "SALE DATE                         category\n",
       "dtype: object"
      ]
     },
     "execution_count": 23,
     "metadata": {},
     "output_type": "execute_result"
    }
   ],
   "source": [
    "data.dtypes"
   ]
  },
  {
   "cell_type": "markdown",
   "metadata": {},
   "source": [
    "### Доступ к отдельным элементам и выделение подтаблиц (slice)"
   ]
  },
  {
   "cell_type": "code",
   "execution_count": 24,
   "metadata": {},
   "outputs": [
    {
     "data": {
      "text/plain": [
       "'C2'"
      ]
     },
     "execution_count": 24,
     "metadata": {},
     "output_type": "execute_result"
    }
   ],
   "source": [
    "data.at [4, 'BUILDING CLASS AT PRESENT']"
   ]
  },
  {
   "cell_type": "code",
   "execution_count": 25,
   "metadata": {},
   "outputs": [
    {
     "data": {
      "text/plain": [
       "'301 EAST 10TH   STREET'"
      ]
     },
     "execution_count": 25,
     "metadata": {},
     "output_type": "execute_result"
    }
   ],
   "source": [
    "data.iat [4,8]"
   ]
  },
  {
   "cell_type": "code",
   "execution_count": 26,
   "metadata": {},
   "outputs": [
    {
     "data": {
      "text/plain": [
       "0        C2\n",
       "1        C7\n",
       "2        C7\n",
       "3        C4\n",
       "4        C2\n",
       "5        C4\n",
       "6        C4\n",
       "7        C7\n",
       "8        D5\n",
       "9        D9\n",
       "10       D7\n",
       "11       D1\n",
       "12       C6\n",
       "13       C6\n",
       "14       C6\n",
       "15       C6\n",
       "16       C6\n",
       "17       C6\n",
       "18       C6\n",
       "19       C6\n",
       "20       C6\n",
       "21       C6\n",
       "22       C6\n",
       "23       C6\n",
       "24       C6\n",
       "25       C6\n",
       "26       C6\n",
       "27       C6\n",
       "28       C6\n",
       "29       C6\n",
       "         ..\n",
       "84518    B2\n",
       "84519    B2\n",
       "84520    B2\n",
       "84521    B2\n",
       "84522    B2\n",
       "84523    B9\n",
       "84524    B9\n",
       "84525    B9\n",
       "84526    B9\n",
       "84527    B9\n",
       "84528    B9\n",
       "84529    B9\n",
       "84530    B2\n",
       "84531    B9\n",
       "84532    B9\n",
       "84533    B2\n",
       "84534    B9\n",
       "84535    B2\n",
       "84536    B2\n",
       "84537    B2\n",
       "84538    B2\n",
       "84539    B2\n",
       "84540    B2\n",
       "84541    B2\n",
       "84542    B9\n",
       "84543    B9\n",
       "84544    B9\n",
       "84545    B2\n",
       "84546    K6\n",
       "84547    P9\n",
       "Name: BUILDING CLASS AT PRESENT, Length: 84548, dtype: category\n",
       "Categories (167, object): [, A0, A1, A2, ..., Z2, Z3, Z7, Z9]"
      ]
     },
     "execution_count": 26,
     "metadata": {},
     "output_type": "execute_result"
    }
   ],
   "source": [
    "data['BUILDING CLASS AT PRESENT']"
   ]
  },
  {
   "cell_type": "code",
   "execution_count": 27,
   "metadata": {},
   "outputs": [
    {
     "data": {
      "text/plain": [
       "'C7'"
      ]
     },
     "execution_count": 27,
     "metadata": {},
     "output_type": "execute_result"
    }
   ],
   "source": [
    "data['BUILDING CLASS AT PRESENT'][1]"
   ]
  },
  {
   "cell_type": "code",
   "execution_count": 28,
   "metadata": {},
   "outputs": [
    {
     "data": {
      "text/plain": [
       "'int64'"
      ]
     },
     "execution_count": 28,
     "metadata": {},
     "output_type": "execute_result"
    }
   ],
   "source": [
    "data['BLOCK'].dtype.name"
   ]
  },
  {
   "cell_type": "code",
   "execution_count": 29,
   "metadata": {},
   "outputs": [
    {
     "data": {
      "text/plain": [
       "str"
      ]
     },
     "execution_count": 29,
     "metadata": {},
     "output_type": "execute_result"
    }
   ],
   "source": [
    "type(data['BUILDING CLASS AT PRESENT'][3])"
   ]
  },
  {
   "cell_type": "code",
   "execution_count": 30,
   "metadata": {},
   "outputs": [
    {
     "data": {
      "text/plain": [
       "pandas.core.series.Series"
      ]
     },
     "execution_count": 30,
     "metadata": {},
     "output_type": "execute_result"
    }
   ],
   "source": [
    "type(data['BUILDING CLASS AT PRESENT'])"
   ]
  },
  {
   "cell_type": "code",
   "execution_count": 31,
   "metadata": {},
   "outputs": [
    {
     "data": {
      "text/html": [
       "<div>\n",
       "<style scoped>\n",
       "    .dataframe tbody tr th:only-of-type {\n",
       "        vertical-align: middle;\n",
       "    }\n",
       "\n",
       "    .dataframe tbody tr th {\n",
       "        vertical-align: top;\n",
       "    }\n",
       "\n",
       "    .dataframe thead th {\n",
       "        text-align: right;\n",
       "    }\n",
       "</style>\n",
       "<table border=\"1\" class=\"dataframe\">\n",
       "  <thead>\n",
       "    <tr style=\"text-align: right;\">\n",
       "      <th></th>\n",
       "      <th>BLOCK</th>\n",
       "      <th>ZIP CODE</th>\n",
       "      <th>SALE PRICE</th>\n",
       "    </tr>\n",
       "  </thead>\n",
       "  <tbody>\n",
       "    <tr>\n",
       "      <th>0</th>\n",
       "      <td>392</td>\n",
       "      <td>10009</td>\n",
       "      <td>6625000.0</td>\n",
       "    </tr>\n",
       "    <tr>\n",
       "      <th>1</th>\n",
       "      <td>399</td>\n",
       "      <td>10009</td>\n",
       "      <td>NaN</td>\n",
       "    </tr>\n",
       "    <tr>\n",
       "      <th>2</th>\n",
       "      <td>399</td>\n",
       "      <td>10009</td>\n",
       "      <td>NaN</td>\n",
       "    </tr>\n",
       "    <tr>\n",
       "      <th>3</th>\n",
       "      <td>402</td>\n",
       "      <td>10009</td>\n",
       "      <td>3936272.0</td>\n",
       "    </tr>\n",
       "    <tr>\n",
       "      <th>4</th>\n",
       "      <td>404</td>\n",
       "      <td>10009</td>\n",
       "      <td>8000000.0</td>\n",
       "    </tr>\n",
       "  </tbody>\n",
       "</table>\n",
       "</div>"
      ],
      "text/plain": [
       "   BLOCK  ZIP CODE  SALE PRICE\n",
       "0    392     10009   6625000.0\n",
       "1    399     10009         NaN\n",
       "2    399     10009         NaN\n",
       "3    402     10009   3936272.0\n",
       "4    404     10009   8000000.0"
      ]
     },
     "execution_count": 31,
     "metadata": {},
     "output_type": "execute_result"
    }
   ],
   "source": [
    "data[['BLOCK','ZIP CODE', 'SALE PRICE']].head()"
   ]
  },
  {
   "cell_type": "code",
   "execution_count": 32,
   "metadata": {},
   "outputs": [
    {
     "data": {
      "text/html": [
       "<div>\n",
       "<style scoped>\n",
       "    .dataframe tbody tr th:only-of-type {\n",
       "        vertical-align: middle;\n",
       "    }\n",
       "\n",
       "    .dataframe tbody tr th {\n",
       "        vertical-align: top;\n",
       "    }\n",
       "\n",
       "    .dataframe thead th {\n",
       "        text-align: right;\n",
       "    }\n",
       "</style>\n",
       "<table border=\"1\" class=\"dataframe\">\n",
       "  <thead>\n",
       "    <tr style=\"text-align: right;\">\n",
       "      <th></th>\n",
       "      <th>BLOCK</th>\n",
       "      <th>EASE-MENT</th>\n",
       "      <th>BUILDING CLASS AT PRESENT</th>\n",
       "    </tr>\n",
       "  </thead>\n",
       "  <tbody>\n",
       "    <tr>\n",
       "      <th>2</th>\n",
       "      <td>399</td>\n",
       "      <td></td>\n",
       "      <td>C7</td>\n",
       "    </tr>\n",
       "    <tr>\n",
       "      <th>3</th>\n",
       "      <td>402</td>\n",
       "      <td></td>\n",
       "      <td>C4</td>\n",
       "    </tr>\n",
       "    <tr>\n",
       "      <th>5</th>\n",
       "      <td>405</td>\n",
       "      <td></td>\n",
       "      <td>C4</td>\n",
       "    </tr>\n",
       "  </tbody>\n",
       "</table>\n",
       "</div>"
      ],
      "text/plain": [
       "   BLOCK EASE-MENT BUILDING CLASS AT PRESENT\n",
       "2    399                                  C7\n",
       "3    402                                  C4\n",
       "5    405                                  C4"
      ]
     },
     "execution_count": 32,
     "metadata": {},
     "output_type": "execute_result"
    }
   ],
   "source": [
    "data.iloc[[2,3,5], [4,6,7]]"
   ]
  },
  {
   "cell_type": "code",
   "execution_count": 33,
   "metadata": {},
   "outputs": [
    {
     "data": {
      "text/html": [
       "<div>\n",
       "<style scoped>\n",
       "    .dataframe tbody tr th:only-of-type {\n",
       "        vertical-align: middle;\n",
       "    }\n",
       "\n",
       "    .dataframe tbody tr th {\n",
       "        vertical-align: top;\n",
       "    }\n",
       "\n",
       "    .dataframe thead th {\n",
       "        text-align: right;\n",
       "    }\n",
       "</style>\n",
       "<table border=\"1\" class=\"dataframe\">\n",
       "  <thead>\n",
       "    <tr style=\"text-align: right;\">\n",
       "      <th></th>\n",
       "      <th>BOROUGH</th>\n",
       "      <th>NEIGHBORHOOD</th>\n",
       "      <th>BUILDING CLASS CATEGORY</th>\n",
       "      <th>TAX CLASS AT PRESENT</th>\n",
       "      <th>BLOCK</th>\n",
       "      <th>LOT</th>\n",
       "      <th>EASE-MENT</th>\n",
       "      <th>BUILDING CLASS AT PRESENT</th>\n",
       "      <th>ADDRESS</th>\n",
       "      <th>APARTMENT NUMBER</th>\n",
       "      <th>...</th>\n",
       "      <th>RESIDENTIAL UNITS</th>\n",
       "      <th>COMMERCIAL UNITS</th>\n",
       "      <th>TOTAL UNITS</th>\n",
       "      <th>LAND SQUARE FEET</th>\n",
       "      <th>GROSS SQUARE FEET</th>\n",
       "      <th>YEAR BUILT</th>\n",
       "      <th>TAX CLASS AT TIME OF SALE</th>\n",
       "      <th>BUILDING CLASS AT TIME OF SALE</th>\n",
       "      <th>SALE PRICE</th>\n",
       "      <th>SALE DATE</th>\n",
       "    </tr>\n",
       "  </thead>\n",
       "  <tbody>\n",
       "    <tr>\n",
       "      <th>4</th>\n",
       "      <td>1</td>\n",
       "      <td>ALPHABET CITY</td>\n",
       "      <td>07 RENTALS - WALKUP APARTMENTS</td>\n",
       "      <td>2A</td>\n",
       "      <td>404</td>\n",
       "      <td>55</td>\n",
       "      <td></td>\n",
       "      <td>C2</td>\n",
       "      <td>301 EAST 10TH   STREET</td>\n",
       "      <td></td>\n",
       "      <td>...</td>\n",
       "      <td>6</td>\n",
       "      <td>0</td>\n",
       "      <td>6</td>\n",
       "      <td>2369.0</td>\n",
       "      <td>4615.0</td>\n",
       "      <td>1900</td>\n",
       "      <td>2</td>\n",
       "      <td>C2</td>\n",
       "      <td>8000000.0</td>\n",
       "      <td>2016-11-17 00:00:00</td>\n",
       "    </tr>\n",
       "    <tr>\n",
       "      <th>8</th>\n",
       "      <td>1</td>\n",
       "      <td>ALPHABET CITY</td>\n",
       "      <td>08 RENTALS - ELEVATOR APARTMENTS</td>\n",
       "      <td>2</td>\n",
       "      <td>379</td>\n",
       "      <td>34</td>\n",
       "      <td></td>\n",
       "      <td>D5</td>\n",
       "      <td>141 AVENUE D</td>\n",
       "      <td></td>\n",
       "      <td>...</td>\n",
       "      <td>15</td>\n",
       "      <td>0</td>\n",
       "      <td>15</td>\n",
       "      <td>1534.0</td>\n",
       "      <td>9198.0</td>\n",
       "      <td>1920</td>\n",
       "      <td>2</td>\n",
       "      <td>D5</td>\n",
       "      <td>NaN</td>\n",
       "      <td>2017-06-20 00:00:00</td>\n",
       "    </tr>\n",
       "  </tbody>\n",
       "</table>\n",
       "<p>2 rows × 21 columns</p>\n",
       "</div>"
      ],
      "text/plain": [
       "   BOROUGH   NEIGHBORHOOD                      BUILDING CLASS CATEGORY  \\\n",
       "4        1  ALPHABET CITY  07 RENTALS - WALKUP APARTMENTS                \n",
       "8        1  ALPHABET CITY  08 RENTALS - ELEVATOR APARTMENTS              \n",
       "\n",
       "  TAX CLASS AT PRESENT  BLOCK  LOT EASE-MENT BUILDING CLASS AT PRESENT  \\\n",
       "4                   2A    404   55                                  C2   \n",
       "8                    2    379   34                                  D5   \n",
       "\n",
       "                  ADDRESS APARTMENT NUMBER  ...  RESIDENTIAL UNITS  \\\n",
       "4  301 EAST 10TH   STREET                   ...                  6   \n",
       "8            141 AVENUE D                   ...                 15   \n",
       "\n",
       "   COMMERCIAL UNITS  TOTAL UNITS  LAND SQUARE FEET  GROSS SQUARE FEET  \\\n",
       "4                 0            6            2369.0             4615.0   \n",
       "8                 0           15            1534.0             9198.0   \n",
       "\n",
       "   YEAR BUILT  TAX CLASS AT TIME OF SALE  BUILDING CLASS AT TIME OF SALE  \\\n",
       "4        1900                          2                              C2   \n",
       "8        1920                          2                              D5   \n",
       "\n",
       "  SALE PRICE            SALE DATE  \n",
       "4  8000000.0  2016-11-17 00:00:00  \n",
       "8        NaN  2017-06-20 00:00:00  \n",
       "\n",
       "[2 rows x 21 columns]"
      ]
     },
     "execution_count": 33,
     "metadata": {},
     "output_type": "execute_result"
    }
   ],
   "source": [
    "data.loc[[4, 8], :]"
   ]
  },
  {
   "cell_type": "code",
   "execution_count": 34,
   "metadata": {},
   "outputs": [
    {
     "data": {
      "text/html": [
       "<div>\n",
       "<style scoped>\n",
       "    .dataframe tbody tr th:only-of-type {\n",
       "        vertical-align: middle;\n",
       "    }\n",
       "\n",
       "    .dataframe tbody tr th {\n",
       "        vertical-align: top;\n",
       "    }\n",
       "\n",
       "    .dataframe thead th {\n",
       "        text-align: right;\n",
       "    }\n",
       "</style>\n",
       "<table border=\"1\" class=\"dataframe\">\n",
       "  <thead>\n",
       "    <tr style=\"text-align: right;\">\n",
       "      <th></th>\n",
       "      <th>BOROUGH</th>\n",
       "      <th>BLOCK</th>\n",
       "      <th>LOT</th>\n",
       "      <th>ZIP CODE</th>\n",
       "      <th>RESIDENTIAL UNITS</th>\n",
       "      <th>COMMERCIAL UNITS</th>\n",
       "      <th>TOTAL UNITS</th>\n",
       "      <th>LAND SQUARE FEET</th>\n",
       "      <th>GROSS SQUARE FEET</th>\n",
       "      <th>YEAR BUILT</th>\n",
       "      <th>TAX CLASS AT TIME OF SALE</th>\n",
       "      <th>SALE PRICE</th>\n",
       "    </tr>\n",
       "  </thead>\n",
       "  <tbody>\n",
       "    <tr>\n",
       "      <th>count</th>\n",
       "      <td>84548.000000</td>\n",
       "      <td>84548.000000</td>\n",
       "      <td>84548.000000</td>\n",
       "      <td>84548.000000</td>\n",
       "      <td>84548.000000</td>\n",
       "      <td>84548.000000</td>\n",
       "      <td>84548.000000</td>\n",
       "      <td>5.829600e+04</td>\n",
       "      <td>5.693600e+04</td>\n",
       "      <td>84548.000000</td>\n",
       "      <td>84548.000000</td>\n",
       "      <td>6.998700e+04</td>\n",
       "    </tr>\n",
       "    <tr>\n",
       "      <th>mean</th>\n",
       "      <td>2.998758</td>\n",
       "      <td>4237.218976</td>\n",
       "      <td>376.224015</td>\n",
       "      <td>10731.991614</td>\n",
       "      <td>2.025264</td>\n",
       "      <td>0.193559</td>\n",
       "      <td>2.249184</td>\n",
       "      <td>3.941676e+03</td>\n",
       "      <td>4.045707e+03</td>\n",
       "      <td>1789.322976</td>\n",
       "      <td>1.657485</td>\n",
       "      <td>1.276456e+06</td>\n",
       "    </tr>\n",
       "    <tr>\n",
       "      <th>std</th>\n",
       "      <td>1.289790</td>\n",
       "      <td>3568.263407</td>\n",
       "      <td>658.136814</td>\n",
       "      <td>1290.879147</td>\n",
       "      <td>16.721037</td>\n",
       "      <td>8.713183</td>\n",
       "      <td>18.972584</td>\n",
       "      <td>4.198397e+04</td>\n",
       "      <td>3.503249e+04</td>\n",
       "      <td>537.344993</td>\n",
       "      <td>0.819341</td>\n",
       "      <td>1.140526e+07</td>\n",
       "    </tr>\n",
       "    <tr>\n",
       "      <th>min</th>\n",
       "      <td>1.000000</td>\n",
       "      <td>1.000000</td>\n",
       "      <td>1.000000</td>\n",
       "      <td>0.000000</td>\n",
       "      <td>0.000000</td>\n",
       "      <td>0.000000</td>\n",
       "      <td>0.000000</td>\n",
       "      <td>0.000000e+00</td>\n",
       "      <td>0.000000e+00</td>\n",
       "      <td>0.000000</td>\n",
       "      <td>1.000000</td>\n",
       "      <td>0.000000e+00</td>\n",
       "    </tr>\n",
       "    <tr>\n",
       "      <th>25%</th>\n",
       "      <td>2.000000</td>\n",
       "      <td>1322.750000</td>\n",
       "      <td>22.000000</td>\n",
       "      <td>10305.000000</td>\n",
       "      <td>0.000000</td>\n",
       "      <td>0.000000</td>\n",
       "      <td>1.000000</td>\n",
       "      <td>1.650000e+03</td>\n",
       "      <td>1.046750e+03</td>\n",
       "      <td>1920.000000</td>\n",
       "      <td>1.000000</td>\n",
       "      <td>2.250000e+05</td>\n",
       "    </tr>\n",
       "    <tr>\n",
       "      <th>50%</th>\n",
       "      <td>3.000000</td>\n",
       "      <td>3311.000000</td>\n",
       "      <td>50.000000</td>\n",
       "      <td>11209.000000</td>\n",
       "      <td>1.000000</td>\n",
       "      <td>0.000000</td>\n",
       "      <td>1.000000</td>\n",
       "      <td>2.325000e+03</td>\n",
       "      <td>1.680000e+03</td>\n",
       "      <td>1940.000000</td>\n",
       "      <td>2.000000</td>\n",
       "      <td>5.300000e+05</td>\n",
       "    </tr>\n",
       "    <tr>\n",
       "      <th>75%</th>\n",
       "      <td>4.000000</td>\n",
       "      <td>6281.000000</td>\n",
       "      <td>1001.000000</td>\n",
       "      <td>11357.000000</td>\n",
       "      <td>2.000000</td>\n",
       "      <td>0.000000</td>\n",
       "      <td>2.000000</td>\n",
       "      <td>3.500000e+03</td>\n",
       "      <td>2.560000e+03</td>\n",
       "      <td>1965.000000</td>\n",
       "      <td>2.000000</td>\n",
       "      <td>9.500000e+05</td>\n",
       "    </tr>\n",
       "    <tr>\n",
       "      <th>max</th>\n",
       "      <td>5.000000</td>\n",
       "      <td>16322.000000</td>\n",
       "      <td>9106.000000</td>\n",
       "      <td>11694.000000</td>\n",
       "      <td>1844.000000</td>\n",
       "      <td>2261.000000</td>\n",
       "      <td>2261.000000</td>\n",
       "      <td>4.252327e+06</td>\n",
       "      <td>3.750565e+06</td>\n",
       "      <td>2017.000000</td>\n",
       "      <td>4.000000</td>\n",
       "      <td>2.210000e+09</td>\n",
       "    </tr>\n",
       "  </tbody>\n",
       "</table>\n",
       "</div>"
      ],
      "text/plain": [
       "            BOROUGH         BLOCK           LOT      ZIP CODE  \\\n",
       "count  84548.000000  84548.000000  84548.000000  84548.000000   \n",
       "mean       2.998758   4237.218976    376.224015  10731.991614   \n",
       "std        1.289790   3568.263407    658.136814   1290.879147   \n",
       "min        1.000000      1.000000      1.000000      0.000000   \n",
       "25%        2.000000   1322.750000     22.000000  10305.000000   \n",
       "50%        3.000000   3311.000000     50.000000  11209.000000   \n",
       "75%        4.000000   6281.000000   1001.000000  11357.000000   \n",
       "max        5.000000  16322.000000   9106.000000  11694.000000   \n",
       "\n",
       "       RESIDENTIAL UNITS  COMMERCIAL UNITS   TOTAL UNITS  LAND SQUARE FEET  \\\n",
       "count       84548.000000      84548.000000  84548.000000      5.829600e+04   \n",
       "mean            2.025264          0.193559      2.249184      3.941676e+03   \n",
       "std            16.721037          8.713183     18.972584      4.198397e+04   \n",
       "min             0.000000          0.000000      0.000000      0.000000e+00   \n",
       "25%             0.000000          0.000000      1.000000      1.650000e+03   \n",
       "50%             1.000000          0.000000      1.000000      2.325000e+03   \n",
       "75%             2.000000          0.000000      2.000000      3.500000e+03   \n",
       "max          1844.000000       2261.000000   2261.000000      4.252327e+06   \n",
       "\n",
       "       GROSS SQUARE FEET    YEAR BUILT  TAX CLASS AT TIME OF SALE  \\\n",
       "count       5.693600e+04  84548.000000               84548.000000   \n",
       "mean        4.045707e+03   1789.322976                   1.657485   \n",
       "std         3.503249e+04    537.344993                   0.819341   \n",
       "min         0.000000e+00      0.000000                   1.000000   \n",
       "25%         1.046750e+03   1920.000000                   1.000000   \n",
       "50%         1.680000e+03   1940.000000                   2.000000   \n",
       "75%         2.560000e+03   1965.000000                   2.000000   \n",
       "max         3.750565e+06   2017.000000                   4.000000   \n",
       "\n",
       "         SALE PRICE  \n",
       "count  6.998700e+04  \n",
       "mean   1.276456e+06  \n",
       "std    1.140526e+07  \n",
       "min    0.000000e+00  \n",
       "25%    2.250000e+05  \n",
       "50%    5.300000e+05  \n",
       "75%    9.500000e+05  \n",
       "max    2.210000e+09  "
      ]
     },
     "execution_count": 34,
     "metadata": {},
     "output_type": "execute_result"
    }
   ],
   "source": [
    "data.describe()"
   ]
  },
  {
   "cell_type": "markdown",
   "metadata": {},
   "source": [
    "### Доступ по булевой маске"
   ]
  },
  {
   "cell_type": "code",
   "execution_count": 35,
   "metadata": {},
   "outputs": [
    {
     "data": {
      "text/html": [
       "<div>\n",
       "<style scoped>\n",
       "    .dataframe tbody tr th:only-of-type {\n",
       "        vertical-align: middle;\n",
       "    }\n",
       "\n",
       "    .dataframe tbody tr th {\n",
       "        vertical-align: top;\n",
       "    }\n",
       "\n",
       "    .dataframe thead th {\n",
       "        text-align: right;\n",
       "    }\n",
       "</style>\n",
       "<table border=\"1\" class=\"dataframe\">\n",
       "  <thead>\n",
       "    <tr style=\"text-align: right;\">\n",
       "      <th></th>\n",
       "      <th>TAX CLASS AT PRESENT</th>\n",
       "      <th>BLOCK</th>\n",
       "      <th>LOT</th>\n",
       "    </tr>\n",
       "  </thead>\n",
       "  <tbody>\n",
       "    <tr>\n",
       "      <th>0</th>\n",
       "      <td>2A</td>\n",
       "      <td>392</td>\n",
       "      <td>6</td>\n",
       "    </tr>\n",
       "    <tr>\n",
       "      <th>1</th>\n",
       "      <td>2</td>\n",
       "      <td>399</td>\n",
       "      <td>26</td>\n",
       "    </tr>\n",
       "    <tr>\n",
       "      <th>2</th>\n",
       "      <td>2</td>\n",
       "      <td>399</td>\n",
       "      <td>39</td>\n",
       "    </tr>\n",
       "    <tr>\n",
       "      <th>3</th>\n",
       "      <td>2B</td>\n",
       "      <td>402</td>\n",
       "      <td>21</td>\n",
       "    </tr>\n",
       "  </tbody>\n",
       "</table>\n",
       "</div>"
      ],
      "text/plain": [
       "  TAX CLASS AT PRESENT  BLOCK  LOT\n",
       "0                   2A    392    6\n",
       "1                    2    399   26\n",
       "2                    2    399   39\n",
       "3                   2B    402   21"
      ]
     },
     "execution_count": 35,
     "metadata": {},
     "output_type": "execute_result"
    }
   ],
   "source": [
    "df = data.iloc[:4, 3:6]\n",
    "df"
   ]
  },
  {
   "cell_type": "code",
   "execution_count": 36,
   "metadata": {},
   "outputs": [
    {
     "data": {
      "text/html": [
       "<div>\n",
       "<style scoped>\n",
       "    .dataframe tbody tr th:only-of-type {\n",
       "        vertical-align: middle;\n",
       "    }\n",
       "\n",
       "    .dataframe tbody tr th {\n",
       "        vertical-align: top;\n",
       "    }\n",
       "\n",
       "    .dataframe thead th {\n",
       "        text-align: right;\n",
       "    }\n",
       "</style>\n",
       "<table border=\"1\" class=\"dataframe\">\n",
       "  <thead>\n",
       "    <tr style=\"text-align: right;\">\n",
       "      <th></th>\n",
       "      <th>BLOCK</th>\n",
       "      <th>LOT</th>\n",
       "    </tr>\n",
       "  </thead>\n",
       "  <tbody>\n",
       "    <tr>\n",
       "      <th>0</th>\n",
       "      <td>392</td>\n",
       "      <td>6</td>\n",
       "    </tr>\n",
       "    <tr>\n",
       "      <th>1</th>\n",
       "      <td>399</td>\n",
       "      <td>26</td>\n",
       "    </tr>\n",
       "    <tr>\n",
       "      <th>3</th>\n",
       "      <td>402</td>\n",
       "      <td>21</td>\n",
       "    </tr>\n",
       "  </tbody>\n",
       "</table>\n",
       "</div>"
      ],
      "text/plain": [
       "   BLOCK  LOT\n",
       "0    392    6\n",
       "1    399   26\n",
       "3    402   21"
      ]
     },
     "execution_count": 36,
     "metadata": {},
     "output_type": "execute_result"
    }
   ],
   "source": [
    "df.loc[[True, True, False, True], [False, True, True]]"
   ]
  },
  {
   "cell_type": "code",
   "execution_count": 37,
   "metadata": {},
   "outputs": [
    {
     "data": {
      "text/html": [
       "<div>\n",
       "<style scoped>\n",
       "    .dataframe tbody tr th:only-of-type {\n",
       "        vertical-align: middle;\n",
       "    }\n",
       "\n",
       "    .dataframe tbody tr th {\n",
       "        vertical-align: top;\n",
       "    }\n",
       "\n",
       "    .dataframe thead th {\n",
       "        text-align: right;\n",
       "    }\n",
       "</style>\n",
       "<table border=\"1\" class=\"dataframe\">\n",
       "  <thead>\n",
       "    <tr style=\"text-align: right;\">\n",
       "      <th></th>\n",
       "      <th>TAX CLASS AT PRESENT</th>\n",
       "      <th>BLOCK</th>\n",
       "      <th>LOT</th>\n",
       "    </tr>\n",
       "  </thead>\n",
       "  <tbody>\n",
       "    <tr>\n",
       "      <th>1</th>\n",
       "      <td>2</td>\n",
       "      <td>399</td>\n",
       "      <td>26</td>\n",
       "    </tr>\n",
       "  </tbody>\n",
       "</table>\n",
       "</div>"
      ],
      "text/plain": [
       "  TAX CLASS AT PRESENT  BLOCK  LOT\n",
       "1                    2    399   26"
      ]
     },
     "execution_count": 37,
     "metadata": {},
     "output_type": "execute_result"
    }
   ],
   "source": [
    "df.loc[[False, True, False, False]]"
   ]
  },
  {
   "cell_type": "code",
   "execution_count": 38,
   "metadata": {},
   "outputs": [
    {
     "data": {
      "text/html": [
       "<div>\n",
       "<style scoped>\n",
       "    .dataframe tbody tr th:only-of-type {\n",
       "        vertical-align: middle;\n",
       "    }\n",
       "\n",
       "    .dataframe tbody tr th {\n",
       "        vertical-align: top;\n",
       "    }\n",
       "\n",
       "    .dataframe thead th {\n",
       "        text-align: right;\n",
       "    }\n",
       "</style>\n",
       "<table border=\"1\" class=\"dataframe\">\n",
       "  <thead>\n",
       "    <tr style=\"text-align: right;\">\n",
       "      <th></th>\n",
       "      <th>TAX CLASS AT PRESENT</th>\n",
       "      <th>BLOCK</th>\n",
       "      <th>LOT</th>\n",
       "    </tr>\n",
       "  </thead>\n",
       "  <tbody>\n",
       "    <tr>\n",
       "      <th>1</th>\n",
       "      <td>2</td>\n",
       "      <td>399</td>\n",
       "      <td>26</td>\n",
       "    </tr>\n",
       "    <tr>\n",
       "      <th>2</th>\n",
       "      <td>2</td>\n",
       "      <td>399</td>\n",
       "      <td>39</td>\n",
       "    </tr>\n",
       "  </tbody>\n",
       "</table>\n",
       "</div>"
      ],
      "text/plain": [
       "  TAX CLASS AT PRESENT  BLOCK  LOT\n",
       "1                    2    399   26\n",
       "2                    2    399   39"
      ]
     },
     "execution_count": 38,
     "metadata": {},
     "output_type": "execute_result"
    }
   ],
   "source": [
    "df.loc[df.BLOCK == 399, ]"
   ]
  },
  {
   "cell_type": "markdown",
   "metadata": {},
   "source": [
    "# 2. Боремся с выбросами (outliers)"
   ]
  },
  {
   "cell_type": "markdown",
   "metadata": {},
   "source": [
    "Понятно, что цена недвижимости во многом зависит от ее \"размера\". Построим поэтому диаграмму рассеивания для двух признаков: 'TOTAL UNITS' и 'SALE PRICE'  \n",
    "TOTAL UNITS - число единиц в объекте недвижимости"
   ]
  },
  {
   "cell_type": "code",
   "execution_count": 39,
   "metadata": {},
   "outputs": [
    {
     "data": {
      "image/png": "[encoded data removed]",
      "text/plain": [
       "<Figure size 432x288 with 1 Axes>"
      ]
     },
     "metadata": {
      "needs_background": "light"
     },
     "output_type": "display_data"
    }
   ],
   "source": [
    "plt.scatter(x='TOTAL UNITS', y='SALE PRICE', data=data)\n",
    "pass"
   ]
  },
  {
   "cell_type": "markdown",
   "metadata": {},
   "source": [
    "Мы видим, что основная масса точек сгрудилась в левом нижнем углу. Какие-то точки соответствуют объектам недвижимости с чрезмерно большими значениями признака TOTAL UNITS или SALE PRICE. Например, \n",
    "\n",
    "Это выбросы (outliers) - объекты, значения признаков которых сильно отличаются от признаков основной массы объектов, сильно выпадающих из общей картины. Возможно, это ошибки в данных. В любом случае выбросы, как правило, мешают построить хорошее решающее правило и их рекомендуется выбрасывать."
   ]
  },
  {
   "cell_type": "code",
   "execution_count": 40,
   "metadata": {},
   "outputs": [
    {
     "data": {
      "text/plain": [
       "2261"
      ]
     },
     "execution_count": 40,
     "metadata": {},
     "output_type": "execute_result"
    }
   ],
   "source": [
    "data['TOTAL UNITS'].max()"
   ]
  },
  {
   "cell_type": "code",
   "execution_count": 41,
   "metadata": {},
   "outputs": [
    {
     "data": {
      "text/plain": [
       "2210000000.0"
      ]
     },
     "execution_count": 41,
     "metadata": {},
     "output_type": "execute_result"
    }
   ],
   "source": [
    "data['SALE PRICE'].max()"
   ]
  },
  {
   "cell_type": "markdown",
   "metadata": {},
   "source": [
    "Объекты, значения признаков которых сильно отличаются от значений признаков основной массы объектов, сильно выпадающие из общей картины - это выбросы (outliers). Возможно, это ошибки в данных. Выбросы, как правило, мешают построить хорошее решающее правило. Избавимся от них."
   ]
  },
  {
   "cell_type": "code",
   "execution_count": 42,
   "metadata": {},
   "outputs": [
    {
     "data": {
      "text/plain": [
       "0.005    0.000000e+00\n",
       "0.010    0.000000e+00\n",
       "0.050    0.000000e+00\n",
       "0.100    0.000000e+00\n",
       "0.500    5.300000e+05\n",
       "0.900    1.950000e+06\n",
       "0.950    3.500000e+06\n",
       "0.990    1.245000e+07\n",
       "0.995    2.030932e+07\n",
       "Name: SALE PRICE, dtype: float64"
      ]
     },
     "execution_count": 42,
     "metadata": {},
     "output_type": "execute_result"
    }
   ],
   "source": [
    "data['SALE PRICE'].quantile([0.005,.01,.05,.1,.5,.9,.95,.99,.995])"
   ]
  },
  {
   "cell_type": "code",
   "execution_count": 43,
   "metadata": {},
   "outputs": [
    {
     "data": {
      "text/plain": [
       "0.005     0.0\n",
       "0.010     0.0\n",
       "0.050     0.0\n",
       "0.100     0.0\n",
       "0.500     1.0\n",
       "0.900     3.0\n",
       "0.950     4.0\n",
       "0.990    21.0\n",
       "0.995    42.0\n",
       "Name: TOTAL UNITS, dtype: float64"
      ]
     },
     "execution_count": 43,
     "metadata": {},
     "output_type": "execute_result"
    }
   ],
   "source": [
    "data['TOTAL UNITS'].quantile([0.005,.01,.05,.1,.5,.9,.95,.99,.995])"
   ]
  },
  {
   "cell_type": "code",
   "execution_count": 44,
   "metadata": {},
   "outputs": [
    {
     "data": {
      "text/plain": [
       "(83853, 21)"
      ]
     },
     "execution_count": 44,
     "metadata": {},
     "output_type": "execute_result"
    }
   ],
   "source": [
    "rows_to_drop = data[\n",
    "    (data['SALE PRICE'] < data['SALE PRICE'].quantile(0.005)) | (data['SALE PRICE'] > data['SALE PRICE'].quantile(0.995)) | \n",
    "    (data['TOTAL UNITS']  < data['TOTAL UNITS' ].quantile(0.005)) | (data['TOTAL UNITS']  > data['TOTAL UNITS' ].quantile(0.995))].index\n",
    "data = data.drop(rows_to_drop)\n",
    "data.shape"
   ]
  },
  {
   "cell_type": "markdown",
   "metadata": {},
   "source": [
    "Прежний размер таблицы - (84548, 21). Т.е. мы избавились от 695 выбросов.  \n",
    "Теперь максимальные значения прзнаков такие:"
   ]
  },
  {
   "cell_type": "code",
   "execution_count": 45,
   "metadata": {},
   "outputs": [
    {
     "data": {
      "text/plain": [
       "42"
      ]
     },
     "execution_count": 45,
     "metadata": {},
     "output_type": "execute_result"
    }
   ],
   "source": [
    "data['TOTAL UNITS'].max()"
   ]
  },
  {
   "cell_type": "code",
   "execution_count": 46,
   "metadata": {},
   "outputs": [
    {
     "data": {
      "text/plain": [
       "20302500.0"
      ]
     },
     "execution_count": 46,
     "metadata": {},
     "output_type": "execute_result"
    }
   ],
   "source": [
    "data['SALE PRICE'].max()"
   ]
  },
  {
   "cell_type": "code",
   "execution_count": 47,
   "metadata": {},
   "outputs": [
    {
     "data": {
      "text/plain": [
       "Int64Index([    7,    73,    75,   200,   227,   235,   236,   237,   238,\n",
       "              497,\n",
       "            ...\n",
       "            75870, 75871, 76696, 76697, 76700, 77324, 79364, 81334, 81335,\n",
       "            81562],\n",
       "           dtype='int64', length=695)"
      ]
     },
     "execution_count": 47,
     "metadata": {},
     "output_type": "execute_result"
    }
   ],
   "source": [
    "rows_to_drop"
   ]
  },
  {
   "cell_type": "markdown",
   "metadata": {},
   "source": [
    "# 3. Визуализация и описательная статистика"
   ]
  },
  {
   "cell_type": "markdown",
   "metadata": {},
   "source": [
    "Визуализация и описательная статистика - важные этапы анализа данных. Сводную информацию о признаках можем получить, вызвав метод describe:"
   ]
  },
  {
   "cell_type": "code",
   "execution_count": 48,
   "metadata": {},
   "outputs": [
    {
     "data": {
      "text/html": [
       "<div>\n",
       "<style scoped>\n",
       "    .dataframe tbody tr th:only-of-type {\n",
       "        vertical-align: middle;\n",
       "    }\n",
       "\n",
       "    .dataframe tbody tr th {\n",
       "        vertical-align: top;\n",
       "    }\n",
       "\n",
       "    .dataframe thead th {\n",
       "        text-align: right;\n",
       "    }\n",
       "</style>\n",
       "<table border=\"1\" class=\"dataframe\">\n",
       "  <thead>\n",
       "    <tr style=\"text-align: right;\">\n",
       "      <th></th>\n",
       "      <th>BOROUGH</th>\n",
       "      <th>BLOCK</th>\n",
       "      <th>LOT</th>\n",
       "      <th>ZIP CODE</th>\n",
       "      <th>RESIDENTIAL UNITS</th>\n",
       "      <th>COMMERCIAL UNITS</th>\n",
       "      <th>TOTAL UNITS</th>\n",
       "      <th>LAND SQUARE FEET</th>\n",
       "      <th>GROSS SQUARE FEET</th>\n",
       "      <th>YEAR BUILT</th>\n",
       "      <th>TAX CLASS AT TIME OF SALE</th>\n",
       "      <th>SALE PRICE</th>\n",
       "    </tr>\n",
       "  </thead>\n",
       "  <tbody>\n",
       "    <tr>\n",
       "      <th>count</th>\n",
       "      <td>83853.000000</td>\n",
       "      <td>83853.000000</td>\n",
       "      <td>83853.000000</td>\n",
       "      <td>83853.000000</td>\n",
       "      <td>83853.000000</td>\n",
       "      <td>83853.000000</td>\n",
       "      <td>83853.000000</td>\n",
       "      <td>5.769200e+04</td>\n",
       "      <td>5.635500e+04</td>\n",
       "      <td>83853.000000</td>\n",
       "      <td>83853.000000</td>\n",
       "      <td>6.940600e+04</td>\n",
       "    </tr>\n",
       "    <tr>\n",
       "      <th>mean</th>\n",
       "      <td>3.006726</td>\n",
       "      <td>4253.980466</td>\n",
       "      <td>377.541006</td>\n",
       "      <td>10734.132410</td>\n",
       "      <td>1.384220</td>\n",
       "      <td>0.101618</td>\n",
       "      <td>1.516308</td>\n",
       "      <td>3.316097e+03</td>\n",
       "      <td>2.775087e+03</td>\n",
       "      <td>1788.742991</td>\n",
       "      <td>1.650400</td>\n",
       "      <td>9.247256e+05</td>\n",
       "    </tr>\n",
       "    <tr>\n",
       "      <th>std</th>\n",
       "      <td>1.287548</td>\n",
       "      <td>3571.874128</td>\n",
       "      <td>659.545003</td>\n",
       "      <td>1293.452049</td>\n",
       "      <td>2.521844</td>\n",
       "      <td>0.708447</td>\n",
       "      <td>2.653468</td>\n",
       "      <td>2.383165e+04</td>\n",
       "      <td>1.677586e+04</td>\n",
       "      <td>538.235969</td>\n",
       "      <td>0.814926</td>\n",
       "      <td>1.633198e+06</td>\n",
       "    </tr>\n",
       "    <tr>\n",
       "      <th>min</th>\n",
       "      <td>1.000000</td>\n",
       "      <td>1.000000</td>\n",
       "      <td>1.000000</td>\n",
       "      <td>0.000000</td>\n",
       "      <td>0.000000</td>\n",
       "      <td>0.000000</td>\n",
       "      <td>0.000000</td>\n",
       "      <td>0.000000e+00</td>\n",
       "      <td>0.000000e+00</td>\n",
       "      <td>0.000000</td>\n",
       "      <td>1.000000</td>\n",
       "      <td>0.000000e+00</td>\n",
       "    </tr>\n",
       "    <tr>\n",
       "      <th>25%</th>\n",
       "      <td>2.000000</td>\n",
       "      <td>1328.000000</td>\n",
       "      <td>22.000000</td>\n",
       "      <td>10305.000000</td>\n",
       "      <td>0.000000</td>\n",
       "      <td>0.000000</td>\n",
       "      <td>1.000000</td>\n",
       "      <td>1.634750e+03</td>\n",
       "      <td>1.036000e+03</td>\n",
       "      <td>1920.000000</td>\n",
       "      <td>1.000000</td>\n",
       "      <td>2.250000e+05</td>\n",
       "    </tr>\n",
       "    <tr>\n",
       "      <th>50%</th>\n",
       "      <td>3.000000</td>\n",
       "      <td>3330.000000</td>\n",
       "      <td>50.000000</td>\n",
       "      <td>11209.000000</td>\n",
       "      <td>1.000000</td>\n",
       "      <td>0.000000</td>\n",
       "      <td>1.000000</td>\n",
       "      <td>2.300000e+03</td>\n",
       "      <td>1.669000e+03</td>\n",
       "      <td>1940.000000</td>\n",
       "      <td>2.000000</td>\n",
       "      <td>5.270000e+05</td>\n",
       "    </tr>\n",
       "    <tr>\n",
       "      <th>75%</th>\n",
       "      <td>4.000000</td>\n",
       "      <td>6315.000000</td>\n",
       "      <td>1001.000000</td>\n",
       "      <td>11357.000000</td>\n",
       "      <td>2.000000</td>\n",
       "      <td>0.000000</td>\n",
       "      <td>2.000000</td>\n",
       "      <td>3.408000e+03</td>\n",
       "      <td>2.520000e+03</td>\n",
       "      <td>1965.000000</td>\n",
       "      <td>2.000000</td>\n",
       "      <td>9.400000e+05</td>\n",
       "    </tr>\n",
       "    <tr>\n",
       "      <th>max</th>\n",
       "      <td>5.000000</td>\n",
       "      <td>16322.000000</td>\n",
       "      <td>9106.000000</td>\n",
       "      <td>11694.000000</td>\n",
       "      <td>42.000000</td>\n",
       "      <td>42.000000</td>\n",
       "      <td>42.000000</td>\n",
       "      <td>3.014056e+06</td>\n",
       "      <td>1.501878e+06</td>\n",
       "      <td>2017.000000</td>\n",
       "      <td>4.000000</td>\n",
       "      <td>2.030250e+07</td>\n",
       "    </tr>\n",
       "  </tbody>\n",
       "</table>\n",
       "</div>"
      ],
      "text/plain": [
       "            BOROUGH         BLOCK           LOT      ZIP CODE  \\\n",
       "count  83853.000000  83853.000000  83853.000000  83853.000000   \n",
       "mean       3.006726   4253.980466    377.541006  10734.132410   \n",
       "std        1.287548   3571.874128    659.545003   1293.452049   \n",
       "min        1.000000      1.000000      1.000000      0.000000   \n",
       "25%        2.000000   1328.000000     22.000000  10305.000000   \n",
       "50%        3.000000   3330.000000     50.000000  11209.000000   \n",
       "75%        4.000000   6315.000000   1001.000000  11357.000000   \n",
       "max        5.000000  16322.000000   9106.000000  11694.000000   \n",
       "\n",
       "       RESIDENTIAL UNITS  COMMERCIAL UNITS   TOTAL UNITS  LAND SQUARE FEET  \\\n",
       "count       83853.000000      83853.000000  83853.000000      5.769200e+04   \n",
       "mean            1.384220          0.101618      1.516308      3.316097e+03   \n",
       "std             2.521844          0.708447      2.653468      2.383165e+04   \n",
       "min             0.000000          0.000000      0.000000      0.000000e+00   \n",
       "25%             0.000000          0.000000      1.000000      1.634750e+03   \n",
       "50%             1.000000          0.000000      1.000000      2.300000e+03   \n",
       "75%             2.000000          0.000000      2.000000      3.408000e+03   \n",
       "max            42.000000         42.000000     42.000000      3.014056e+06   \n",
       "\n",
       "       GROSS SQUARE FEET    YEAR BUILT  TAX CLASS AT TIME OF SALE  \\\n",
       "count       5.635500e+04  83853.000000               83853.000000   \n",
       "mean        2.775087e+03   1788.742991                   1.650400   \n",
       "std         1.677586e+04    538.235969                   0.814926   \n",
       "min         0.000000e+00      0.000000                   1.000000   \n",
       "25%         1.036000e+03   1920.000000                   1.000000   \n",
       "50%         1.669000e+03   1940.000000                   2.000000   \n",
       "75%         2.520000e+03   1965.000000                   2.000000   \n",
       "max         1.501878e+06   2017.000000                   4.000000   \n",
       "\n",
       "         SALE PRICE  \n",
       "count  6.940600e+04  \n",
       "mean   9.247256e+05  \n",
       "std    1.633198e+06  \n",
       "min    0.000000e+00  \n",
       "25%    2.250000e+05  \n",
       "50%    5.270000e+05  \n",
       "75%    9.400000e+05  \n",
       "max    2.030250e+07  "
      ]
     },
     "execution_count": 48,
     "metadata": {},
     "output_type": "execute_result"
    }
   ],
   "source": [
    "data.describe()"
   ]
  },
  {
   "cell_type": "markdown",
   "metadata": {},
   "source": [
    "Для каждого количественного признака приведены средние значения, стандартное отклонение, минимальное и макимальное значения, медиана и значения квартилей.\n",
    "\n",
    "По умолчанию этот метод дает информацию только о количественных признаках. Получил информацию о категориальных:"
   ]
  },
  {
   "cell_type": "code",
   "execution_count": 49,
   "metadata": {},
   "outputs": [
    {
     "data": {
      "text/html": [
       "<div>\n",
       "<style scoped>\n",
       "    .dataframe tbody tr th:only-of-type {\n",
       "        vertical-align: middle;\n",
       "    }\n",
       "\n",
       "    .dataframe tbody tr th {\n",
       "        vertical-align: top;\n",
       "    }\n",
       "\n",
       "    .dataframe thead th {\n",
       "        text-align: right;\n",
       "    }\n",
       "</style>\n",
       "<table border=\"1\" class=\"dataframe\">\n",
       "  <thead>\n",
       "    <tr style=\"text-align: right;\">\n",
       "      <th></th>\n",
       "      <th>NEIGHBORHOOD</th>\n",
       "      <th>BUILDING CLASS CATEGORY</th>\n",
       "      <th>TAX CLASS AT PRESENT</th>\n",
       "      <th>EASE-MENT</th>\n",
       "      <th>BUILDING CLASS AT PRESENT</th>\n",
       "      <th>ADDRESS</th>\n",
       "      <th>APARTMENT NUMBER</th>\n",
       "      <th>BUILDING CLASS AT TIME OF SALE</th>\n",
       "      <th>SALE DATE</th>\n",
       "    </tr>\n",
       "  </thead>\n",
       "  <tbody>\n",
       "    <tr>\n",
       "      <th>count</th>\n",
       "      <td>83853</td>\n",
       "      <td>83853</td>\n",
       "      <td>83853</td>\n",
       "      <td>83853</td>\n",
       "      <td>83853</td>\n",
       "      <td>83853</td>\n",
       "      <td>83853</td>\n",
       "      <td>83853</td>\n",
       "      <td>83853</td>\n",
       "    </tr>\n",
       "    <tr>\n",
       "      <th>unique</th>\n",
       "      <td>254</td>\n",
       "      <td>47</td>\n",
       "      <td>11</td>\n",
       "      <td>1</td>\n",
       "      <td>160</td>\n",
       "      <td>67021</td>\n",
       "      <td>3947</td>\n",
       "      <td>159</td>\n",
       "      <td>364</td>\n",
       "    </tr>\n",
       "    <tr>\n",
       "      <th>top</th>\n",
       "      <td>FLUSHING-NORTH</td>\n",
       "      <td>01 ONE FAMILY DWELLINGS</td>\n",
       "      <td>1</td>\n",
       "      <td></td>\n",
       "      <td>D4</td>\n",
       "      <td>131-05 40TH   ROAD</td>\n",
       "      <td></td>\n",
       "      <td>R4</td>\n",
       "      <td>2017-06-29 00:00:00</td>\n",
       "    </tr>\n",
       "    <tr>\n",
       "      <th>freq</th>\n",
       "      <td>3050</td>\n",
       "      <td>18229</td>\n",
       "      <td>38624</td>\n",
       "      <td>83853</td>\n",
       "      <td>12612</td>\n",
       "      <td>210</td>\n",
       "      <td>64931</td>\n",
       "      <td>12927</td>\n",
       "      <td>526</td>\n",
       "    </tr>\n",
       "  </tbody>\n",
       "</table>\n",
       "</div>"
      ],
      "text/plain": [
       "          NEIGHBORHOOD                      BUILDING CLASS CATEGORY  \\\n",
       "count            83853                                        83853   \n",
       "unique             254                                           47   \n",
       "top     FLUSHING-NORTH  01 ONE FAMILY DWELLINGS                       \n",
       "freq              3050                                        18229   \n",
       "\n",
       "       TAX CLASS AT PRESENT EASE-MENT BUILDING CLASS AT PRESENT  \\\n",
       "count                 83853     83853                     83853   \n",
       "unique                   11         1                       160   \n",
       "top                       1                                  D4   \n",
       "freq                  38624     83853                     12612   \n",
       "\n",
       "                   ADDRESS APARTMENT NUMBER BUILDING CLASS AT TIME OF SALE  \\\n",
       "count                83853            83853                          83853   \n",
       "unique               67021             3947                            159   \n",
       "top     131-05 40TH   ROAD                                              R4   \n",
       "freq                   210            64931                          12927   \n",
       "\n",
       "                  SALE DATE  \n",
       "count                 83853  \n",
       "unique                  364  \n",
       "top     2017-06-29 00:00:00  \n",
       "freq                    526  "
      ]
     },
     "execution_count": 49,
     "metadata": {},
     "output_type": "execute_result"
    }
   ],
   "source": [
    "data.describe(include=['category'])"
   ]
  },
  {
   "cell_type": "markdown",
   "metadata": {},
   "source": [
    "### Построим все возможные диаграммы рассеивания для каждой пары переменных:"
   ]
  },
  {
   "cell_type": "code",
   "execution_count": 50,
   "metadata": {},
   "outputs": [
    {
     "data": {
      "image/png": "[encoded data removed]",
      "text/plain": [
       "<Figure size 720x720 with 144 Axes>"
      ]
     },
     "metadata": {
      "needs_background": "light"
     },
     "output_type": "display_data"
    }
   ],
   "source": [
    "from pandas.plotting import scatter_matrix\n",
    "scatter_matrix(data, alpha = .01, figsize = (10, 10))\n",
    "pass"
   ]
  },
  {
   "cell_type": "code",
   "execution_count": 51,
   "metadata": {},
   "outputs": [
    {
     "name": "stderr",
     "output_type": "stream",
     "text": [
      "C:\\Users\\sasha\\Anaconda3\\lib\\site-packages\\numpy\\lib\\histograms.py:824: RuntimeWarning: invalid value encountered in greater_equal\n",
      "  keep = (tmp_a >= first_edge)\n",
      "C:\\Users\\sasha\\Anaconda3\\lib\\site-packages\\numpy\\lib\\histograms.py:825: RuntimeWarning: invalid value encountered in less_equal\n",
      "  keep &= (tmp_a <= last_edge)\n",
      "C:\\Users\\sasha\\Anaconda3\\lib\\site-packages\\statsmodels\\nonparametric\\kde.py:447: RuntimeWarning: invalid value encountered in greater\n",
      "  X = X[np.logical_and(X > clip[0], X < clip[1])] # won't work for two columns.\n",
      "C:\\Users\\sasha\\Anaconda3\\lib\\site-packages\\statsmodels\\nonparametric\\kde.py:447: RuntimeWarning: invalid value encountered in less\n",
      "  X = X[np.logical_and(X > clip[0], X < clip[1])] # won't work for two columns.\n"
     ]
    },
    {
     "data": {
      "image/png": "[encoded data removed]",
      "text/plain": [
       "<Figure size 432x288 with 1 Axes>"
      ]
     },
     "metadata": {
      "needs_background": "light"
     },
     "output_type": "display_data"
    }
   ],
   "source": [
    "sns.distplot(data['SALE PRICE'], bins=30)\n",
    "plt.grid()\n",
    "plt.title('Распределение цен')\n",
    "pass"
   ]
  },
  {
   "cell_type": "code",
   "execution_count": 52,
   "metadata": {},
   "outputs": [
    {
     "data": {
      "image/png": "[encoded data removed]",
      "text/plain": [
       "<Figure size 432x288 with 1 Axes>"
      ]
     },
     "metadata": {
      "needs_background": "light"
     },
     "output_type": "display_data"
    }
   ],
   "source": [
    "sns.distplot(data['YEAR BUILT'], bins = 15)\n",
    "pass"
   ]
  },
  {
   "cell_type": "markdown",
   "metadata": {},
   "source": [
    "### Ящик с усами"
   ]
  },
  {
   "cell_type": "code",
   "execution_count": 53,
   "metadata": {},
   "outputs": [
    {
     "data": {
      "image/png": "[encoded data removed]",
      "text/plain": [
       "<Figure size 432x288 with 1 Axes>"
      ]
     },
     "metadata": {
      "needs_background": "light"
     },
     "output_type": "display_data"
    }
   ],
   "source": [
    "sns.boxplot(x=\"BOROUGH\", y=\"SALE PRICE\", data=data)\n",
    "pass"
   ]
  },
  {
   "cell_type": "markdown",
   "metadata": {},
   "source": [
    "### Скрипичный график"
   ]
  },
  {
   "cell_type": "code",
   "execution_count": 54,
   "metadata": {},
   "outputs": [
    {
     "data": {
      "image/png": "[encoded data removed]",
      "text/plain": [
       "<Figure size 432x288 with 1 Axes>"
      ]
     },
     "metadata": {
      "needs_background": "light"
     },
     "output_type": "display_data"
    }
   ],
   "source": [
    "sns.violinplot(x=\"BOROUGH\", y=\"SALE PRICE\", data=data)\n",
    "pass"
   ]
  },
  {
   "cell_type": "markdown",
   "metadata": {},
   "source": [
    "### Корреляционная матрица"
   ]
  },
  {
   "cell_type": "code",
   "execution_count": 55,
   "metadata": {},
   "outputs": [
    {
     "data": {
      "text/html": [
       "<div>\n",
       "<style scoped>\n",
       "    .dataframe tbody tr th:only-of-type {\n",
       "        vertical-align: middle;\n",
       "    }\n",
       "\n",
       "    .dataframe tbody tr th {\n",
       "        vertical-align: top;\n",
       "    }\n",
       "\n",
       "    .dataframe thead th {\n",
       "        text-align: right;\n",
       "    }\n",
       "</style>\n",
       "<table border=\"1\" class=\"dataframe\">\n",
       "  <thead>\n",
       "    <tr style=\"text-align: right;\">\n",
       "      <th></th>\n",
       "      <th>BOROUGH</th>\n",
       "      <th>BLOCK</th>\n",
       "      <th>LOT</th>\n",
       "      <th>ZIP CODE</th>\n",
       "      <th>RESIDENTIAL UNITS</th>\n",
       "      <th>COMMERCIAL UNITS</th>\n",
       "      <th>TOTAL UNITS</th>\n",
       "      <th>LAND SQUARE FEET</th>\n",
       "      <th>GROSS SQUARE FEET</th>\n",
       "      <th>YEAR BUILT</th>\n",
       "      <th>TAX CLASS AT TIME OF SALE</th>\n",
       "      <th>SALE PRICE</th>\n",
       "    </tr>\n",
       "  </thead>\n",
       "  <tbody>\n",
       "    <tr>\n",
       "      <th>BOROUGH</th>\n",
       "      <td>1.000000</td>\n",
       "      <td>0.415008</td>\n",
       "      <td>-0.280309</td>\n",
       "      <td>0.254475</td>\n",
       "      <td>-0.004109</td>\n",
       "      <td>-0.030572</td>\n",
       "      <td>-0.014578</td>\n",
       "      <td>0.040627</td>\n",
       "      <td>-0.080432</td>\n",
       "      <td>0.110165</td>\n",
       "      <td>-0.313527</td>\n",
       "      <td>-0.292622</td>\n",
       "    </tr>\n",
       "    <tr>\n",
       "      <th>BLOCK</th>\n",
       "      <td>0.415008</td>\n",
       "      <td>1.000000</td>\n",
       "      <td>-0.230791</td>\n",
       "      <td>0.233138</td>\n",
       "      <td>-0.015547</td>\n",
       "      <td>-0.026450</td>\n",
       "      <td>-0.025429</td>\n",
       "      <td>0.005943</td>\n",
       "      <td>-0.049407</td>\n",
       "      <td>0.071914</td>\n",
       "      <td>-0.284728</td>\n",
       "      <td>-0.240668</td>\n",
       "    </tr>\n",
       "    <tr>\n",
       "      <th>LOT</th>\n",
       "      <td>-0.280309</td>\n",
       "      <td>-0.230791</td>\n",
       "      <td>1.000000</td>\n",
       "      <td>-0.146163</td>\n",
       "      <td>-0.117791</td>\n",
       "      <td>-0.069241</td>\n",
       "      <td>-0.115470</td>\n",
       "      <td>-0.036080</td>\n",
       "      <td>-0.025767</td>\n",
       "      <td>-0.290244</td>\n",
       "      <td>0.302872</td>\n",
       "      <td>0.140299</td>\n",
       "    </tr>\n",
       "    <tr>\n",
       "      <th>ZIP CODE</th>\n",
       "      <td>0.254475</td>\n",
       "      <td>0.233138</td>\n",
       "      <td>-0.146163</td>\n",
       "      <td>1.000000</td>\n",
       "      <td>0.066686</td>\n",
       "      <td>0.008928</td>\n",
       "      <td>0.066961</td>\n",
       "      <td>-0.050795</td>\n",
       "      <td>-0.020535</td>\n",
       "      <td>0.331402</td>\n",
       "      <td>-0.142236</td>\n",
       "      <td>-0.139259</td>\n",
       "    </tr>\n",
       "    <tr>\n",
       "      <th>RESIDENTIAL UNITS</th>\n",
       "      <td>-0.004109</td>\n",
       "      <td>-0.015547</td>\n",
       "      <td>-0.117791</td>\n",
       "      <td>0.066686</td>\n",
       "      <td>1.000000</td>\n",
       "      <td>0.069135</td>\n",
       "      <td>0.962167</td>\n",
       "      <td>-0.001446</td>\n",
       "      <td>0.109486</td>\n",
       "      <td>0.095547</td>\n",
       "      <td>-0.130872</td>\n",
       "      <td>0.189651</td>\n",
       "    </tr>\n",
       "    <tr>\n",
       "      <th>COMMERCIAL UNITS</th>\n",
       "      <td>-0.030572</td>\n",
       "      <td>-0.026450</td>\n",
       "      <td>-0.069241</td>\n",
       "      <td>0.008928</td>\n",
       "      <td>0.069135</td>\n",
       "      <td>1.000000</td>\n",
       "      <td>0.329937</td>\n",
       "      <td>0.075802</td>\n",
       "      <td>0.280703</td>\n",
       "      <td>0.037446</td>\n",
       "      <td>0.261595</td>\n",
       "      <td>0.150934</td>\n",
       "    </tr>\n",
       "    <tr>\n",
       "      <th>TOTAL UNITS</th>\n",
       "      <td>-0.014578</td>\n",
       "      <td>-0.025429</td>\n",
       "      <td>-0.115470</td>\n",
       "      <td>0.066961</td>\n",
       "      <td>0.962167</td>\n",
       "      <td>0.329937</td>\n",
       "      <td>1.000000</td>\n",
       "      <td>0.018892</td>\n",
       "      <td>0.181208</td>\n",
       "      <td>0.095416</td>\n",
       "      <td>-0.021224</td>\n",
       "      <td>0.214588</td>\n",
       "    </tr>\n",
       "    <tr>\n",
       "      <th>LAND SQUARE FEET</th>\n",
       "      <td>0.040627</td>\n",
       "      <td>0.005943</td>\n",
       "      <td>-0.036080</td>\n",
       "      <td>-0.050795</td>\n",
       "      <td>-0.001446</td>\n",
       "      <td>0.075802</td>\n",
       "      <td>0.018892</td>\n",
       "      <td>1.000000</td>\n",
       "      <td>0.300632</td>\n",
       "      <td>-0.020929</td>\n",
       "      <td>0.071441</td>\n",
       "      <td>0.067542</td>\n",
       "    </tr>\n",
       "    <tr>\n",
       "      <th>GROSS SQUARE FEET</th>\n",
       "      <td>-0.080432</td>\n",
       "      <td>-0.049407</td>\n",
       "      <td>-0.025767</td>\n",
       "      <td>-0.020535</td>\n",
       "      <td>0.109486</td>\n",
       "      <td>0.280703</td>\n",
       "      <td>0.181208</td>\n",
       "      <td>0.300632</td>\n",
       "      <td>1.000000</td>\n",
       "      <td>0.037401</td>\n",
       "      <td>0.144596</td>\n",
       "      <td>0.108237</td>\n",
       "    </tr>\n",
       "    <tr>\n",
       "      <th>YEAR BUILT</th>\n",
       "      <td>0.110165</td>\n",
       "      <td>0.071914</td>\n",
       "      <td>-0.290244</td>\n",
       "      <td>0.331402</td>\n",
       "      <td>0.095547</td>\n",
       "      <td>0.037446</td>\n",
       "      <td>0.095416</td>\n",
       "      <td>-0.020929</td>\n",
       "      <td>0.037401</td>\n",
       "      <td>1.000000</td>\n",
       "      <td>-0.189440</td>\n",
       "      <td>-0.020218</td>\n",
       "    </tr>\n",
       "    <tr>\n",
       "      <th>TAX CLASS AT TIME OF SALE</th>\n",
       "      <td>-0.313527</td>\n",
       "      <td>-0.284728</td>\n",
       "      <td>0.302872</td>\n",
       "      <td>-0.142236</td>\n",
       "      <td>-0.130872</td>\n",
       "      <td>0.261595</td>\n",
       "      <td>-0.021224</td>\n",
       "      <td>0.071441</td>\n",
       "      <td>0.144596</td>\n",
       "      <td>-0.189440</td>\n",
       "      <td>1.000000</td>\n",
       "      <td>0.180003</td>\n",
       "    </tr>\n",
       "    <tr>\n",
       "      <th>SALE PRICE</th>\n",
       "      <td>-0.292622</td>\n",
       "      <td>-0.240668</td>\n",
       "      <td>0.140299</td>\n",
       "      <td>-0.139259</td>\n",
       "      <td>0.189651</td>\n",
       "      <td>0.150934</td>\n",
       "      <td>0.214588</td>\n",
       "      <td>0.067542</td>\n",
       "      <td>0.108237</td>\n",
       "      <td>-0.020218</td>\n",
       "      <td>0.180003</td>\n",
       "      <td>1.000000</td>\n",
       "    </tr>\n",
       "  </tbody>\n",
       "</table>\n",
       "</div>"
      ],
      "text/plain": [
       "                            BOROUGH     BLOCK       LOT  ZIP CODE  \\\n",
       "BOROUGH                    1.000000  0.415008 -0.280309  0.254475   \n",
       "BLOCK                      0.415008  1.000000 -0.230791  0.233138   \n",
       "LOT                       -0.280309 -0.230791  1.000000 -0.146163   \n",
       "ZIP CODE                   0.254475  0.233138 -0.146163  1.000000   \n",
       "RESIDENTIAL UNITS         -0.004109 -0.015547 -0.117791  0.066686   \n",
       "COMMERCIAL UNITS          -0.030572 -0.026450 -0.069241  0.008928   \n",
       "TOTAL UNITS               -0.014578 -0.025429 -0.115470  0.066961   \n",
       "LAND SQUARE FEET           0.040627  0.005943 -0.036080 -0.050795   \n",
       "GROSS SQUARE FEET         -0.080432 -0.049407 -0.025767 -0.020535   \n",
       "YEAR BUILT                 0.110165  0.071914 -0.290244  0.331402   \n",
       "TAX CLASS AT TIME OF SALE -0.313527 -0.284728  0.302872 -0.142236   \n",
       "SALE PRICE                -0.292622 -0.240668  0.140299 -0.139259   \n",
       "\n",
       "                           RESIDENTIAL UNITS  COMMERCIAL UNITS  TOTAL UNITS  \\\n",
       "BOROUGH                            -0.004109         -0.030572    -0.014578   \n",
       "BLOCK                              -0.015547         -0.026450    -0.025429   \n",
       "LOT                                -0.117791         -0.069241    -0.115470   \n",
       "ZIP CODE                            0.066686          0.008928     0.066961   \n",
       "RESIDENTIAL UNITS                   1.000000          0.069135     0.962167   \n",
       "COMMERCIAL UNITS                    0.069135          1.000000     0.329937   \n",
       "TOTAL UNITS                         0.962167          0.329937     1.000000   \n",
       "LAND SQUARE FEET                   -0.001446          0.075802     0.018892   \n",
       "GROSS SQUARE FEET                   0.109486          0.280703     0.181208   \n",
       "YEAR BUILT                          0.095547          0.037446     0.095416   \n",
       "TAX CLASS AT TIME OF SALE          -0.130872          0.261595    -0.021224   \n",
       "SALE PRICE                          0.189651          0.150934     0.214588   \n",
       "\n",
       "                           LAND SQUARE FEET  GROSS SQUARE FEET  YEAR BUILT  \\\n",
       "BOROUGH                            0.040627          -0.080432    0.110165   \n",
       "BLOCK                              0.005943          -0.049407    0.071914   \n",
       "LOT                               -0.036080          -0.025767   -0.290244   \n",
       "ZIP CODE                          -0.050795          -0.020535    0.331402   \n",
       "RESIDENTIAL UNITS                 -0.001446           0.109486    0.095547   \n",
       "COMMERCIAL UNITS                   0.075802           0.280703    0.037446   \n",
       "TOTAL UNITS                        0.018892           0.181208    0.095416   \n",
       "LAND SQUARE FEET                   1.000000           0.300632   -0.020929   \n",
       "GROSS SQUARE FEET                  0.300632           1.000000    0.037401   \n",
       "YEAR BUILT                        -0.020929           0.037401    1.000000   \n",
       "TAX CLASS AT TIME OF SALE          0.071441           0.144596   -0.189440   \n",
       "SALE PRICE                         0.067542           0.108237   -0.020218   \n",
       "\n",
       "                           TAX CLASS AT TIME OF SALE  SALE PRICE  \n",
       "BOROUGH                                    -0.313527   -0.292622  \n",
       "BLOCK                                      -0.284728   -0.240668  \n",
       "LOT                                         0.302872    0.140299  \n",
       "ZIP CODE                                   -0.142236   -0.139259  \n",
       "RESIDENTIAL UNITS                          -0.130872    0.189651  \n",
       "COMMERCIAL UNITS                            0.261595    0.150934  \n",
       "TOTAL UNITS                                -0.021224    0.214588  \n",
       "LAND SQUARE FEET                            0.071441    0.067542  \n",
       "GROSS SQUARE FEET                           0.144596    0.108237  \n",
       "YEAR BUILT                                 -0.189440   -0.020218  \n",
       "TAX CLASS AT TIME OF SALE                   1.000000    0.180003  \n",
       "SALE PRICE                                  0.180003    1.000000  "
      ]
     },
     "execution_count": 55,
     "metadata": {},
     "output_type": "execute_result"
    }
   ],
   "source": [
    "corr_mat = data.corr()\n",
    "corr_mat"
   ]
  },
  {
   "cell_type": "markdown",
   "metadata": {},
   "source": [
    "Удобно использовать визуальный образ этой матрицы. Чем светлее ячейка, тем больше по абсолютной величине коэффициент корреляции:"
   ]
  },
  {
   "cell_type": "code",
   "execution_count": 56,
   "metadata": {},
   "outputs": [
    {
     "data": {
      "image/png": "[encoded data removed]",
      "text/plain": [
       "<Figure size 432x288 with 2 Axes>"
      ]
     },
     "metadata": {
      "needs_background": "light"
     },
     "output_type": "display_data"
    }
   ],
   "source": [
    "sns.heatmap(corr_mat, square=True, cmap='coolwarm')\n",
    "pass"
   ]
  },
  {
   "cell_type": "code",
   "execution_count": 57,
   "metadata": {},
   "outputs": [
    {
     "data": {
      "text/html": [
       "<div>\n",
       "<style scoped>\n",
       "    .dataframe tbody tr th:only-of-type {\n",
       "        vertical-align: middle;\n",
       "    }\n",
       "\n",
       "    .dataframe tbody tr th {\n",
       "        vertical-align: top;\n",
       "    }\n",
       "\n",
       "    .dataframe thead th {\n",
       "        text-align: right;\n",
       "    }\n",
       "</style>\n",
       "<table border=\"1\" class=\"dataframe\">\n",
       "  <thead>\n",
       "    <tr style=\"text-align: right;\">\n",
       "      <th></th>\n",
       "      <th>BOROUGH</th>\n",
       "      <th>BLOCK</th>\n",
       "      <th>LOT</th>\n",
       "      <th>ZIP CODE</th>\n",
       "      <th>RESIDENTIAL UNITS</th>\n",
       "      <th>COMMERCIAL UNITS</th>\n",
       "      <th>TOTAL UNITS</th>\n",
       "      <th>LAND SQUARE FEET</th>\n",
       "      <th>GROSS SQUARE FEET</th>\n",
       "      <th>YEAR BUILT</th>\n",
       "      <th>TAX CLASS AT TIME OF SALE</th>\n",
       "      <th>SALE PRICE</th>\n",
       "    </tr>\n",
       "  </thead>\n",
       "  <tbody>\n",
       "    <tr>\n",
       "      <th>BOROUGH</th>\n",
       "      <td>True</td>\n",
       "      <td>False</td>\n",
       "      <td>False</td>\n",
       "      <td>False</td>\n",
       "      <td>False</td>\n",
       "      <td>False</td>\n",
       "      <td>False</td>\n",
       "      <td>False</td>\n",
       "      <td>False</td>\n",
       "      <td>False</td>\n",
       "      <td>False</td>\n",
       "      <td>False</td>\n",
       "    </tr>\n",
       "    <tr>\n",
       "      <th>BLOCK</th>\n",
       "      <td>False</td>\n",
       "      <td>True</td>\n",
       "      <td>False</td>\n",
       "      <td>False</td>\n",
       "      <td>False</td>\n",
       "      <td>False</td>\n",
       "      <td>False</td>\n",
       "      <td>False</td>\n",
       "      <td>False</td>\n",
       "      <td>False</td>\n",
       "      <td>False</td>\n",
       "      <td>False</td>\n",
       "    </tr>\n",
       "    <tr>\n",
       "      <th>LOT</th>\n",
       "      <td>False</td>\n",
       "      <td>False</td>\n",
       "      <td>True</td>\n",
       "      <td>False</td>\n",
       "      <td>False</td>\n",
       "      <td>False</td>\n",
       "      <td>False</td>\n",
       "      <td>False</td>\n",
       "      <td>False</td>\n",
       "      <td>False</td>\n",
       "      <td>False</td>\n",
       "      <td>False</td>\n",
       "    </tr>\n",
       "    <tr>\n",
       "      <th>ZIP CODE</th>\n",
       "      <td>False</td>\n",
       "      <td>False</td>\n",
       "      <td>False</td>\n",
       "      <td>True</td>\n",
       "      <td>False</td>\n",
       "      <td>False</td>\n",
       "      <td>False</td>\n",
       "      <td>False</td>\n",
       "      <td>False</td>\n",
       "      <td>False</td>\n",
       "      <td>False</td>\n",
       "      <td>False</td>\n",
       "    </tr>\n",
       "    <tr>\n",
       "      <th>RESIDENTIAL UNITS</th>\n",
       "      <td>False</td>\n",
       "      <td>False</td>\n",
       "      <td>False</td>\n",
       "      <td>False</td>\n",
       "      <td>True</td>\n",
       "      <td>False</td>\n",
       "      <td>True</td>\n",
       "      <td>False</td>\n",
       "      <td>False</td>\n",
       "      <td>False</td>\n",
       "      <td>False</td>\n",
       "      <td>False</td>\n",
       "    </tr>\n",
       "    <tr>\n",
       "      <th>COMMERCIAL UNITS</th>\n",
       "      <td>False</td>\n",
       "      <td>False</td>\n",
       "      <td>False</td>\n",
       "      <td>False</td>\n",
       "      <td>False</td>\n",
       "      <td>True</td>\n",
       "      <td>False</td>\n",
       "      <td>False</td>\n",
       "      <td>False</td>\n",
       "      <td>False</td>\n",
       "      <td>False</td>\n",
       "      <td>False</td>\n",
       "    </tr>\n",
       "    <tr>\n",
       "      <th>TOTAL UNITS</th>\n",
       "      <td>False</td>\n",
       "      <td>False</td>\n",
       "      <td>False</td>\n",
       "      <td>False</td>\n",
       "      <td>True</td>\n",
       "      <td>False</td>\n",
       "      <td>True</td>\n",
       "      <td>False</td>\n",
       "      <td>False</td>\n",
       "      <td>False</td>\n",
       "      <td>False</td>\n",
       "      <td>False</td>\n",
       "    </tr>\n",
       "    <tr>\n",
       "      <th>LAND SQUARE FEET</th>\n",
       "      <td>False</td>\n",
       "      <td>False</td>\n",
       "      <td>False</td>\n",
       "      <td>False</td>\n",
       "      <td>False</td>\n",
       "      <td>False</td>\n",
       "      <td>False</td>\n",
       "      <td>True</td>\n",
       "      <td>False</td>\n",
       "      <td>False</td>\n",
       "      <td>False</td>\n",
       "      <td>False</td>\n",
       "    </tr>\n",
       "    <tr>\n",
       "      <th>GROSS SQUARE FEET</th>\n",
       "      <td>False</td>\n",
       "      <td>False</td>\n",
       "      <td>False</td>\n",
       "      <td>False</td>\n",
       "      <td>False</td>\n",
       "      <td>False</td>\n",
       "      <td>False</td>\n",
       "      <td>False</td>\n",
       "      <td>True</td>\n",
       "      <td>False</td>\n",
       "      <td>False</td>\n",
       "      <td>False</td>\n",
       "    </tr>\n",
       "    <tr>\n",
       "      <th>YEAR BUILT</th>\n",
       "      <td>False</td>\n",
       "      <td>False</td>\n",
       "      <td>False</td>\n",
       "      <td>False</td>\n",
       "      <td>False</td>\n",
       "      <td>False</td>\n",
       "      <td>False</td>\n",
       "      <td>False</td>\n",
       "      <td>False</td>\n",
       "      <td>True</td>\n",
       "      <td>False</td>\n",
       "      <td>False</td>\n",
       "    </tr>\n",
       "    <tr>\n",
       "      <th>TAX CLASS AT TIME OF SALE</th>\n",
       "      <td>False</td>\n",
       "      <td>False</td>\n",
       "      <td>False</td>\n",
       "      <td>False</td>\n",
       "      <td>False</td>\n",
       "      <td>False</td>\n",
       "      <td>False</td>\n",
       "      <td>False</td>\n",
       "      <td>False</td>\n",
       "      <td>False</td>\n",
       "      <td>True</td>\n",
       "      <td>False</td>\n",
       "    </tr>\n",
       "    <tr>\n",
       "      <th>SALE PRICE</th>\n",
       "      <td>False</td>\n",
       "      <td>False</td>\n",
       "      <td>False</td>\n",
       "      <td>False</td>\n",
       "      <td>False</td>\n",
       "      <td>False</td>\n",
       "      <td>False</td>\n",
       "      <td>False</td>\n",
       "      <td>False</td>\n",
       "      <td>False</td>\n",
       "      <td>False</td>\n",
       "      <td>True</td>\n",
       "    </tr>\n",
       "  </tbody>\n",
       "</table>\n",
       "</div>"
      ],
      "text/plain": [
       "                           BOROUGH  BLOCK    LOT  ZIP CODE  RESIDENTIAL UNITS  \\\n",
       "BOROUGH                       True  False  False     False              False   \n",
       "BLOCK                        False   True  False     False              False   \n",
       "LOT                          False  False   True     False              False   \n",
       "ZIP CODE                     False  False  False      True              False   \n",
       "RESIDENTIAL UNITS            False  False  False     False               True   \n",
       "COMMERCIAL UNITS             False  False  False     False              False   \n",
       "TOTAL UNITS                  False  False  False     False               True   \n",
       "LAND SQUARE FEET             False  False  False     False              False   \n",
       "GROSS SQUARE FEET            False  False  False     False              False   \n",
       "YEAR BUILT                   False  False  False     False              False   \n",
       "TAX CLASS AT TIME OF SALE    False  False  False     False              False   \n",
       "SALE PRICE                   False  False  False     False              False   \n",
       "\n",
       "                           COMMERCIAL UNITS  TOTAL UNITS  LAND SQUARE FEET  \\\n",
       "BOROUGH                               False        False             False   \n",
       "BLOCK                                 False        False             False   \n",
       "LOT                                   False        False             False   \n",
       "ZIP CODE                              False        False             False   \n",
       "RESIDENTIAL UNITS                     False         True             False   \n",
       "COMMERCIAL UNITS                       True        False             False   \n",
       "TOTAL UNITS                           False         True             False   \n",
       "LAND SQUARE FEET                      False        False              True   \n",
       "GROSS SQUARE FEET                     False        False             False   \n",
       "YEAR BUILT                            False        False             False   \n",
       "TAX CLASS AT TIME OF SALE             False        False             False   \n",
       "SALE PRICE                            False        False             False   \n",
       "\n",
       "                           GROSS SQUARE FEET  YEAR BUILT  \\\n",
       "BOROUGH                                False       False   \n",
       "BLOCK                                  False       False   \n",
       "LOT                                    False       False   \n",
       "ZIP CODE                               False       False   \n",
       "RESIDENTIAL UNITS                      False       False   \n",
       "COMMERCIAL UNITS                       False       False   \n",
       "TOTAL UNITS                            False       False   \n",
       "LAND SQUARE FEET                       False       False   \n",
       "GROSS SQUARE FEET                       True       False   \n",
       "YEAR BUILT                             False        True   \n",
       "TAX CLASS AT TIME OF SALE              False       False   \n",
       "SALE PRICE                             False       False   \n",
       "\n",
       "                           TAX CLASS AT TIME OF SALE  SALE PRICE  \n",
       "BOROUGH                                        False       False  \n",
       "BLOCK                                          False       False  \n",
       "LOT                                            False       False  \n",
       "ZIP CODE                                       False       False  \n",
       "RESIDENTIAL UNITS                              False       False  \n",
       "COMMERCIAL UNITS                               False       False  \n",
       "TOTAL UNITS                                    False       False  \n",
       "LAND SQUARE FEET                               False       False  \n",
       "GROSS SQUARE FEET                              False       False  \n",
       "YEAR BUILT                                     False       False  \n",
       "TAX CLASS AT TIME OF SALE                       True       False  \n",
       "SALE PRICE                                     False        True  "
      ]
     },
     "execution_count": 57,
     "metadata": {},
     "output_type": "execute_result"
    }
   ],
   "source": [
    "corr_mat > 0.5"
   ]
  },
  {
   "cell_type": "code",
   "execution_count": 58,
   "metadata": {},
   "outputs": [
    {
     "data": {
      "text/plain": [
       "RESIDENTIAL UNITS  TOTAL UNITS    0.962167\n",
       "dtype: float64"
      ]
     },
     "execution_count": 58,
     "metadata": {},
     "output_type": "execute_result"
    }
   ],
   "source": [
    "corr_mat.where(np.triu(corr_mat > 0.5, k=1)).stack().sort_values(ascending=False)"
   ]
  },
  {
   "cell_type": "markdown",
   "metadata": {},
   "source": [
    "Коэффициент корреляции RESIDENTIAL UNITS и TOTAL UNITS близок к 1, т.е. между этими признаками наблюдается положительная корреляция\n",
    "Напомним, что\n",
    "- RESIDENTIAL UNITS - жилых единиц в объекте недвижимости\n",
    "- TOTAL UNITS - всего единиц в объекте недвижимости\n",
    "- COMMERCIAL UNITS - коммерческих единиц в объекте недвижимости\n",
    "\n",
    "*TOTAL UNITS = RESIDENTIAL UNITS + COMMERCIAL UNITS*\n",
    "\n",
    "Наблюдается высокая степень связи между RESIDENTIAL UNITS и TOTAL UNITS. Вклад RESIDENTIAL UNITS в TOTAL UNITS велик, а вклад COMMERCIAL UNITS в TOTAL UNITS - мал."
   ]
  },
  {
   "cell_type": "markdown",
   "metadata": {},
   "source": [
    "Коэффициент корреляции между 'ZIP CODE' и 'COMMERCIAL UNITS', а также между 'LAND SQUARE FEET' и 'BLOCK' практически равен нулю, что вполне объяснимо"
   ]
  },
  {
   "cell_type": "code",
   "execution_count": 59,
   "metadata": {},
   "outputs": [
    {
     "data": {
      "text/plain": [
       "(0.008928216093371794, 0.005942589569073014)"
      ]
     },
     "execution_count": 59,
     "metadata": {},
     "output_type": "execute_result"
    }
   ],
   "source": [
    "corr_mat.loc['ZIP CODE', 'COMMERCIAL UNITS'],corr_mat.loc['LAND SQUARE FEET', 'BLOCK']"
   ]
  },
  {
   "cell_type": "markdown",
   "metadata": {},
   "source": [
    "Интересно посмотреть, сколько раз номинальные переменные принимают то или иное значение"
   ]
  },
  {
   "cell_type": "markdown",
   "metadata": {},
   "source": [
    "### Диаграмма зависимости количества проданных объектов от района"
   ]
  },
  {
   "cell_type": "code",
   "execution_count": 60,
   "metadata": {},
   "outputs": [
    {
     "data": {
      "text/plain": [
       "4    26626\n",
       "3    23915\n",
       "1    17956\n",
       "5     8402\n",
       "2     6954\n",
       "Name: BOROUGH, dtype: int64"
      ]
     },
     "execution_count": 60,
     "metadata": {},
     "output_type": "execute_result"
    }
   ],
   "source": [
    "data['BOROUGH'].value_counts()"
   ]
  },
  {
   "cell_type": "code",
   "execution_count": 61,
   "metadata": {},
   "outputs": [
    {
     "data": {
      "image/png": "[encoded data removed]",
      "text/plain": [
       "<Figure size 432x288 with 1 Axes>"
      ]
     },
     "metadata": {
      "needs_background": "light"
     },
     "output_type": "display_data"
    }
   ],
   "source": [
    "sns.countplot(x='BOROUGH', order=data['BOROUGH'].value_counts().index,  data=data, palette = 'rocket_r')\n",
    "plt.xticks(rotation = 60)\n",
    "pass"
   ]
  },
  {
   "cell_type": "markdown",
   "metadata": {},
   "source": [
    "### Диаграмма зависимости количества проданных объектов от года их постройки "
   ]
  },
  {
   "cell_type": "code",
   "execution_count": 62,
   "metadata": {},
   "outputs": [
    {
     "data": {
      "text/plain": [
       "0       6938\n",
       "1920    6012\n",
       "1930    5015\n",
       "1925    4296\n",
       "1910    3556\n",
       "1950    3141\n",
       "1960    2645\n",
       "1940    2445\n",
       "1931    2237\n",
       "1955    1957\n",
       "1899    1797\n",
       "1901    1754\n",
       "1935    1610\n",
       "1965    1508\n",
       "2015    1454\n",
       "1945    1330\n",
       "2014    1217\n",
       "1915    1170\n",
       "2007    1165\n",
       "1900    1107\n",
       "2005    1099\n",
       "1970     952\n",
       "1963     934\n",
       "2008     930\n",
       "2006     924\n",
       "1962     831\n",
       "2016     782\n",
       "2013     727\n",
       "1961     724\n",
       "2004     712\n",
       "        ... \n",
       "1894       5\n",
       "1845       4\n",
       "1892       4\n",
       "2017       4\n",
       "1891       3\n",
       "1875       3\n",
       "1854       3\n",
       "1898       3\n",
       "1871       3\n",
       "1852       3\n",
       "1844       2\n",
       "1840       2\n",
       "1856       2\n",
       "1882       2\n",
       "1883       2\n",
       "1864       2\n",
       "1865       2\n",
       "1846       2\n",
       "1847       2\n",
       "1835       2\n",
       "1851       2\n",
       "1893       2\n",
       "1889       2\n",
       "1829       1\n",
       "1826       1\n",
       "1680       1\n",
       "1849       1\n",
       "1111       1\n",
       "1832       1\n",
       "1855       1\n",
       "Name: YEAR BUILT, Length: 157, dtype: int64"
      ]
     },
     "execution_count": 62,
     "metadata": {},
     "output_type": "execute_result"
    }
   ],
   "source": [
    "data['YEAR BUILT'].value_counts()"
   ]
  },
  {
   "cell_type": "code",
   "execution_count": 63,
   "metadata": {},
   "outputs": [
    {
     "data": {
      "image/png": "[encoded data removed]",
      "text/plain": [
       "<Figure size 432x288 with 1 Axes>"
      ]
     },
     "metadata": {
      "needs_background": "light"
     },
     "output_type": "display_data"
    }
   ],
   "source": [
    "sns.countplot(x='YEAR BUILT', data=data, palette ='rocket')\n",
    "pass"
   ]
  },
  {
   "cell_type": "markdown",
   "metadata": {},
   "source": [
    "### Диаграмма зависимости количества проданных объектов от налогового класса"
   ]
  },
  {
   "cell_type": "code",
   "execution_count": 64,
   "metadata": {},
   "outputs": [
    {
     "data": {
      "text/plain": [
       "1    41523\n",
       "2    36224\n",
       "4     6102\n",
       "3        4\n",
       "Name: TAX CLASS AT TIME OF SALE, dtype: int64"
      ]
     },
     "execution_count": 64,
     "metadata": {},
     "output_type": "execute_result"
    }
   ],
   "source": [
    "data['TAX CLASS AT TIME OF SALE'].value_counts()"
   ]
  },
  {
   "cell_type": "code",
   "execution_count": 65,
   "metadata": {},
   "outputs": [
    {
     "data": {
      "image/png": "[encoded data removed]",
      "text/plain": [
       "<Figure size 432x288 with 1 Axes>"
      ]
     },
     "metadata": {
      "needs_background": "light"
     },
     "output_type": "display_data"
    }
   ],
   "source": [
    "sns.countplot(x='TAX CLASS AT TIME OF SALE', data=data)\n",
    "pass"
   ]
  },
  {
   "cell_type": "markdown",
   "metadata": {},
   "source": [
    "### Зависимость между налоговым классом и районом"
   ]
  },
  {
   "cell_type": "code",
   "execution_count": 66,
   "metadata": {},
   "outputs": [
    {
     "data": {
      "text/plain": [
       "<matplotlib.axes._subplots.AxesSubplot at 0x29bf9933a90>"
      ]
     },
     "execution_count": 66,
     "metadata": {},
     "output_type": "execute_result"
    },
    {
     "data": {
      "image/png": "[encoded data removed]",
      "text/plain": [
       "<Figure size 432x288 with 1 Axes>"
      ]
     },
     "metadata": {
      "needs_background": "light"
     },
     "output_type": "display_data"
    }
   ],
   "source": [
    "sns.countplot(x='TAX CLASS AT PRESENT', order=data['TAX CLASS AT PRESENT'].value_counts().index, hue='BOROUGH', data=data)\n",
    "#pass"
   ]
  },
  {
   "cell_type": "markdown",
   "metadata": {},
   "source": [
    "# 4. Заполнение пропущенных значений"
   ]
  },
  {
   "cell_type": "code",
   "execution_count": 67,
   "metadata": {},
   "outputs": [
    {
     "data": {
      "text/plain": [
       "BOROUGH                              int64\n",
       "NEIGHBORHOOD                      category\n",
       "BUILDING CLASS CATEGORY           category\n",
       "TAX CLASS AT PRESENT              category\n",
       "BLOCK                                int64\n",
       "LOT                                  int64\n",
       "EASE-MENT                         category\n",
       "BUILDING CLASS AT PRESENT         category\n",
       "ADDRESS                           category\n",
       "APARTMENT NUMBER                  category\n",
       "ZIP CODE                             int64\n",
       "RESIDENTIAL UNITS                    int64\n",
       "COMMERCIAL UNITS                     int64\n",
       "TOTAL UNITS                          int64\n",
       "LAND SQUARE FEET                   float64\n",
       "GROSS SQUARE FEET                  float64\n",
       "YEAR BUILT                           int64\n",
       "TAX CLASS AT TIME OF SALE            int64\n",
       "BUILDING CLASS AT TIME OF SALE    category\n",
       "SALE PRICE                         float64\n",
       "SALE DATE                         category\n",
       "dtype: object"
      ]
     },
     "execution_count": 67,
     "metadata": {},
     "output_type": "execute_result"
    }
   ],
   "source": [
    "data.dtypes"
   ]
  },
  {
   "cell_type": "markdown",
   "metadata": {},
   "source": [
    "Считаем, что сейчас для int64 и float64 пропуски выражаются только через NaN, а для категориальных признаков только через    ' '.\n",
    "(Был проведён поочерёдный вызов поиска ' ' для каждого признака. ' ' в int64 и float64 столбцах не обнаружено. NaN в категориальных столбцах также сейчас отсутствуют)"
   ]
  },
  {
   "cell_type": "markdown",
   "metadata": {},
   "source": [
    "Заменим для категориальных признаков ' ' на NaN."
   ]
  },
  {
   "cell_type": "code",
   "execution_count": 68,
   "metadata": {},
   "outputs": [],
   "source": [
    "if (data['NEIGHBORHOOD'] == ' ').sum() != 0:\n",
    "    data.loc[data['NEIGHBORHOOD'] == ' ', 'NEIGHBORHOOD'] = None"
   ]
  },
  {
   "cell_type": "code",
   "execution_count": 69,
   "metadata": {},
   "outputs": [],
   "source": [
    "if (data['BUILDING CLASS CATEGORY'] == ' ').sum() != 0:\n",
    "    data.loc[data['BUILDING CLASS CATEGORY'] == ' ', 'BUILDING CLASS CATEGORY'] = None"
   ]
  },
  {
   "cell_type": "code",
   "execution_count": 70,
   "metadata": {},
   "outputs": [],
   "source": [
    "if (data['TAX CLASS AT PRESENT'] == ' ').sum() != 0:\n",
    "    data.loc[data['TAX CLASS AT PRESENT'] == ' ', 'TAX CLASS AT PRESENT'] = None"
   ]
  },
  {
   "cell_type": "code",
   "execution_count": 71,
   "metadata": {},
   "outputs": [],
   "source": [
    "if (data['EASE-MENT'] == ' ').sum() != 0:\n",
    "    data.loc[data['EASE-MENT'] == ' ', 'EASE-MENT'] = None"
   ]
  },
  {
   "cell_type": "code",
   "execution_count": 72,
   "metadata": {},
   "outputs": [],
   "source": [
    "if (data['BUILDING CLASS AT PRESENT'] == ' ').sum() != 0:\n",
    "    data.loc[data['BUILDING CLASS AT PRESENT'] == ' ', 'BUILDING CLASS AT PRESENT'] = None"
   ]
  },
  {
   "cell_type": "code",
   "execution_count": 73,
   "metadata": {},
   "outputs": [],
   "source": [
    "if (data['ADDRESS'] == ' ').sum() != 0:\n",
    "    data.loc[data['ADDRESS'] == ' ', 'ADDRESS'] = None"
   ]
  },
  {
   "cell_type": "code",
   "execution_count": 74,
   "metadata": {},
   "outputs": [],
   "source": [
    "if (data['APARTMENT NUMBER'] == ' ').sum() != 0:\n",
    "    data.loc[data['APARTMENT NUMBER'] == ' ', 'APARTMENT NUMBER'] = None"
   ]
  },
  {
   "cell_type": "code",
   "execution_count": 75,
   "metadata": {},
   "outputs": [],
   "source": [
    "if (data['BUILDING CLASS AT TIME OF SALE'] == ' ').sum() != 0:\n",
    "    data.loc[data['BUILDING CLASS AT TIME OF SALE'] == ' ', 'BUILDING CLASS AT TIME OF SALE'] = None"
   ]
  },
  {
   "cell_type": "code",
   "execution_count": 76,
   "metadata": {},
   "outputs": [],
   "source": [
    "if (data['SALE DATE'] == ' ').sum() != 0:\n",
    "    data.loc[data['SALE DATE'] == ' ', 'SALE DATE'] = None"
   ]
  },
  {
   "cell_type": "markdown",
   "metadata": {},
   "source": [
    "Количество пропусков в каждом столбце:"
   ]
  },
  {
   "cell_type": "code",
   "execution_count": 77,
   "metadata": {},
   "outputs": [
    {
     "data": {
      "text/plain": [
       "BOROUGH                               0\n",
       "NEIGHBORHOOD                          0\n",
       "BUILDING CLASS CATEGORY               0\n",
       "TAX CLASS AT PRESENT                737\n",
       "BLOCK                                 0\n",
       "LOT                                   0\n",
       "EASE-MENT                         83853\n",
       "BUILDING CLASS AT PRESENT           737\n",
       "ADDRESS                               0\n",
       "APARTMENT NUMBER                  64931\n",
       "ZIP CODE                              0\n",
       "RESIDENTIAL UNITS                     0\n",
       "COMMERCIAL UNITS                      0\n",
       "TOTAL UNITS                           0\n",
       "LAND SQUARE FEET                  26161\n",
       "GROSS SQUARE FEET                 27498\n",
       "YEAR BUILT                            0\n",
       "TAX CLASS AT TIME OF SALE             0\n",
       "BUILDING CLASS AT TIME OF SALE        0\n",
       "SALE PRICE                        14447\n",
       "SALE DATE                             0\n",
       "dtype: int64"
      ]
     },
     "execution_count": 77,
     "metadata": {},
     "output_type": "execute_result"
    }
   ],
   "source": [
    "data.isna().sum()"
   ]
  },
  {
   "cell_type": "markdown",
   "metadata": {},
   "source": [
    "Удалим столбцы EASE-MENT и APARTMENT NUMBER с пропущенными значениями: EASE-MENT целиком состоит только из пропущенных значений, а APARTMENT NUMBER на 77%."
   ]
  },
  {
   "cell_type": "code",
   "execution_count": 78,
   "metadata": {},
   "outputs": [],
   "source": [
    "data=data.drop(data.columns[[6, 9]], axis='columns')"
   ]
  },
  {
   "cell_type": "code",
   "execution_count": 79,
   "metadata": {},
   "outputs": [
    {
     "data": {
      "text/plain": [
       "(83853, 19)"
      ]
     },
     "execution_count": 79,
     "metadata": {},
     "output_type": "execute_result"
    }
   ],
   "source": [
    "data.shape  # была 21 колонка - стало 19"
   ]
  },
  {
   "cell_type": "markdown",
   "metadata": {},
   "source": [
    "Пропущенные значения в столбцах LAND SQUARE FEET, GROSS SQUARE FEET и SALE PRICE, соответствующих числовым признакам, заполним медианами:"
   ]
  },
  {
   "cell_type": "code",
   "execution_count": 80,
   "metadata": {},
   "outputs": [],
   "source": [
    "data.fillna(data.median(axis = 0), axis=0 , inplace=True)"
   ]
  },
  {
   "cell_type": "code",
   "execution_count": 81,
   "metadata": {},
   "outputs": [
    {
     "data": {
      "text/plain": [
       "BOROUGH                             0\n",
       "NEIGHBORHOOD                        0\n",
       "BUILDING CLASS CATEGORY             0\n",
       "TAX CLASS AT PRESENT              737\n",
       "BLOCK                               0\n",
       "LOT                                 0\n",
       "BUILDING CLASS AT PRESENT         737\n",
       "ADDRESS                             0\n",
       "ZIP CODE                            0\n",
       "RESIDENTIAL UNITS                   0\n",
       "COMMERCIAL UNITS                    0\n",
       "TOTAL UNITS                         0\n",
       "LAND SQUARE FEET                    0\n",
       "GROSS SQUARE FEET                   0\n",
       "YEAR BUILT                          0\n",
       "TAX CLASS AT TIME OF SALE           0\n",
       "BUILDING CLASS AT TIME OF SALE      0\n",
       "SALE PRICE                          0\n",
       "SALE DATE                           0\n",
       "dtype: int64"
      ]
     },
     "execution_count": 81,
     "metadata": {},
     "output_type": "execute_result"
    }
   ],
   "source": [
    "data.isna().sum()"
   ]
  },
  {
   "cell_type": "markdown",
   "metadata": {},
   "source": [
    "Строки, в которых пропущены значения в столбце TAX CLASS AT PRESENT или BUILDING CLASS AT PRESENT (категориальные признаки) удалим. Количество данных при этом изменится мало."
   ]
  },
  {
   "cell_type": "code",
   "execution_count": 82,
   "metadata": {},
   "outputs": [],
   "source": [
    "data = data.dropna(subset=['TAX CLASS AT PRESENT']) # Drop only if NaN in specific column (as asked in the question)\n",
    "data = data.dropna(subset=['BUILDING CLASS AT PRESENT'])"
   ]
  },
  {
   "cell_type": "code",
   "execution_count": 83,
   "metadata": {},
   "outputs": [
    {
     "data": {
      "text/plain": [
       "BOROUGH                           0\n",
       "NEIGHBORHOOD                      0\n",
       "BUILDING CLASS CATEGORY           0\n",
       "TAX CLASS AT PRESENT              0\n",
       "BLOCK                             0\n",
       "LOT                               0\n",
       "BUILDING CLASS AT PRESENT         0\n",
       "ADDRESS                           0\n",
       "ZIP CODE                          0\n",
       "RESIDENTIAL UNITS                 0\n",
       "COMMERCIAL UNITS                  0\n",
       "TOTAL UNITS                       0\n",
       "LAND SQUARE FEET                  0\n",
       "GROSS SQUARE FEET                 0\n",
       "YEAR BUILT                        0\n",
       "TAX CLASS AT TIME OF SALE         0\n",
       "BUILDING CLASS AT TIME OF SALE    0\n",
       "SALE PRICE                        0\n",
       "SALE DATE                         0\n",
       "dtype: int64"
      ]
     },
     "execution_count": 83,
     "metadata": {},
     "output_type": "execute_result"
    }
   ],
   "source": [
    "data.isna().sum()"
   ]
  },
  {
   "cell_type": "code",
   "execution_count": 84,
   "metadata": {},
   "outputs": [
    {
     "data": {
      "text/plain": [
       "(83116, 19)"
      ]
     },
     "execution_count": 84,
     "metadata": {},
     "output_type": "execute_result"
    }
   ],
   "source": [
    "data.shape "
   ]
  },
  {
   "cell_type": "markdown",
   "metadata": {},
   "source": [
    "После выполнения последнего шага избавления от пропущенных значений, строк стало 83116, ровно на 737 меньше, чем было. \n",
    "Т.е. признаки TAX CLASS AT PRESENT и BUILDING CLASS AT PRESENT отсутствовали только одновременно - в 737 строках\n",
    "\n",
    "Также видно, что в целом пропущенных значений не осталось"
   ]
  },
  {
   "cell_type": "code",
   "execution_count": 85,
   "metadata": {},
   "outputs": [
    {
     "data": {
      "text/html": [
       "<div>\n",
       "<style scoped>\n",
       "    .dataframe tbody tr th:only-of-type {\n",
       "        vertical-align: middle;\n",
       "    }\n",
       "\n",
       "    .dataframe tbody tr th {\n",
       "        vertical-align: top;\n",
       "    }\n",
       "\n",
       "    .dataframe thead th {\n",
       "        text-align: right;\n",
       "    }\n",
       "</style>\n",
       "<table border=\"1\" class=\"dataframe\">\n",
       "  <thead>\n",
       "    <tr style=\"text-align: right;\">\n",
       "      <th></th>\n",
       "      <th>BOROUGH</th>\n",
       "      <th>BLOCK</th>\n",
       "      <th>LOT</th>\n",
       "      <th>ZIP CODE</th>\n",
       "      <th>RESIDENTIAL UNITS</th>\n",
       "      <th>COMMERCIAL UNITS</th>\n",
       "      <th>TOTAL UNITS</th>\n",
       "      <th>LAND SQUARE FEET</th>\n",
       "      <th>GROSS SQUARE FEET</th>\n",
       "      <th>YEAR BUILT</th>\n",
       "      <th>TAX CLASS AT TIME OF SALE</th>\n",
       "      <th>SALE PRICE</th>\n",
       "    </tr>\n",
       "  </thead>\n",
       "  <tbody>\n",
       "    <tr>\n",
       "      <th>count</th>\n",
       "      <td>83116.000000</td>\n",
       "      <td>83116.000000</td>\n",
       "      <td>83116.000000</td>\n",
       "      <td>83116.000000</td>\n",
       "      <td>83116.000000</td>\n",
       "      <td>83116.000000</td>\n",
       "      <td>83116.000000</td>\n",
       "      <td>8.311600e+04</td>\n",
       "      <td>8.311600e+04</td>\n",
       "      <td>83116.000000</td>\n",
       "      <td>83116.000000</td>\n",
       "      <td>8.311600e+04</td>\n",
       "    </tr>\n",
       "    <tr>\n",
       "      <th>mean</th>\n",
       "      <td>3.012031</td>\n",
       "      <td>4262.815150</td>\n",
       "      <td>369.741891</td>\n",
       "      <td>10786.951874</td>\n",
       "      <td>1.396494</td>\n",
       "      <td>0.102519</td>\n",
       "      <td>1.529754</td>\n",
       "      <td>3.015028e+03</td>\n",
       "      <td>2.426027e+03</td>\n",
       "      <td>1804.533580</td>\n",
       "      <td>1.644365</td>\n",
       "      <td>8.479445e+05</td>\n",
       "    </tr>\n",
       "    <tr>\n",
       "      <th>std</th>\n",
       "      <td>1.287565</td>\n",
       "      <td>3575.542132</td>\n",
       "      <td>656.270524</td>\n",
       "      <td>1054.180140</td>\n",
       "      <td>2.529614</td>\n",
       "      <td>0.711516</td>\n",
       "      <td>2.661345</td>\n",
       "      <td>1.985954e+04</td>\n",
       "      <td>1.382247e+04</td>\n",
       "      <td>513.576051</td>\n",
       "      <td>0.812321</td>\n",
       "      <td>1.479834e+06</td>\n",
       "    </tr>\n",
       "    <tr>\n",
       "      <th>min</th>\n",
       "      <td>1.000000</td>\n",
       "      <td>1.000000</td>\n",
       "      <td>1.000000</td>\n",
       "      <td>0.000000</td>\n",
       "      <td>0.000000</td>\n",
       "      <td>0.000000</td>\n",
       "      <td>0.000000</td>\n",
       "      <td>0.000000e+00</td>\n",
       "      <td>0.000000e+00</td>\n",
       "      <td>0.000000</td>\n",
       "      <td>1.000000</td>\n",
       "      <td>0.000000e+00</td>\n",
       "    </tr>\n",
       "    <tr>\n",
       "      <th>25%</th>\n",
       "      <td>2.000000</td>\n",
       "      <td>1330.000000</td>\n",
       "      <td>22.000000</td>\n",
       "      <td>10305.000000</td>\n",
       "      <td>0.000000</td>\n",
       "      <td>0.000000</td>\n",
       "      <td>1.000000</td>\n",
       "      <td>2.000000e+03</td>\n",
       "      <td>1.348000e+03</td>\n",
       "      <td>1920.000000</td>\n",
       "      <td>1.000000</td>\n",
       "      <td>2.950000e+05</td>\n",
       "    </tr>\n",
       "    <tr>\n",
       "      <th>50%</th>\n",
       "      <td>3.000000</td>\n",
       "      <td>3341.000000</td>\n",
       "      <td>50.000000</td>\n",
       "      <td>11209.000000</td>\n",
       "      <td>1.000000</td>\n",
       "      <td>0.000000</td>\n",
       "      <td>1.000000</td>\n",
       "      <td>2.300000e+03</td>\n",
       "      <td>1.669000e+03</td>\n",
       "      <td>1940.000000</td>\n",
       "      <td>2.000000</td>\n",
       "      <td>5.270000e+05</td>\n",
       "    </tr>\n",
       "    <tr>\n",
       "      <th>75%</th>\n",
       "      <td>4.000000</td>\n",
       "      <td>6318.250000</td>\n",
       "      <td>534.250000</td>\n",
       "      <td>11357.000000</td>\n",
       "      <td>2.000000</td>\n",
       "      <td>0.000000</td>\n",
       "      <td>2.000000</td>\n",
       "      <td>2.640000e+03</td>\n",
       "      <td>2.076000e+03</td>\n",
       "      <td>1966.000000</td>\n",
       "      <td>2.000000</td>\n",
       "      <td>8.150000e+05</td>\n",
       "    </tr>\n",
       "    <tr>\n",
       "      <th>max</th>\n",
       "      <td>5.000000</td>\n",
       "      <td>16322.000000</td>\n",
       "      <td>9106.000000</td>\n",
       "      <td>11694.000000</td>\n",
       "      <td>42.000000</td>\n",
       "      <td>42.000000</td>\n",
       "      <td>42.000000</td>\n",
       "      <td>3.014056e+06</td>\n",
       "      <td>1.501878e+06</td>\n",
       "      <td>2017.000000</td>\n",
       "      <td>4.000000</td>\n",
       "      <td>2.030250e+07</td>\n",
       "    </tr>\n",
       "  </tbody>\n",
       "</table>\n",
       "</div>"
      ],
      "text/plain": [
       "            BOROUGH         BLOCK           LOT      ZIP CODE  \\\n",
       "count  83116.000000  83116.000000  83116.000000  83116.000000   \n",
       "mean       3.012031   4262.815150    369.741891  10786.951874   \n",
       "std        1.287565   3575.542132    656.270524   1054.180140   \n",
       "min        1.000000      1.000000      1.000000      0.000000   \n",
       "25%        2.000000   1330.000000     22.000000  10305.000000   \n",
       "50%        3.000000   3341.000000     50.000000  11209.000000   \n",
       "75%        4.000000   6318.250000    534.250000  11357.000000   \n",
       "max        5.000000  16322.000000   9106.000000  11694.000000   \n",
       "\n",
       "       RESIDENTIAL UNITS  COMMERCIAL UNITS   TOTAL UNITS  LAND SQUARE FEET  \\\n",
       "count       83116.000000      83116.000000  83116.000000      8.311600e+04   \n",
       "mean            1.396494          0.102519      1.529754      3.015028e+03   \n",
       "std             2.529614          0.711516      2.661345      1.985954e+04   \n",
       "min             0.000000          0.000000      0.000000      0.000000e+00   \n",
       "25%             0.000000          0.000000      1.000000      2.000000e+03   \n",
       "50%             1.000000          0.000000      1.000000      2.300000e+03   \n",
       "75%             2.000000          0.000000      2.000000      2.640000e+03   \n",
       "max            42.000000         42.000000     42.000000      3.014056e+06   \n",
       "\n",
       "       GROSS SQUARE FEET    YEAR BUILT  TAX CLASS AT TIME OF SALE  \\\n",
       "count       8.311600e+04  83116.000000               83116.000000   \n",
       "mean        2.426027e+03   1804.533580                   1.644365   \n",
       "std         1.382247e+04    513.576051                   0.812321   \n",
       "min         0.000000e+00      0.000000                   1.000000   \n",
       "25%         1.348000e+03   1920.000000                   1.000000   \n",
       "50%         1.669000e+03   1940.000000                   2.000000   \n",
       "75%         2.076000e+03   1966.000000                   2.000000   \n",
       "max         1.501878e+06   2017.000000                   4.000000   \n",
       "\n",
       "         SALE PRICE  \n",
       "count  8.311600e+04  \n",
       "mean   8.479445e+05  \n",
       "std    1.479834e+06  \n",
       "min    0.000000e+00  \n",
       "25%    2.950000e+05  \n",
       "50%    5.270000e+05  \n",
       "75%    8.150000e+05  \n",
       "max    2.030250e+07  "
      ]
     },
     "execution_count": 85,
     "metadata": {},
     "output_type": "execute_result"
    }
   ],
   "source": [
    "data.describe()"
   ]
  },
  {
   "cell_type": "code",
   "execution_count": 86,
   "metadata": {},
   "outputs": [
    {
     "data": {
      "text/html": [
       "<div>\n",
       "<style scoped>\n",
       "    .dataframe tbody tr th:only-of-type {\n",
       "        vertical-align: middle;\n",
       "    }\n",
       "\n",
       "    .dataframe tbody tr th {\n",
       "        vertical-align: top;\n",
       "    }\n",
       "\n",
       "    .dataframe thead th {\n",
       "        text-align: right;\n",
       "    }\n",
       "</style>\n",
       "<table border=\"1\" class=\"dataframe\">\n",
       "  <thead>\n",
       "    <tr style=\"text-align: right;\">\n",
       "      <th></th>\n",
       "      <th>NEIGHBORHOOD</th>\n",
       "      <th>BUILDING CLASS CATEGORY</th>\n",
       "      <th>TAX CLASS AT PRESENT</th>\n",
       "      <th>BUILDING CLASS AT PRESENT</th>\n",
       "      <th>ADDRESS</th>\n",
       "      <th>BUILDING CLASS AT TIME OF SALE</th>\n",
       "      <th>SALE DATE</th>\n",
       "    </tr>\n",
       "  </thead>\n",
       "  <tbody>\n",
       "    <tr>\n",
       "      <th>count</th>\n",
       "      <td>83116</td>\n",
       "      <td>83116</td>\n",
       "      <td>83116</td>\n",
       "      <td>83116</td>\n",
       "      <td>83116</td>\n",
       "      <td>83116</td>\n",
       "      <td>83116</td>\n",
       "    </tr>\n",
       "    <tr>\n",
       "      <th>unique</th>\n",
       "      <td>254</td>\n",
       "      <td>47</td>\n",
       "      <td>10</td>\n",
       "      <td>159</td>\n",
       "      <td>66933</td>\n",
       "      <td>159</td>\n",
       "      <td>364</td>\n",
       "    </tr>\n",
       "    <tr>\n",
       "      <th>top</th>\n",
       "      <td>FLUSHING-NORTH</td>\n",
       "      <td>01 ONE FAMILY DWELLINGS</td>\n",
       "      <td>1</td>\n",
       "      <td>D4</td>\n",
       "      <td>131-05 40TH   ROAD</td>\n",
       "      <td>D4</td>\n",
       "      <td>2016-12-22 00:00:00</td>\n",
       "    </tr>\n",
       "    <tr>\n",
       "      <th>freq</th>\n",
       "      <td>3011</td>\n",
       "      <td>18228</td>\n",
       "      <td>38624</td>\n",
       "      <td>12612</td>\n",
       "      <td>210</td>\n",
       "      <td>12612</td>\n",
       "      <td>518</td>\n",
       "    </tr>\n",
       "  </tbody>\n",
       "</table>\n",
       "</div>"
      ],
      "text/plain": [
       "          NEIGHBORHOOD                      BUILDING CLASS CATEGORY  \\\n",
       "count            83116                                        83116   \n",
       "unique             254                                           47   \n",
       "top     FLUSHING-NORTH  01 ONE FAMILY DWELLINGS                       \n",
       "freq              3011                                        18228   \n",
       "\n",
       "       TAX CLASS AT PRESENT BUILDING CLASS AT PRESENT             ADDRESS  \\\n",
       "count                 83116                     83116               83116   \n",
       "unique                   10                       159               66933   \n",
       "top                       1                        D4  131-05 40TH   ROAD   \n",
       "freq                  38624                     12612                 210   \n",
       "\n",
       "       BUILDING CLASS AT TIME OF SALE            SALE DATE  \n",
       "count                           83116                83116  \n",
       "unique                            159                  364  \n",
       "top                                D4  2016-12-22 00:00:00  \n",
       "freq                            12612                  518  "
      ]
     },
     "execution_count": 86,
     "metadata": {},
     "output_type": "execute_result"
    }
   ],
   "source": [
    "data.describe(include=['category'])"
   ]
  },
  {
   "cell_type": "markdown",
   "metadata": {},
   "source": [
    "# 5. Векторизация"
   ]
  },
  {
   "cell_type": "markdown",
   "metadata": {},
   "source": [
    "Но сначала удалим столбецы 'Adress' и 'SALE DATE'. Они имеют 66933 и 364 уникальных значений соответсвенно, подвергая их векторизации, наша таблица принимает размеры (83116, 68585) и очень затрудняет вычисления.  \n",
    "На анализ это не должно повлиять, т.к. 'Adress', в отличие от 'BOROUGH' и 'NEIGHBORHOOD' не даёт почти никакой информации. Удаление 'SALE DATE' также не критично."
   ]
  },
  {
   "cell_type": "code",
   "execution_count": 87,
   "metadata": {},
   "outputs": [],
   "source": [
    "data.drop(['ADDRESS'], axis='columns', inplace=True)\n",
    "data.drop(['SALE DATE'], axis='columns', inplace=True)"
   ]
  },
  {
   "cell_type": "markdown",
   "metadata": {},
   "source": [
    "Проведем векторизацию категориальных (номинальных) признаков. Признак BOROUGH - категориальный, представленный в виде чисел. Не будем пока включать его ни в categorical_columns, ни в numerical_columns"
   ]
  },
  {
   "cell_type": "code",
   "execution_count": 89,
   "metadata": {},
   "outputs": [
    {
     "name": "stdout",
     "output_type": "stream",
     "text": [
      "categorical_columns= ['NEIGHBORHOOD', 'BUILDING CLASS CATEGORY', 'TAX CLASS AT PRESENT', 'BUILDING CLASS AT PRESENT', 'BUILDING CLASS AT TIME OF SALE']\n",
      "numerical_columns= ['BOROUGH', 'BLOCK', 'LOT', 'ZIP CODE', 'RESIDENTIAL UNITS', 'COMMERCIAL UNITS', 'TOTAL UNITS', 'LAND SQUARE FEET', 'GROSS SQUARE FEET', 'YEAR BUILT', 'TAX CLASS AT TIME OF SALE', 'SALE PRICE']\n"
     ]
    }
   ],
   "source": [
    "categorical_columns = [c for c in data.columns if data[c].dtype.name == 'category']\n",
    "numerical_columns   = [c for c in data.columns if data[c].dtype.name != 'category']\n",
    "print('categorical_columns=', categorical_columns)\n",
    "print('numerical_columns=', numerical_columns)"
   ]
  },
  {
   "cell_type": "code",
   "execution_count": 90,
   "metadata": {},
   "outputs": [
    {
     "name": "stdout",
     "output_type": "stream",
     "text": [
      "binary_columns= []\n",
      "nonbinary_columns= ['NEIGHBORHOOD', 'BUILDING CLASS CATEGORY', 'TAX CLASS AT PRESENT', 'BUILDING CLASS AT PRESENT', 'BUILDING CLASS AT TIME OF SALE']\n"
     ]
    }
   ],
   "source": [
    "data_describe = data.describe(include=['category'])\n",
    "binary_columns    = [c for c in categorical_columns if data_describe[c]['unique'] == 2]\n",
    "nonbinary_columns = [c for c in categorical_columns if data_describe[c]['unique'] > 2]\n",
    "print('binary_columns=', binary_columns)\n",
    "print('nonbinary_columns=', nonbinary_columns)"
   ]
  },
  {
   "cell_type": "markdown",
   "metadata": {},
   "source": [
    "Бинарных категориальных признаков нет. Будем отличать только numerical_columns и categorical_columns\n",
    "\n",
    "К категориальным признакам применим метод векторизации, который заключается в следующем.\n",
    "\n",
    "Признак j, принимающий s значений, заменим на s признаков, принимащих значения 0 или 1, в зависимости от того, чему равно значение исходного признака j.\n",
    "\n",
    "Например, в нашей задаче признак TAX CLASS AT PRESENT принимает 10 различных значений:"
   ]
  },
  {
   "cell_type": "code",
   "execution_count": 91,
   "metadata": {},
   "outputs": [
    {
     "data": {
      "text/plain": [
       "[2A, 2, 2B, 2C, 4, 1, 1C, 3, 1A, 1B]\n",
       "Categories (10, object): [2A, 2, 2B, 2C, ..., 1C, 3, 1A, 1B]"
      ]
     },
     "execution_count": 91,
     "metadata": {},
     "output_type": "execute_result"
    }
   ],
   "source": [
    "data['TAX CLASS AT PRESENT'].unique()"
   ]
  },
  {
   "cell_type": "markdown",
   "metadata": {},
   "source": [
    "Заменим признак TAX CLASS AT PRESENT 10 признаков: TAX CLASS AT PRESENT_2A, TAX CLASS AT PRESENT_2, ..., TAX CLASS AT PRESENT_1B.\n",
    "\n",
    "- Если признак TAX CLASS AT PRESENT принимает значение 2A, то признакTAX CLASS AT PRESENT_2A равен 1, а все остальные равны 0.\n",
    "- Если признак TAX CLASS AT PRESENT принимает значение 2, то признак TAX CLASS AT PRESENT_2 равен 1, а все остальные равны 0.\n",
    "и т.д.\n",
    "\n",
    "Такую векторизацию осуществляет в pandas метод get_dummies."
   ]
  },
  {
   "cell_type": "code",
   "execution_count": 92,
   "metadata": {},
   "outputs": [
    {
     "data": {
      "text/html": [
       "<div>\n",
       "<style scoped>\n",
       "    .dataframe tbody tr th:only-of-type {\n",
       "        vertical-align: middle;\n",
       "    }\n",
       "\n",
       "    .dataframe tbody tr th {\n",
       "        vertical-align: top;\n",
       "    }\n",
       "\n",
       "    .dataframe thead th {\n",
       "        text-align: right;\n",
       "    }\n",
       "</style>\n",
       "<table border=\"1\" class=\"dataframe\">\n",
       "  <thead>\n",
       "    <tr style=\"text-align: right;\">\n",
       "      <th></th>\n",
       "      <th>NEIGHBORHOOD</th>\n",
       "      <th>BUILDING CLASS CATEGORY</th>\n",
       "      <th>TAX CLASS AT PRESENT</th>\n",
       "      <th>BUILDING CLASS AT PRESENT</th>\n",
       "      <th>BUILDING CLASS AT TIME OF SALE</th>\n",
       "    </tr>\n",
       "  </thead>\n",
       "  <tbody>\n",
       "    <tr>\n",
       "      <th>0</th>\n",
       "      <td>ALPHABET CITY</td>\n",
       "      <td>07 RENTALS - WALKUP APARTMENTS</td>\n",
       "      <td>2A</td>\n",
       "      <td>C2</td>\n",
       "      <td>C2</td>\n",
       "    </tr>\n",
       "    <tr>\n",
       "      <th>1</th>\n",
       "      <td>ALPHABET CITY</td>\n",
       "      <td>07 RENTALS - WALKUP APARTMENTS</td>\n",
       "      <td>2</td>\n",
       "      <td>C7</td>\n",
       "      <td>C7</td>\n",
       "    </tr>\n",
       "    <tr>\n",
       "      <th>2</th>\n",
       "      <td>ALPHABET CITY</td>\n",
       "      <td>07 RENTALS - WALKUP APARTMENTS</td>\n",
       "      <td>2</td>\n",
       "      <td>C7</td>\n",
       "      <td>C7</td>\n",
       "    </tr>\n",
       "    <tr>\n",
       "      <th>3</th>\n",
       "      <td>ALPHABET CITY</td>\n",
       "      <td>07 RENTALS - WALKUP APARTMENTS</td>\n",
       "      <td>2B</td>\n",
       "      <td>C4</td>\n",
       "      <td>C4</td>\n",
       "    </tr>\n",
       "    <tr>\n",
       "      <th>4</th>\n",
       "      <td>ALPHABET CITY</td>\n",
       "      <td>07 RENTALS - WALKUP APARTMENTS</td>\n",
       "      <td>2A</td>\n",
       "      <td>C2</td>\n",
       "      <td>C2</td>\n",
       "    </tr>\n",
       "    <tr>\n",
       "      <th>5</th>\n",
       "      <td>ALPHABET CITY</td>\n",
       "      <td>07 RENTALS - WALKUP APARTMENTS</td>\n",
       "      <td>2</td>\n",
       "      <td>C4</td>\n",
       "      <td>C4</td>\n",
       "    </tr>\n",
       "    <tr>\n",
       "      <th>6</th>\n",
       "      <td>ALPHABET CITY</td>\n",
       "      <td>07 RENTALS - WALKUP APARTMENTS</td>\n",
       "      <td>2B</td>\n",
       "      <td>C4</td>\n",
       "      <td>C4</td>\n",
       "    </tr>\n",
       "    <tr>\n",
       "      <th>8</th>\n",
       "      <td>ALPHABET CITY</td>\n",
       "      <td>08 RENTALS - ELEVATOR APARTMENTS</td>\n",
       "      <td>2</td>\n",
       "      <td>D5</td>\n",
       "      <td>D5</td>\n",
       "    </tr>\n",
       "    <tr>\n",
       "      <th>9</th>\n",
       "      <td>ALPHABET CITY</td>\n",
       "      <td>08 RENTALS - ELEVATOR APARTMENTS</td>\n",
       "      <td>2</td>\n",
       "      <td>D9</td>\n",
       "      <td>D9</td>\n",
       "    </tr>\n",
       "    <tr>\n",
       "      <th>10</th>\n",
       "      <td>ALPHABET CITY</td>\n",
       "      <td>08 RENTALS - ELEVATOR APARTMENTS</td>\n",
       "      <td>2</td>\n",
       "      <td>D7</td>\n",
       "      <td>D7</td>\n",
       "    </tr>\n",
       "    <tr>\n",
       "      <th>11</th>\n",
       "      <td>ALPHABET CITY</td>\n",
       "      <td>08 RENTALS - ELEVATOR APARTMENTS</td>\n",
       "      <td>2B</td>\n",
       "      <td>D1</td>\n",
       "      <td>D1</td>\n",
       "    </tr>\n",
       "    <tr>\n",
       "      <th>12</th>\n",
       "      <td>ALPHABET CITY</td>\n",
       "      <td>09 COOPS - WALKUP APARTMENTS</td>\n",
       "      <td>2</td>\n",
       "      <td>C6</td>\n",
       "      <td>C6</td>\n",
       "    </tr>\n",
       "    <tr>\n",
       "      <th>13</th>\n",
       "      <td>ALPHABET CITY</td>\n",
       "      <td>09 COOPS - WALKUP APARTMENTS</td>\n",
       "      <td>2</td>\n",
       "      <td>C6</td>\n",
       "      <td>C6</td>\n",
       "    </tr>\n",
       "    <tr>\n",
       "      <th>14</th>\n",
       "      <td>ALPHABET CITY</td>\n",
       "      <td>09 COOPS - WALKUP APARTMENTS</td>\n",
       "      <td>2</td>\n",
       "      <td>C6</td>\n",
       "      <td>C6</td>\n",
       "    </tr>\n",
       "    <tr>\n",
       "      <th>15</th>\n",
       "      <td>ALPHABET CITY</td>\n",
       "      <td>09 COOPS - WALKUP APARTMENTS</td>\n",
       "      <td>2</td>\n",
       "      <td>C6</td>\n",
       "      <td>C6</td>\n",
       "    </tr>\n",
       "    <tr>\n",
       "      <th>16</th>\n",
       "      <td>ALPHABET CITY</td>\n",
       "      <td>09 COOPS - WALKUP APARTMENTS</td>\n",
       "      <td>2</td>\n",
       "      <td>C6</td>\n",
       "      <td>C6</td>\n",
       "    </tr>\n",
       "    <tr>\n",
       "      <th>17</th>\n",
       "      <td>ALPHABET CITY</td>\n",
       "      <td>09 COOPS - WALKUP APARTMENTS</td>\n",
       "      <td>2</td>\n",
       "      <td>C6</td>\n",
       "      <td>C6</td>\n",
       "    </tr>\n",
       "    <tr>\n",
       "      <th>18</th>\n",
       "      <td>ALPHABET CITY</td>\n",
       "      <td>09 COOPS - WALKUP APARTMENTS</td>\n",
       "      <td>2</td>\n",
       "      <td>C6</td>\n",
       "      <td>C6</td>\n",
       "    </tr>\n",
       "    <tr>\n",
       "      <th>19</th>\n",
       "      <td>ALPHABET CITY</td>\n",
       "      <td>09 COOPS - WALKUP APARTMENTS</td>\n",
       "      <td>2</td>\n",
       "      <td>C6</td>\n",
       "      <td>C6</td>\n",
       "    </tr>\n",
       "    <tr>\n",
       "      <th>20</th>\n",
       "      <td>ALPHABET CITY</td>\n",
       "      <td>09 COOPS - WALKUP APARTMENTS</td>\n",
       "      <td>2C</td>\n",
       "      <td>C6</td>\n",
       "      <td>C6</td>\n",
       "    </tr>\n",
       "    <tr>\n",
       "      <th>21</th>\n",
       "      <td>ALPHABET CITY</td>\n",
       "      <td>09 COOPS - WALKUP APARTMENTS</td>\n",
       "      <td>2</td>\n",
       "      <td>C6</td>\n",
       "      <td>C6</td>\n",
       "    </tr>\n",
       "    <tr>\n",
       "      <th>22</th>\n",
       "      <td>ALPHABET CITY</td>\n",
       "      <td>09 COOPS - WALKUP APARTMENTS</td>\n",
       "      <td>2</td>\n",
       "      <td>C6</td>\n",
       "      <td>C6</td>\n",
       "    </tr>\n",
       "    <tr>\n",
       "      <th>23</th>\n",
       "      <td>ALPHABET CITY</td>\n",
       "      <td>09 COOPS - WALKUP APARTMENTS</td>\n",
       "      <td>2</td>\n",
       "      <td>C6</td>\n",
       "      <td>C6</td>\n",
       "    </tr>\n",
       "    <tr>\n",
       "      <th>24</th>\n",
       "      <td>ALPHABET CITY</td>\n",
       "      <td>09 COOPS - WALKUP APARTMENTS</td>\n",
       "      <td>2</td>\n",
       "      <td>C6</td>\n",
       "      <td>C6</td>\n",
       "    </tr>\n",
       "    <tr>\n",
       "      <th>25</th>\n",
       "      <td>ALPHABET CITY</td>\n",
       "      <td>09 COOPS - WALKUP APARTMENTS</td>\n",
       "      <td>2</td>\n",
       "      <td>C6</td>\n",
       "      <td>C6</td>\n",
       "    </tr>\n",
       "    <tr>\n",
       "      <th>26</th>\n",
       "      <td>ALPHABET CITY</td>\n",
       "      <td>09 COOPS - WALKUP APARTMENTS</td>\n",
       "      <td>2</td>\n",
       "      <td>C6</td>\n",
       "      <td>C6</td>\n",
       "    </tr>\n",
       "    <tr>\n",
       "      <th>27</th>\n",
       "      <td>ALPHABET CITY</td>\n",
       "      <td>09 COOPS - WALKUP APARTMENTS</td>\n",
       "      <td>2C</td>\n",
       "      <td>C6</td>\n",
       "      <td>C6</td>\n",
       "    </tr>\n",
       "    <tr>\n",
       "      <th>28</th>\n",
       "      <td>ALPHABET CITY</td>\n",
       "      <td>09 COOPS - WALKUP APARTMENTS</td>\n",
       "      <td>2C</td>\n",
       "      <td>C6</td>\n",
       "      <td>C6</td>\n",
       "    </tr>\n",
       "    <tr>\n",
       "      <th>29</th>\n",
       "      <td>ALPHABET CITY</td>\n",
       "      <td>09 COOPS - WALKUP APARTMENTS</td>\n",
       "      <td>2</td>\n",
       "      <td>C6</td>\n",
       "      <td>C6</td>\n",
       "    </tr>\n",
       "    <tr>\n",
       "      <th>30</th>\n",
       "      <td>ALPHABET CITY</td>\n",
       "      <td>09 COOPS - WALKUP APARTMENTS</td>\n",
       "      <td>2</td>\n",
       "      <td>C6</td>\n",
       "      <td>C6</td>\n",
       "    </tr>\n",
       "    <tr>\n",
       "      <th>...</th>\n",
       "      <td>...</td>\n",
       "      <td>...</td>\n",
       "      <td>...</td>\n",
       "      <td>...</td>\n",
       "      <td>...</td>\n",
       "    </tr>\n",
       "    <tr>\n",
       "      <th>84518</th>\n",
       "      <td>WOODROW</td>\n",
       "      <td>02 TWO FAMILY DWELLINGS</td>\n",
       "      <td>1</td>\n",
       "      <td>B2</td>\n",
       "      <td>B2</td>\n",
       "    </tr>\n",
       "    <tr>\n",
       "      <th>84519</th>\n",
       "      <td>WOODROW</td>\n",
       "      <td>02 TWO FAMILY DWELLINGS</td>\n",
       "      <td>1</td>\n",
       "      <td>B2</td>\n",
       "      <td>B2</td>\n",
       "    </tr>\n",
       "    <tr>\n",
       "      <th>84520</th>\n",
       "      <td>WOODROW</td>\n",
       "      <td>02 TWO FAMILY DWELLINGS</td>\n",
       "      <td>1</td>\n",
       "      <td>B2</td>\n",
       "      <td>B2</td>\n",
       "    </tr>\n",
       "    <tr>\n",
       "      <th>84521</th>\n",
       "      <td>WOODROW</td>\n",
       "      <td>02 TWO FAMILY DWELLINGS</td>\n",
       "      <td>1</td>\n",
       "      <td>B2</td>\n",
       "      <td>B2</td>\n",
       "    </tr>\n",
       "    <tr>\n",
       "      <th>84522</th>\n",
       "      <td>WOODROW</td>\n",
       "      <td>02 TWO FAMILY DWELLINGS</td>\n",
       "      <td>1</td>\n",
       "      <td>B2</td>\n",
       "      <td>B2</td>\n",
       "    </tr>\n",
       "    <tr>\n",
       "      <th>84523</th>\n",
       "      <td>WOODROW</td>\n",
       "      <td>02 TWO FAMILY DWELLINGS</td>\n",
       "      <td>1</td>\n",
       "      <td>B9</td>\n",
       "      <td>B9</td>\n",
       "    </tr>\n",
       "    <tr>\n",
       "      <th>84524</th>\n",
       "      <td>WOODROW</td>\n",
       "      <td>02 TWO FAMILY DWELLINGS</td>\n",
       "      <td>1</td>\n",
       "      <td>B9</td>\n",
       "      <td>B9</td>\n",
       "    </tr>\n",
       "    <tr>\n",
       "      <th>84525</th>\n",
       "      <td>WOODROW</td>\n",
       "      <td>02 TWO FAMILY DWELLINGS</td>\n",
       "      <td>1</td>\n",
       "      <td>B9</td>\n",
       "      <td>B9</td>\n",
       "    </tr>\n",
       "    <tr>\n",
       "      <th>84526</th>\n",
       "      <td>WOODROW</td>\n",
       "      <td>02 TWO FAMILY DWELLINGS</td>\n",
       "      <td>1</td>\n",
       "      <td>B9</td>\n",
       "      <td>B9</td>\n",
       "    </tr>\n",
       "    <tr>\n",
       "      <th>84527</th>\n",
       "      <td>WOODROW</td>\n",
       "      <td>02 TWO FAMILY DWELLINGS</td>\n",
       "      <td>1</td>\n",
       "      <td>B9</td>\n",
       "      <td>B9</td>\n",
       "    </tr>\n",
       "    <tr>\n",
       "      <th>84528</th>\n",
       "      <td>WOODROW</td>\n",
       "      <td>02 TWO FAMILY DWELLINGS</td>\n",
       "      <td>1</td>\n",
       "      <td>B9</td>\n",
       "      <td>B9</td>\n",
       "    </tr>\n",
       "    <tr>\n",
       "      <th>84529</th>\n",
       "      <td>WOODROW</td>\n",
       "      <td>02 TWO FAMILY DWELLINGS</td>\n",
       "      <td>1</td>\n",
       "      <td>B9</td>\n",
       "      <td>B9</td>\n",
       "    </tr>\n",
       "    <tr>\n",
       "      <th>84530</th>\n",
       "      <td>WOODROW</td>\n",
       "      <td>02 TWO FAMILY DWELLINGS</td>\n",
       "      <td>1</td>\n",
       "      <td>B2</td>\n",
       "      <td>B2</td>\n",
       "    </tr>\n",
       "    <tr>\n",
       "      <th>84531</th>\n",
       "      <td>WOODROW</td>\n",
       "      <td>02 TWO FAMILY DWELLINGS</td>\n",
       "      <td>1</td>\n",
       "      <td>B9</td>\n",
       "      <td>B9</td>\n",
       "    </tr>\n",
       "    <tr>\n",
       "      <th>84532</th>\n",
       "      <td>WOODROW</td>\n",
       "      <td>02 TWO FAMILY DWELLINGS</td>\n",
       "      <td>1</td>\n",
       "      <td>B9</td>\n",
       "      <td>B9</td>\n",
       "    </tr>\n",
       "    <tr>\n",
       "      <th>84533</th>\n",
       "      <td>WOODROW</td>\n",
       "      <td>02 TWO FAMILY DWELLINGS</td>\n",
       "      <td>1</td>\n",
       "      <td>B2</td>\n",
       "      <td>B2</td>\n",
       "    </tr>\n",
       "    <tr>\n",
       "      <th>84534</th>\n",
       "      <td>WOODROW</td>\n",
       "      <td>02 TWO FAMILY DWELLINGS</td>\n",
       "      <td>1</td>\n",
       "      <td>B9</td>\n",
       "      <td>B9</td>\n",
       "    </tr>\n",
       "    <tr>\n",
       "      <th>84535</th>\n",
       "      <td>WOODROW</td>\n",
       "      <td>02 TWO FAMILY DWELLINGS</td>\n",
       "      <td>1</td>\n",
       "      <td>B2</td>\n",
       "      <td>B2</td>\n",
       "    </tr>\n",
       "    <tr>\n",
       "      <th>84536</th>\n",
       "      <td>WOODROW</td>\n",
       "      <td>02 TWO FAMILY DWELLINGS</td>\n",
       "      <td>1</td>\n",
       "      <td>B2</td>\n",
       "      <td>B2</td>\n",
       "    </tr>\n",
       "    <tr>\n",
       "      <th>84537</th>\n",
       "      <td>WOODROW</td>\n",
       "      <td>02 TWO FAMILY DWELLINGS</td>\n",
       "      <td>1</td>\n",
       "      <td>B2</td>\n",
       "      <td>B2</td>\n",
       "    </tr>\n",
       "    <tr>\n",
       "      <th>84538</th>\n",
       "      <td>WOODROW</td>\n",
       "      <td>02 TWO FAMILY DWELLINGS</td>\n",
       "      <td>1</td>\n",
       "      <td>B2</td>\n",
       "      <td>B2</td>\n",
       "    </tr>\n",
       "    <tr>\n",
       "      <th>84539</th>\n",
       "      <td>WOODROW</td>\n",
       "      <td>02 TWO FAMILY DWELLINGS</td>\n",
       "      <td>1</td>\n",
       "      <td>B2</td>\n",
       "      <td>B2</td>\n",
       "    </tr>\n",
       "    <tr>\n",
       "      <th>84540</th>\n",
       "      <td>WOODROW</td>\n",
       "      <td>02 TWO FAMILY DWELLINGS</td>\n",
       "      <td>1</td>\n",
       "      <td>B2</td>\n",
       "      <td>B2</td>\n",
       "    </tr>\n",
       "    <tr>\n",
       "      <th>84541</th>\n",
       "      <td>WOODROW</td>\n",
       "      <td>02 TWO FAMILY DWELLINGS</td>\n",
       "      <td>1</td>\n",
       "      <td>B2</td>\n",
       "      <td>B2</td>\n",
       "    </tr>\n",
       "    <tr>\n",
       "      <th>84542</th>\n",
       "      <td>WOODROW</td>\n",
       "      <td>02 TWO FAMILY DWELLINGS</td>\n",
       "      <td>1</td>\n",
       "      <td>B9</td>\n",
       "      <td>B9</td>\n",
       "    </tr>\n",
       "    <tr>\n",
       "      <th>84543</th>\n",
       "      <td>WOODROW</td>\n",
       "      <td>02 TWO FAMILY DWELLINGS</td>\n",
       "      <td>1</td>\n",
       "      <td>B9</td>\n",
       "      <td>B9</td>\n",
       "    </tr>\n",
       "    <tr>\n",
       "      <th>84544</th>\n",
       "      <td>WOODROW</td>\n",
       "      <td>02 TWO FAMILY DWELLINGS</td>\n",
       "      <td>1</td>\n",
       "      <td>B9</td>\n",
       "      <td>B9</td>\n",
       "    </tr>\n",
       "    <tr>\n",
       "      <th>84545</th>\n",
       "      <td>WOODROW</td>\n",
       "      <td>02 TWO FAMILY DWELLINGS</td>\n",
       "      <td>1</td>\n",
       "      <td>B2</td>\n",
       "      <td>B2</td>\n",
       "    </tr>\n",
       "    <tr>\n",
       "      <th>84546</th>\n",
       "      <td>WOODROW</td>\n",
       "      <td>22 STORE BUILDINGS</td>\n",
       "      <td>4</td>\n",
       "      <td>K6</td>\n",
       "      <td>K6</td>\n",
       "    </tr>\n",
       "    <tr>\n",
       "      <th>84547</th>\n",
       "      <td>WOODROW</td>\n",
       "      <td>35 INDOOR PUBLIC AND CULTURAL FACILITIES</td>\n",
       "      <td>4</td>\n",
       "      <td>P9</td>\n",
       "      <td>P9</td>\n",
       "    </tr>\n",
       "  </tbody>\n",
       "</table>\n",
       "<p>83116 rows × 5 columns</p>\n",
       "</div>"
      ],
      "text/plain": [
       "        NEIGHBORHOOD                      BUILDING CLASS CATEGORY  \\\n",
       "0      ALPHABET CITY  07 RENTALS - WALKUP APARTMENTS                \n",
       "1      ALPHABET CITY  07 RENTALS - WALKUP APARTMENTS                \n",
       "2      ALPHABET CITY  07 RENTALS - WALKUP APARTMENTS                \n",
       "3      ALPHABET CITY  07 RENTALS - WALKUP APARTMENTS                \n",
       "4      ALPHABET CITY  07 RENTALS - WALKUP APARTMENTS                \n",
       "5      ALPHABET CITY  07 RENTALS - WALKUP APARTMENTS                \n",
       "6      ALPHABET CITY  07 RENTALS - WALKUP APARTMENTS                \n",
       "8      ALPHABET CITY  08 RENTALS - ELEVATOR APARTMENTS              \n",
       "9      ALPHABET CITY  08 RENTALS - ELEVATOR APARTMENTS              \n",
       "10     ALPHABET CITY  08 RENTALS - ELEVATOR APARTMENTS              \n",
       "11     ALPHABET CITY  08 RENTALS - ELEVATOR APARTMENTS              \n",
       "12     ALPHABET CITY  09 COOPS - WALKUP APARTMENTS                  \n",
       "13     ALPHABET CITY  09 COOPS - WALKUP APARTMENTS                  \n",
       "14     ALPHABET CITY  09 COOPS - WALKUP APARTMENTS                  \n",
       "15     ALPHABET CITY  09 COOPS - WALKUP APARTMENTS                  \n",
       "16     ALPHABET CITY  09 COOPS - WALKUP APARTMENTS                  \n",
       "17     ALPHABET CITY  09 COOPS - WALKUP APARTMENTS                  \n",
       "18     ALPHABET CITY  09 COOPS - WALKUP APARTMENTS                  \n",
       "19     ALPHABET CITY  09 COOPS - WALKUP APARTMENTS                  \n",
       "20     ALPHABET CITY  09 COOPS - WALKUP APARTMENTS                  \n",
       "21     ALPHABET CITY  09 COOPS - WALKUP APARTMENTS                  \n",
       "22     ALPHABET CITY  09 COOPS - WALKUP APARTMENTS                  \n",
       "23     ALPHABET CITY  09 COOPS - WALKUP APARTMENTS                  \n",
       "24     ALPHABET CITY  09 COOPS - WALKUP APARTMENTS                  \n",
       "25     ALPHABET CITY  09 COOPS - WALKUP APARTMENTS                  \n",
       "26     ALPHABET CITY  09 COOPS - WALKUP APARTMENTS                  \n",
       "27     ALPHABET CITY  09 COOPS - WALKUP APARTMENTS                  \n",
       "28     ALPHABET CITY  09 COOPS - WALKUP APARTMENTS                  \n",
       "29     ALPHABET CITY  09 COOPS - WALKUP APARTMENTS                  \n",
       "30     ALPHABET CITY  09 COOPS - WALKUP APARTMENTS                  \n",
       "...              ...                                          ...   \n",
       "84518        WOODROW  02 TWO FAMILY DWELLINGS                       \n",
       "84519        WOODROW  02 TWO FAMILY DWELLINGS                       \n",
       "84520        WOODROW  02 TWO FAMILY DWELLINGS                       \n",
       "84521        WOODROW  02 TWO FAMILY DWELLINGS                       \n",
       "84522        WOODROW  02 TWO FAMILY DWELLINGS                       \n",
       "84523        WOODROW  02 TWO FAMILY DWELLINGS                       \n",
       "84524        WOODROW  02 TWO FAMILY DWELLINGS                       \n",
       "84525        WOODROW  02 TWO FAMILY DWELLINGS                       \n",
       "84526        WOODROW  02 TWO FAMILY DWELLINGS                       \n",
       "84527        WOODROW  02 TWO FAMILY DWELLINGS                       \n",
       "84528        WOODROW  02 TWO FAMILY DWELLINGS                       \n",
       "84529        WOODROW  02 TWO FAMILY DWELLINGS                       \n",
       "84530        WOODROW  02 TWO FAMILY DWELLINGS                       \n",
       "84531        WOODROW  02 TWO FAMILY DWELLINGS                       \n",
       "84532        WOODROW  02 TWO FAMILY DWELLINGS                       \n",
       "84533        WOODROW  02 TWO FAMILY DWELLINGS                       \n",
       "84534        WOODROW  02 TWO FAMILY DWELLINGS                       \n",
       "84535        WOODROW  02 TWO FAMILY DWELLINGS                       \n",
       "84536        WOODROW  02 TWO FAMILY DWELLINGS                       \n",
       "84537        WOODROW  02 TWO FAMILY DWELLINGS                       \n",
       "84538        WOODROW  02 TWO FAMILY DWELLINGS                       \n",
       "84539        WOODROW  02 TWO FAMILY DWELLINGS                       \n",
       "84540        WOODROW  02 TWO FAMILY DWELLINGS                       \n",
       "84541        WOODROW  02 TWO FAMILY DWELLINGS                       \n",
       "84542        WOODROW  02 TWO FAMILY DWELLINGS                       \n",
       "84543        WOODROW  02 TWO FAMILY DWELLINGS                       \n",
       "84544        WOODROW  02 TWO FAMILY DWELLINGS                       \n",
       "84545        WOODROW  02 TWO FAMILY DWELLINGS                       \n",
       "84546        WOODROW  22 STORE BUILDINGS                            \n",
       "84547        WOODROW  35 INDOOR PUBLIC AND CULTURAL FACILITIES      \n",
       "\n",
       "      TAX CLASS AT PRESENT BUILDING CLASS AT PRESENT  \\\n",
       "0                       2A                        C2   \n",
       "1                        2                        C7   \n",
       "2                        2                        C7   \n",
       "3                       2B                        C4   \n",
       "4                       2A                        C2   \n",
       "5                        2                        C4   \n",
       "6                       2B                        C4   \n",
       "8                        2                        D5   \n",
       "9                        2                        D9   \n",
       "10                       2                        D7   \n",
       "11                      2B                        D1   \n",
       "12                       2                        C6   \n",
       "13                       2                        C6   \n",
       "14                       2                        C6   \n",
       "15                       2                        C6   \n",
       "16                       2                        C6   \n",
       "17                       2                        C6   \n",
       "18                       2                        C6   \n",
       "19                       2                        C6   \n",
       "20                      2C                        C6   \n",
       "21                       2                        C6   \n",
       "22                       2                        C6   \n",
       "23                       2                        C6   \n",
       "24                       2                        C6   \n",
       "25                       2                        C6   \n",
       "26                       2                        C6   \n",
       "27                      2C                        C6   \n",
       "28                      2C                        C6   \n",
       "29                       2                        C6   \n",
       "30                       2                        C6   \n",
       "...                    ...                       ...   \n",
       "84518                    1                        B2   \n",
       "84519                    1                        B2   \n",
       "84520                    1                        B2   \n",
       "84521                    1                        B2   \n",
       "84522                    1                        B2   \n",
       "84523                    1                        B9   \n",
       "84524                    1                        B9   \n",
       "84525                    1                        B9   \n",
       "84526                    1                        B9   \n",
       "84527                    1                        B9   \n",
       "84528                    1                        B9   \n",
       "84529                    1                        B9   \n",
       "84530                    1                        B2   \n",
       "84531                    1                        B9   \n",
       "84532                    1                        B9   \n",
       "84533                    1                        B2   \n",
       "84534                    1                        B9   \n",
       "84535                    1                        B2   \n",
       "84536                    1                        B2   \n",
       "84537                    1                        B2   \n",
       "84538                    1                        B2   \n",
       "84539                    1                        B2   \n",
       "84540                    1                        B2   \n",
       "84541                    1                        B2   \n",
       "84542                    1                        B9   \n",
       "84543                    1                        B9   \n",
       "84544                    1                        B9   \n",
       "84545                    1                        B2   \n",
       "84546                    4                        K6   \n",
       "84547                    4                        P9   \n",
       "\n",
       "      BUILDING CLASS AT TIME OF SALE  \n",
       "0                                 C2  \n",
       "1                                 C7  \n",
       "2                                 C7  \n",
       "3                                 C4  \n",
       "4                                 C2  \n",
       "5                                 C4  \n",
       "6                                 C4  \n",
       "8                                 D5  \n",
       "9                                 D9  \n",
       "10                                D7  \n",
       "11                                D1  \n",
       "12                                C6  \n",
       "13                                C6  \n",
       "14                                C6  \n",
       "15                                C6  \n",
       "16                                C6  \n",
       "17                                C6  \n",
       "18                                C6  \n",
       "19                                C6  \n",
       "20                                C6  \n",
       "21                                C6  \n",
       "22                                C6  \n",
       "23                                C6  \n",
       "24                                C6  \n",
       "25                                C6  \n",
       "26                                C6  \n",
       "27                                C6  \n",
       "28                                C6  \n",
       "29                                C6  \n",
       "30                                C6  \n",
       "...                              ...  \n",
       "84518                             B2  \n",
       "84519                             B2  \n",
       "84520                             B2  \n",
       "84521                             B2  \n",
       "84522                             B2  \n",
       "84523                             B9  \n",
       "84524                             B9  \n",
       "84525                             B9  \n",
       "84526                             B9  \n",
       "84527                             B9  \n",
       "84528                             B9  \n",
       "84529                             B9  \n",
       "84530                             B2  \n",
       "84531                             B9  \n",
       "84532                             B9  \n",
       "84533                             B2  \n",
       "84534                             B9  \n",
       "84535                             B2  \n",
       "84536                             B2  \n",
       "84537                             B2  \n",
       "84538                             B2  \n",
       "84539                             B2  \n",
       "84540                             B2  \n",
       "84541                             B2  \n",
       "84542                             B9  \n",
       "84543                             B9  \n",
       "84544                             B9  \n",
       "84545                             B2  \n",
       "84546                             K6  \n",
       "84547                             P9  \n",
       "\n",
       "[83116 rows x 5 columns]"
      ]
     },
     "execution_count": 92,
     "metadata": {},
     "output_type": "execute_result"
    }
   ],
   "source": [
    "data[categorical_columns]"
   ]
  },
  {
   "cell_type": "code",
   "execution_count": 93,
   "metadata": {},
   "outputs": [
    {
     "name": "stdout",
     "output_type": "stream",
     "text": [
      "Index(['NEIGHBORHOOD_AIRPORT LA GUARDIA', 'NEIGHBORHOOD_ALPHABET CITY',\n",
      "       'NEIGHBORHOOD_ANNADALE', 'NEIGHBORHOOD_ARDEN HEIGHTS',\n",
      "       'NEIGHBORHOOD_ARROCHAR', 'NEIGHBORHOOD_ARROCHAR-SHORE ACRES',\n",
      "       'NEIGHBORHOOD_ARVERNE', 'NEIGHBORHOOD_ASTORIA',\n",
      "       'NEIGHBORHOOD_BATH BEACH', 'NEIGHBORHOOD_BATHGATE',\n",
      "       ...\n",
      "       'BUILDING CLASS AT TIME OF SALE_W6',\n",
      "       'BUILDING CLASS AT TIME OF SALE_W8',\n",
      "       'BUILDING CLASS AT TIME OF SALE_W9',\n",
      "       'BUILDING CLASS AT TIME OF SALE_Y1',\n",
      "       'BUILDING CLASS AT TIME OF SALE_Y3',\n",
      "       'BUILDING CLASS AT TIME OF SALE_Z0',\n",
      "       'BUILDING CLASS AT TIME OF SALE_Z2',\n",
      "       'BUILDING CLASS AT TIME OF SALE_Z3',\n",
      "       'BUILDING CLASS AT TIME OF SALE_Z7',\n",
      "       'BUILDING CLASS AT TIME OF SALE_Z9'],\n",
      "      dtype='object', length=645)\n"
     ]
    }
   ],
   "source": [
    "data_categorical = pd.get_dummies(data[nonbinary_columns])\n",
    "print(data_categorical.columns)"
   ]
  },
  {
   "cell_type": "code",
   "execution_count": 94,
   "metadata": {},
   "outputs": [
    {
     "data": {
      "text/plain": [
       "645"
      ]
     },
     "execution_count": 94,
     "metadata": {},
     "output_type": "execute_result"
    }
   ],
   "source": [
    "len(data_categorical.columns)"
   ]
  },
  {
   "cell_type": "markdown",
   "metadata": {},
   "source": [
    "# 6. Нормализация"
   ]
  },
  {
   "cell_type": "markdown",
   "metadata": {},
   "source": [
    "Многие алгоритмы машинного обучения чувствительны к масштабированию данных. К таким алгоритмам, например, относится метод ближайших соседей, машина опорных векторов и др.\n",
    "\n",
    "В этом случае количественные признаки полезно нормализовать. Это можно делать разными способами. Например, каждый количественный признак приведем к нулевому среднему и единичному среднеквадратичному отклонению.\n",
    "\n",
    "Не будем нормализовать целевой признак BOROUGH"
   ]
  },
  {
   "cell_type": "code",
   "execution_count": 95,
   "metadata": {},
   "outputs": [],
   "source": [
    "numerical_columns_exept_BOROUGH = ['BLOCK', 'LOT', 'ZIP CODE', 'RESIDENTIAL UNITS', 'COMMERCIAL UNITS', 'TOTAL UNITS', 'LAND SQUARE FEET', 'GROSS SQUARE FEET', 'YEAR BUILT', 'TAX CLASS AT TIME OF SALE', 'SALE PRICE']"
   ]
  },
  {
   "cell_type": "code",
   "execution_count": 96,
   "metadata": {},
   "outputs": [
    {
     "data": {
      "text/html": [
       "<div>\n",
       "<style scoped>\n",
       "    .dataframe tbody tr th:only-of-type {\n",
       "        vertical-align: middle;\n",
       "    }\n",
       "\n",
       "    .dataframe tbody tr th {\n",
       "        vertical-align: top;\n",
       "    }\n",
       "\n",
       "    .dataframe thead th {\n",
       "        text-align: right;\n",
       "    }\n",
       "</style>\n",
       "<table border=\"1\" class=\"dataframe\">\n",
       "  <thead>\n",
       "    <tr style=\"text-align: right;\">\n",
       "      <th></th>\n",
       "      <th>BLOCK</th>\n",
       "      <th>LOT</th>\n",
       "      <th>ZIP CODE</th>\n",
       "      <th>RESIDENTIAL UNITS</th>\n",
       "      <th>COMMERCIAL UNITS</th>\n",
       "      <th>TOTAL UNITS</th>\n",
       "      <th>LAND SQUARE FEET</th>\n",
       "      <th>GROSS SQUARE FEET</th>\n",
       "      <th>YEAR BUILT</th>\n",
       "      <th>TAX CLASS AT TIME OF SALE</th>\n",
       "      <th>SALE PRICE</th>\n",
       "    </tr>\n",
       "  </thead>\n",
       "  <tbody>\n",
       "    <tr>\n",
       "      <th>count</th>\n",
       "      <td>83116.000000</td>\n",
       "      <td>83116.000000</td>\n",
       "      <td>83116.000000</td>\n",
       "      <td>83116.000000</td>\n",
       "      <td>83116.000000</td>\n",
       "      <td>83116.000000</td>\n",
       "      <td>8.311600e+04</td>\n",
       "      <td>8.311600e+04</td>\n",
       "      <td>83116.000000</td>\n",
       "      <td>83116.000000</td>\n",
       "      <td>8.311600e+04</td>\n",
       "    </tr>\n",
       "    <tr>\n",
       "      <th>mean</th>\n",
       "      <td>4262.815150</td>\n",
       "      <td>369.741891</td>\n",
       "      <td>10786.951874</td>\n",
       "      <td>1.396494</td>\n",
       "      <td>0.102519</td>\n",
       "      <td>1.529754</td>\n",
       "      <td>3.015028e+03</td>\n",
       "      <td>2.426027e+03</td>\n",
       "      <td>1804.533580</td>\n",
       "      <td>1.644365</td>\n",
       "      <td>8.479445e+05</td>\n",
       "    </tr>\n",
       "    <tr>\n",
       "      <th>std</th>\n",
       "      <td>3575.542132</td>\n",
       "      <td>656.270524</td>\n",
       "      <td>1054.180140</td>\n",
       "      <td>2.529614</td>\n",
       "      <td>0.711516</td>\n",
       "      <td>2.661345</td>\n",
       "      <td>1.985954e+04</td>\n",
       "      <td>1.382247e+04</td>\n",
       "      <td>513.576051</td>\n",
       "      <td>0.812321</td>\n",
       "      <td>1.479834e+06</td>\n",
       "    </tr>\n",
       "    <tr>\n",
       "      <th>min</th>\n",
       "      <td>1.000000</td>\n",
       "      <td>1.000000</td>\n",
       "      <td>0.000000</td>\n",
       "      <td>0.000000</td>\n",
       "      <td>0.000000</td>\n",
       "      <td>0.000000</td>\n",
       "      <td>0.000000e+00</td>\n",
       "      <td>0.000000e+00</td>\n",
       "      <td>0.000000</td>\n",
       "      <td>1.000000</td>\n",
       "      <td>0.000000e+00</td>\n",
       "    </tr>\n",
       "    <tr>\n",
       "      <th>25%</th>\n",
       "      <td>1330.000000</td>\n",
       "      <td>22.000000</td>\n",
       "      <td>10305.000000</td>\n",
       "      <td>0.000000</td>\n",
       "      <td>0.000000</td>\n",
       "      <td>1.000000</td>\n",
       "      <td>2.000000e+03</td>\n",
       "      <td>1.348000e+03</td>\n",
       "      <td>1920.000000</td>\n",
       "      <td>1.000000</td>\n",
       "      <td>2.950000e+05</td>\n",
       "    </tr>\n",
       "    <tr>\n",
       "      <th>50%</th>\n",
       "      <td>3341.000000</td>\n",
       "      <td>50.000000</td>\n",
       "      <td>11209.000000</td>\n",
       "      <td>1.000000</td>\n",
       "      <td>0.000000</td>\n",
       "      <td>1.000000</td>\n",
       "      <td>2.300000e+03</td>\n",
       "      <td>1.669000e+03</td>\n",
       "      <td>1940.000000</td>\n",
       "      <td>2.000000</td>\n",
       "      <td>5.270000e+05</td>\n",
       "    </tr>\n",
       "    <tr>\n",
       "      <th>75%</th>\n",
       "      <td>6318.250000</td>\n",
       "      <td>534.250000</td>\n",
       "      <td>11357.000000</td>\n",
       "      <td>2.000000</td>\n",
       "      <td>0.000000</td>\n",
       "      <td>2.000000</td>\n",
       "      <td>2.640000e+03</td>\n",
       "      <td>2.076000e+03</td>\n",
       "      <td>1966.000000</td>\n",
       "      <td>2.000000</td>\n",
       "      <td>8.150000e+05</td>\n",
       "    </tr>\n",
       "    <tr>\n",
       "      <th>max</th>\n",
       "      <td>16322.000000</td>\n",
       "      <td>9106.000000</td>\n",
       "      <td>11694.000000</td>\n",
       "      <td>42.000000</td>\n",
       "      <td>42.000000</td>\n",
       "      <td>42.000000</td>\n",
       "      <td>3.014056e+06</td>\n",
       "      <td>1.501878e+06</td>\n",
       "      <td>2017.000000</td>\n",
       "      <td>4.000000</td>\n",
       "      <td>2.030250e+07</td>\n",
       "    </tr>\n",
       "  </tbody>\n",
       "</table>\n",
       "</div>"
      ],
      "text/plain": [
       "              BLOCK           LOT      ZIP CODE  RESIDENTIAL UNITS  \\\n",
       "count  83116.000000  83116.000000  83116.000000       83116.000000   \n",
       "mean    4262.815150    369.741891  10786.951874           1.396494   \n",
       "std     3575.542132    656.270524   1054.180140           2.529614   \n",
       "min        1.000000      1.000000      0.000000           0.000000   \n",
       "25%     1330.000000     22.000000  10305.000000           0.000000   \n",
       "50%     3341.000000     50.000000  11209.000000           1.000000   \n",
       "75%     6318.250000    534.250000  11357.000000           2.000000   \n",
       "max    16322.000000   9106.000000  11694.000000          42.000000   \n",
       "\n",
       "       COMMERCIAL UNITS   TOTAL UNITS  LAND SQUARE FEET  GROSS SQUARE FEET  \\\n",
       "count      83116.000000  83116.000000      8.311600e+04       8.311600e+04   \n",
       "mean           0.102519      1.529754      3.015028e+03       2.426027e+03   \n",
       "std            0.711516      2.661345      1.985954e+04       1.382247e+04   \n",
       "min            0.000000      0.000000      0.000000e+00       0.000000e+00   \n",
       "25%            0.000000      1.000000      2.000000e+03       1.348000e+03   \n",
       "50%            0.000000      1.000000      2.300000e+03       1.669000e+03   \n",
       "75%            0.000000      2.000000      2.640000e+03       2.076000e+03   \n",
       "max           42.000000     42.000000      3.014056e+06       1.501878e+06   \n",
       "\n",
       "         YEAR BUILT  TAX CLASS AT TIME OF SALE    SALE PRICE  \n",
       "count  83116.000000               83116.000000  8.311600e+04  \n",
       "mean    1804.533580                   1.644365  8.479445e+05  \n",
       "std      513.576051                   0.812321  1.479834e+06  \n",
       "min        0.000000                   1.000000  0.000000e+00  \n",
       "25%     1920.000000                   1.000000  2.950000e+05  \n",
       "50%     1940.000000                   2.000000  5.270000e+05  \n",
       "75%     1966.000000                   2.000000  8.150000e+05  \n",
       "max     2017.000000                   4.000000  2.030250e+07  "
      ]
     },
     "execution_count": 96,
     "metadata": {},
     "output_type": "execute_result"
    }
   ],
   "source": [
    "data_numerical_exept_BOROUGH = data[numerical_columns_exept_BOROUGH]\n",
    "data_numerical_exept_BOROUGH.describe()"
   ]
  },
  {
   "cell_type": "code",
   "execution_count": 97,
   "metadata": {},
   "outputs": [],
   "source": [
    "data_numerical_exept_BOROUGH = (data_numerical_exept_BOROUGH - data_numerical_exept_BOROUGH.mean(axis = 0))/data_numerical_exept_BOROUGH.std(axis = 0)"
   ]
  },
  {
   "cell_type": "code",
   "execution_count": 98,
   "metadata": {},
   "outputs": [
    {
     "data": {
      "text/html": [
       "<div>\n",
       "<style scoped>\n",
       "    .dataframe tbody tr th:only-of-type {\n",
       "        vertical-align: middle;\n",
       "    }\n",
       "\n",
       "    .dataframe tbody tr th {\n",
       "        vertical-align: top;\n",
       "    }\n",
       "\n",
       "    .dataframe thead th {\n",
       "        text-align: right;\n",
       "    }\n",
       "</style>\n",
       "<table border=\"1\" class=\"dataframe\">\n",
       "  <thead>\n",
       "    <tr style=\"text-align: right;\">\n",
       "      <th></th>\n",
       "      <th>BLOCK</th>\n",
       "      <th>LOT</th>\n",
       "      <th>ZIP CODE</th>\n",
       "      <th>RESIDENTIAL UNITS</th>\n",
       "      <th>COMMERCIAL UNITS</th>\n",
       "      <th>TOTAL UNITS</th>\n",
       "      <th>LAND SQUARE FEET</th>\n",
       "      <th>GROSS SQUARE FEET</th>\n",
       "      <th>YEAR BUILT</th>\n",
       "      <th>TAX CLASS AT TIME OF SALE</th>\n",
       "      <th>SALE PRICE</th>\n",
       "    </tr>\n",
       "  </thead>\n",
       "  <tbody>\n",
       "    <tr>\n",
       "      <th>count</th>\n",
       "      <td>8.311600e+04</td>\n",
       "      <td>8.311600e+04</td>\n",
       "      <td>8.311600e+04</td>\n",
       "      <td>8.311600e+04</td>\n",
       "      <td>8.311600e+04</td>\n",
       "      <td>8.311600e+04</td>\n",
       "      <td>8.311600e+04</td>\n",
       "      <td>8.311600e+04</td>\n",
       "      <td>8.311600e+04</td>\n",
       "      <td>8.311600e+04</td>\n",
       "      <td>8.311600e+04</td>\n",
       "    </tr>\n",
       "    <tr>\n",
       "      <th>mean</th>\n",
       "      <td>2.875012e-15</td>\n",
       "      <td>6.405938e-15</td>\n",
       "      <td>-6.377818e-15</td>\n",
       "      <td>-9.209038e-15</td>\n",
       "      <td>3.864424e-14</td>\n",
       "      <td>-2.743032e-14</td>\n",
       "      <td>-1.317010e-14</td>\n",
       "      <td>1.194994e-14</td>\n",
       "      <td>-8.437079e-16</td>\n",
       "      <td>1.547329e-13</td>\n",
       "      <td>-2.587457e-14</td>\n",
       "    </tr>\n",
       "    <tr>\n",
       "      <th>std</th>\n",
       "      <td>1.000000e+00</td>\n",
       "      <td>1.000000e+00</td>\n",
       "      <td>1.000000e+00</td>\n",
       "      <td>1.000000e+00</td>\n",
       "      <td>1.000000e+00</td>\n",
       "      <td>1.000000e+00</td>\n",
       "      <td>1.000000e+00</td>\n",
       "      <td>1.000000e+00</td>\n",
       "      <td>1.000000e+00</td>\n",
       "      <td>1.000000e+00</td>\n",
       "      <td>1.000000e+00</td>\n",
       "    </tr>\n",
       "    <tr>\n",
       "      <th>min</th>\n",
       "      <td>-1.191935e+00</td>\n",
       "      <td>-5.618748e-01</td>\n",
       "      <td>-1.023255e+01</td>\n",
       "      <td>-5.520581e-01</td>\n",
       "      <td>-1.440857e-01</td>\n",
       "      <td>-5.748047e-01</td>\n",
       "      <td>-1.518176e-01</td>\n",
       "      <td>-1.755133e-01</td>\n",
       "      <td>-3.513664e+00</td>\n",
       "      <td>-7.932383e-01</td>\n",
       "      <td>-5.729999e-01</td>\n",
       "    </tr>\n",
       "    <tr>\n",
       "      <th>25%</th>\n",
       "      <td>-8.202435e-01</td>\n",
       "      <td>-5.298758e-01</td>\n",
       "      <td>-4.571817e-01</td>\n",
       "      <td>-5.520581e-01</td>\n",
       "      <td>-1.440857e-01</td>\n",
       "      <td>-1.990548e-01</td>\n",
       "      <td>-5.111035e-02</td>\n",
       "      <td>-7.799089e-02</td>\n",
       "      <td>2.248283e-01</td>\n",
       "      <td>-7.932383e-01</td>\n",
       "      <td>-3.736532e-01</td>\n",
       "    </tr>\n",
       "    <tr>\n",
       "      <th>50%</th>\n",
       "      <td>-2.578113e-01</td>\n",
       "      <td>-4.872105e-01</td>\n",
       "      <td>4.003567e-01</td>\n",
       "      <td>-1.567409e-01</td>\n",
       "      <td>-1.440857e-01</td>\n",
       "      <td>-1.990548e-01</td>\n",
       "      <td>-3.600426e-02</td>\n",
       "      <td>-5.476783e-02</td>\n",
       "      <td>2.637709e-01</td>\n",
       "      <td>4.378015e-01</td>\n",
       "      <td>-2.168788e-01</td>\n",
       "    </tr>\n",
       "    <tr>\n",
       "      <th>75%</th>\n",
       "      <td>5.748596e-01</td>\n",
       "      <td>2.506712e-01</td>\n",
       "      <td>5.407502e-01</td>\n",
       "      <td>2.385763e-01</td>\n",
       "      <td>-1.440857e-01</td>\n",
       "      <td>1.766950e-01</td>\n",
       "      <td>-1.888402e-02</td>\n",
       "      <td>-2.532302e-02</td>\n",
       "      <td>3.143963e-01</td>\n",
       "      <td>4.378015e-01</td>\n",
       "      <td>-2.226233e-02</td>\n",
       "    </tr>\n",
       "    <tr>\n",
       "      <th>max</th>\n",
       "      <td>3.372687e+00</td>\n",
       "      <td>1.331198e+01</td>\n",
       "      <td>8.604299e-01</td>\n",
       "      <td>1.605126e+01</td>\n",
       "      <td>5.888477e+01</td>\n",
       "      <td>1.520669e+01</td>\n",
       "      <td>1.516169e+02</td>\n",
       "      <td>1.084793e+02</td>\n",
       "      <td>4.137000e-01</td>\n",
       "      <td>2.899881e+00</td>\n",
       "      <td>1.314645e+01</td>\n",
       "    </tr>\n",
       "  </tbody>\n",
       "</table>\n",
       "</div>"
      ],
      "text/plain": [
       "              BLOCK           LOT      ZIP CODE  RESIDENTIAL UNITS  \\\n",
       "count  8.311600e+04  8.311600e+04  8.311600e+04       8.311600e+04   \n",
       "mean   2.875012e-15  6.405938e-15 -6.377818e-15      -9.209038e-15   \n",
       "std    1.000000e+00  1.000000e+00  1.000000e+00       1.000000e+00   \n",
       "min   -1.191935e+00 -5.618748e-01 -1.023255e+01      -5.520581e-01   \n",
       "25%   -8.202435e-01 -5.298758e-01 -4.571817e-01      -5.520581e-01   \n",
       "50%   -2.578113e-01 -4.872105e-01  4.003567e-01      -1.567409e-01   \n",
       "75%    5.748596e-01  2.506712e-01  5.407502e-01       2.385763e-01   \n",
       "max    3.372687e+00  1.331198e+01  8.604299e-01       1.605126e+01   \n",
       "\n",
       "       COMMERCIAL UNITS   TOTAL UNITS  LAND SQUARE FEET  GROSS SQUARE FEET  \\\n",
       "count      8.311600e+04  8.311600e+04      8.311600e+04       8.311600e+04   \n",
       "mean       3.864424e-14 -2.743032e-14     -1.317010e-14       1.194994e-14   \n",
       "std        1.000000e+00  1.000000e+00      1.000000e+00       1.000000e+00   \n",
       "min       -1.440857e-01 -5.748047e-01     -1.518176e-01      -1.755133e-01   \n",
       "25%       -1.440857e-01 -1.990548e-01     -5.111035e-02      -7.799089e-02   \n",
       "50%       -1.440857e-01 -1.990548e-01     -3.600426e-02      -5.476783e-02   \n",
       "75%       -1.440857e-01  1.766950e-01     -1.888402e-02      -2.532302e-02   \n",
       "max        5.888477e+01  1.520669e+01      1.516169e+02       1.084793e+02   \n",
       "\n",
       "         YEAR BUILT  TAX CLASS AT TIME OF SALE    SALE PRICE  \n",
       "count  8.311600e+04               8.311600e+04  8.311600e+04  \n",
       "mean  -8.437079e-16               1.547329e-13 -2.587457e-14  \n",
       "std    1.000000e+00               1.000000e+00  1.000000e+00  \n",
       "min   -3.513664e+00              -7.932383e-01 -5.729999e-01  \n",
       "25%    2.248283e-01              -7.932383e-01 -3.736532e-01  \n",
       "50%    2.637709e-01               4.378015e-01 -2.168788e-01  \n",
       "75%    3.143963e-01               4.378015e-01 -2.226233e-02  \n",
       "max    4.137000e-01               2.899881e+00  1.314645e+01  "
      ]
     },
     "execution_count": 98,
     "metadata": {},
     "output_type": "execute_result"
    }
   ],
   "source": [
    "data_numerical_exept_BOROUGH.describe()"
   ]
  },
  {
   "cell_type": "markdown",
   "metadata": {},
   "source": [
    "# Соединяем все в одну таблицу"
   ]
  },
  {
   "cell_type": "code",
   "execution_count": 99,
   "metadata": {},
   "outputs": [
    {
     "name": "stdout",
     "output_type": "stream",
     "text": [
      "(83116, 657)\n"
     ]
    }
   ],
   "source": [
    "data = pd.concat((data['BOROUGH'], data_numerical_exept_BOROUGH, data_categorical), axis = 1)\n",
    "print(data.shape)"
   ]
  },
  {
   "cell_type": "code",
   "execution_count": 100,
   "metadata": {},
   "outputs": [
    {
     "data": {
      "text/html": [
       "<div>\n",
       "<style scoped>\n",
       "    .dataframe tbody tr th:only-of-type {\n",
       "        vertical-align: middle;\n",
       "    }\n",
       "\n",
       "    .dataframe tbody tr th {\n",
       "        vertical-align: top;\n",
       "    }\n",
       "\n",
       "    .dataframe thead th {\n",
       "        text-align: right;\n",
       "    }\n",
       "</style>\n",
       "<table border=\"1\" class=\"dataframe\">\n",
       "  <thead>\n",
       "    <tr style=\"text-align: right;\">\n",
       "      <th></th>\n",
       "      <th>BOROUGH</th>\n",
       "      <th>BLOCK</th>\n",
       "      <th>LOT</th>\n",
       "      <th>ZIP CODE</th>\n",
       "      <th>RESIDENTIAL UNITS</th>\n",
       "      <th>COMMERCIAL UNITS</th>\n",
       "      <th>TOTAL UNITS</th>\n",
       "      <th>LAND SQUARE FEET</th>\n",
       "      <th>GROSS SQUARE FEET</th>\n",
       "      <th>YEAR BUILT</th>\n",
       "      <th>...</th>\n",
       "      <th>BUILDING CLASS AT TIME OF SALE_W6</th>\n",
       "      <th>BUILDING CLASS AT TIME OF SALE_W8</th>\n",
       "      <th>BUILDING CLASS AT TIME OF SALE_W9</th>\n",
       "      <th>BUILDING CLASS AT TIME OF SALE_Y1</th>\n",
       "      <th>BUILDING CLASS AT TIME OF SALE_Y3</th>\n",
       "      <th>BUILDING CLASS AT TIME OF SALE_Z0</th>\n",
       "      <th>BUILDING CLASS AT TIME OF SALE_Z2</th>\n",
       "      <th>BUILDING CLASS AT TIME OF SALE_Z3</th>\n",
       "      <th>BUILDING CLASS AT TIME OF SALE_Z7</th>\n",
       "      <th>BUILDING CLASS AT TIME OF SALE_Z9</th>\n",
       "    </tr>\n",
       "  </thead>\n",
       "  <tbody>\n",
       "    <tr>\n",
       "      <th>count</th>\n",
       "      <td>83116.000000</td>\n",
       "      <td>8.311600e+04</td>\n",
       "      <td>8.311600e+04</td>\n",
       "      <td>8.311600e+04</td>\n",
       "      <td>8.311600e+04</td>\n",
       "      <td>8.311600e+04</td>\n",
       "      <td>8.311600e+04</td>\n",
       "      <td>8.311600e+04</td>\n",
       "      <td>8.311600e+04</td>\n",
       "      <td>8.311600e+04</td>\n",
       "      <td>...</td>\n",
       "      <td>83116.000000</td>\n",
       "      <td>83116.000000</td>\n",
       "      <td>83116.000000</td>\n",
       "      <td>83116.000000</td>\n",
       "      <td>83116.000000</td>\n",
       "      <td>83116.000000</td>\n",
       "      <td>83116.000000</td>\n",
       "      <td>83116.000000</td>\n",
       "      <td>83116.000000</td>\n",
       "      <td>83116.000000</td>\n",
       "    </tr>\n",
       "    <tr>\n",
       "      <th>mean</th>\n",
       "      <td>3.012031</td>\n",
       "      <td>2.875012e-15</td>\n",
       "      <td>6.405938e-15</td>\n",
       "      <td>-6.377818e-15</td>\n",
       "      <td>-9.209038e-15</td>\n",
       "      <td>3.864424e-14</td>\n",
       "      <td>-2.743032e-14</td>\n",
       "      <td>-1.317010e-14</td>\n",
       "      <td>1.194994e-14</td>\n",
       "      <td>-8.437079e-16</td>\n",
       "      <td>...</td>\n",
       "      <td>0.000024</td>\n",
       "      <td>0.000072</td>\n",
       "      <td>0.000277</td>\n",
       "      <td>0.000012</td>\n",
       "      <td>0.000012</td>\n",
       "      <td>0.000193</td>\n",
       "      <td>0.000048</td>\n",
       "      <td>0.000024</td>\n",
       "      <td>0.000012</td>\n",
       "      <td>0.001781</td>\n",
       "    </tr>\n",
       "    <tr>\n",
       "      <th>std</th>\n",
       "      <td>1.287565</td>\n",
       "      <td>1.000000e+00</td>\n",
       "      <td>1.000000e+00</td>\n",
       "      <td>1.000000e+00</td>\n",
       "      <td>1.000000e+00</td>\n",
       "      <td>1.000000e+00</td>\n",
       "      <td>1.000000e+00</td>\n",
       "      <td>1.000000e+00</td>\n",
       "      <td>1.000000e+00</td>\n",
       "      <td>1.000000e+00</td>\n",
       "      <td>...</td>\n",
       "      <td>0.004905</td>\n",
       "      <td>0.008496</td>\n",
       "      <td>0.016633</td>\n",
       "      <td>0.003469</td>\n",
       "      <td>0.003469</td>\n",
       "      <td>0.013873</td>\n",
       "      <td>0.006937</td>\n",
       "      <td>0.004905</td>\n",
       "      <td>0.003469</td>\n",
       "      <td>0.042160</td>\n",
       "    </tr>\n",
       "    <tr>\n",
       "      <th>min</th>\n",
       "      <td>1.000000</td>\n",
       "      <td>-1.191935e+00</td>\n",
       "      <td>-5.618748e-01</td>\n",
       "      <td>-1.023255e+01</td>\n",
       "      <td>-5.520581e-01</td>\n",
       "      <td>-1.440857e-01</td>\n",
       "      <td>-5.748047e-01</td>\n",
       "      <td>-1.518176e-01</td>\n",
       "      <td>-1.755133e-01</td>\n",
       "      <td>-3.513664e+00</td>\n",
       "      <td>...</td>\n",
       "      <td>0.000000</td>\n",
       "      <td>0.000000</td>\n",
       "      <td>0.000000</td>\n",
       "      <td>0.000000</td>\n",
       "      <td>0.000000</td>\n",
       "      <td>0.000000</td>\n",
       "      <td>0.000000</td>\n",
       "      <td>0.000000</td>\n",
       "      <td>0.000000</td>\n",
       "      <td>0.000000</td>\n",
       "    </tr>\n",
       "    <tr>\n",
       "      <th>25%</th>\n",
       "      <td>2.000000</td>\n",
       "      <td>-8.202435e-01</td>\n",
       "      <td>-5.298758e-01</td>\n",
       "      <td>-4.571817e-01</td>\n",
       "      <td>-5.520581e-01</td>\n",
       "      <td>-1.440857e-01</td>\n",
       "      <td>-1.990548e-01</td>\n",
       "      <td>-5.111035e-02</td>\n",
       "      <td>-7.799089e-02</td>\n",
       "      <td>2.248283e-01</td>\n",
       "      <td>...</td>\n",
       "      <td>0.000000</td>\n",
       "      <td>0.000000</td>\n",
       "      <td>0.000000</td>\n",
       "      <td>0.000000</td>\n",
       "      <td>0.000000</td>\n",
       "      <td>0.000000</td>\n",
       "      <td>0.000000</td>\n",
       "      <td>0.000000</td>\n",
       "      <td>0.000000</td>\n",
       "      <td>0.000000</td>\n",
       "    </tr>\n",
       "    <tr>\n",
       "      <th>50%</th>\n",
       "      <td>3.000000</td>\n",
       "      <td>-2.578113e-01</td>\n",
       "      <td>-4.872105e-01</td>\n",
       "      <td>4.003567e-01</td>\n",
       "      <td>-1.567409e-01</td>\n",
       "      <td>-1.440857e-01</td>\n",
       "      <td>-1.990548e-01</td>\n",
       "      <td>-3.600426e-02</td>\n",
       "      <td>-5.476783e-02</td>\n",
       "      <td>2.637709e-01</td>\n",
       "      <td>...</td>\n",
       "      <td>0.000000</td>\n",
       "      <td>0.000000</td>\n",
       "      <td>0.000000</td>\n",
       "      <td>0.000000</td>\n",
       "      <td>0.000000</td>\n",
       "      <td>0.000000</td>\n",
       "      <td>0.000000</td>\n",
       "      <td>0.000000</td>\n",
       "      <td>0.000000</td>\n",
       "      <td>0.000000</td>\n",
       "    </tr>\n",
       "    <tr>\n",
       "      <th>75%</th>\n",
       "      <td>4.000000</td>\n",
       "      <td>5.748596e-01</td>\n",
       "      <td>2.506712e-01</td>\n",
       "      <td>5.407502e-01</td>\n",
       "      <td>2.385763e-01</td>\n",
       "      <td>-1.440857e-01</td>\n",
       "      <td>1.766950e-01</td>\n",
       "      <td>-1.888402e-02</td>\n",
       "      <td>-2.532302e-02</td>\n",
       "      <td>3.143963e-01</td>\n",
       "      <td>...</td>\n",
       "      <td>0.000000</td>\n",
       "      <td>0.000000</td>\n",
       "      <td>0.000000</td>\n",
       "      <td>0.000000</td>\n",
       "      <td>0.000000</td>\n",
       "      <td>0.000000</td>\n",
       "      <td>0.000000</td>\n",
       "      <td>0.000000</td>\n",
       "      <td>0.000000</td>\n",
       "      <td>0.000000</td>\n",
       "    </tr>\n",
       "    <tr>\n",
       "      <th>max</th>\n",
       "      <td>5.000000</td>\n",
       "      <td>3.372687e+00</td>\n",
       "      <td>1.331198e+01</td>\n",
       "      <td>8.604299e-01</td>\n",
       "      <td>1.605126e+01</td>\n",
       "      <td>5.888477e+01</td>\n",
       "      <td>1.520669e+01</td>\n",
       "      <td>1.516169e+02</td>\n",
       "      <td>1.084793e+02</td>\n",
       "      <td>4.137000e-01</td>\n",
       "      <td>...</td>\n",
       "      <td>1.000000</td>\n",
       "      <td>1.000000</td>\n",
       "      <td>1.000000</td>\n",
       "      <td>1.000000</td>\n",
       "      <td>1.000000</td>\n",
       "      <td>1.000000</td>\n",
       "      <td>1.000000</td>\n",
       "      <td>1.000000</td>\n",
       "      <td>1.000000</td>\n",
       "      <td>1.000000</td>\n",
       "    </tr>\n",
       "  </tbody>\n",
       "</table>\n",
       "<p>8 rows × 657 columns</p>\n",
       "</div>"
      ],
      "text/plain": [
       "            BOROUGH         BLOCK           LOT      ZIP CODE  \\\n",
       "count  83116.000000  8.311600e+04  8.311600e+04  8.311600e+04   \n",
       "mean       3.012031  2.875012e-15  6.405938e-15 -6.377818e-15   \n",
       "std        1.287565  1.000000e+00  1.000000e+00  1.000000e+00   \n",
       "min        1.000000 -1.191935e+00 -5.618748e-01 -1.023255e+01   \n",
       "25%        2.000000 -8.202435e-01 -5.298758e-01 -4.571817e-01   \n",
       "50%        3.000000 -2.578113e-01 -4.872105e-01  4.003567e-01   \n",
       "75%        4.000000  5.748596e-01  2.506712e-01  5.407502e-01   \n",
       "max        5.000000  3.372687e+00  1.331198e+01  8.604299e-01   \n",
       "\n",
       "       RESIDENTIAL UNITS  COMMERCIAL UNITS   TOTAL UNITS  LAND SQUARE FEET  \\\n",
       "count       8.311600e+04      8.311600e+04  8.311600e+04      8.311600e+04   \n",
       "mean       -9.209038e-15      3.864424e-14 -2.743032e-14     -1.317010e-14   \n",
       "std         1.000000e+00      1.000000e+00  1.000000e+00      1.000000e+00   \n",
       "min        -5.520581e-01     -1.440857e-01 -5.748047e-01     -1.518176e-01   \n",
       "25%        -5.520581e-01     -1.440857e-01 -1.990548e-01     -5.111035e-02   \n",
       "50%        -1.567409e-01     -1.440857e-01 -1.990548e-01     -3.600426e-02   \n",
       "75%         2.385763e-01     -1.440857e-01  1.766950e-01     -1.888402e-02   \n",
       "max         1.605126e+01      5.888477e+01  1.520669e+01      1.516169e+02   \n",
       "\n",
       "       GROSS SQUARE FEET    YEAR BUILT  ...  \\\n",
       "count       8.311600e+04  8.311600e+04  ...   \n",
       "mean        1.194994e-14 -8.437079e-16  ...   \n",
       "std         1.000000e+00  1.000000e+00  ...   \n",
       "min        -1.755133e-01 -3.513664e+00  ...   \n",
       "25%        -7.799089e-02  2.248283e-01  ...   \n",
       "50%        -5.476783e-02  2.637709e-01  ...   \n",
       "75%        -2.532302e-02  3.143963e-01  ...   \n",
       "max         1.084793e+02  4.137000e-01  ...   \n",
       "\n",
       "       BUILDING CLASS AT TIME OF SALE_W6  BUILDING CLASS AT TIME OF SALE_W8  \\\n",
       "count                       83116.000000                       83116.000000   \n",
       "mean                            0.000024                           0.000072   \n",
       "std                             0.004905                           0.008496   \n",
       "min                             0.000000                           0.000000   \n",
       "25%                             0.000000                           0.000000   \n",
       "50%                             0.000000                           0.000000   \n",
       "75%                             0.000000                           0.000000   \n",
       "max                             1.000000                           1.000000   \n",
       "\n",
       "       BUILDING CLASS AT TIME OF SALE_W9  BUILDING CLASS AT TIME OF SALE_Y1  \\\n",
       "count                       83116.000000                       83116.000000   \n",
       "mean                            0.000277                           0.000012   \n",
       "std                             0.016633                           0.003469   \n",
       "min                             0.000000                           0.000000   \n",
       "25%                             0.000000                           0.000000   \n",
       "50%                             0.000000                           0.000000   \n",
       "75%                             0.000000                           0.000000   \n",
       "max                             1.000000                           1.000000   \n",
       "\n",
       "       BUILDING CLASS AT TIME OF SALE_Y3  BUILDING CLASS AT TIME OF SALE_Z0  \\\n",
       "count                       83116.000000                       83116.000000   \n",
       "mean                            0.000012                           0.000193   \n",
       "std                             0.003469                           0.013873   \n",
       "min                             0.000000                           0.000000   \n",
       "25%                             0.000000                           0.000000   \n",
       "50%                             0.000000                           0.000000   \n",
       "75%                             0.000000                           0.000000   \n",
       "max                             1.000000                           1.000000   \n",
       "\n",
       "       BUILDING CLASS AT TIME OF SALE_Z2  BUILDING CLASS AT TIME OF SALE_Z3  \\\n",
       "count                       83116.000000                       83116.000000   \n",
       "mean                            0.000048                           0.000024   \n",
       "std                             0.006937                           0.004905   \n",
       "min                             0.000000                           0.000000   \n",
       "25%                             0.000000                           0.000000   \n",
       "50%                             0.000000                           0.000000   \n",
       "75%                             0.000000                           0.000000   \n",
       "max                             1.000000                           1.000000   \n",
       "\n",
       "       BUILDING CLASS AT TIME OF SALE_Z7  BUILDING CLASS AT TIME OF SALE_Z9  \n",
       "count                       83116.000000                       83116.000000  \n",
       "mean                            0.000012                           0.001781  \n",
       "std                             0.003469                           0.042160  \n",
       "min                             0.000000                           0.000000  \n",
       "25%                             0.000000                           0.000000  \n",
       "50%                             0.000000                           0.000000  \n",
       "75%                             0.000000                           0.000000  \n",
       "max                             1.000000                           1.000000  \n",
       "\n",
       "[8 rows x 657 columns]"
      ]
     },
     "execution_count": 100,
     "metadata": {},
     "output_type": "execute_result"
    }
   ],
   "source": [
    "data.describe()"
   ]
  },
  {
   "cell_type": "markdown",
   "metadata": {},
   "source": [
    "# X и y Отбор признаков"
   ]
  },
  {
   "cell_type": "markdown",
   "metadata": {},
   "source": [
    "Для классификации недвижимости по территориальному признаку обозначенному как \"BOROUGH\", будем использовать все входные признаки."
   ]
  },
  {
   "cell_type": "code",
   "execution_count": 101,
   "metadata": {},
   "outputs": [],
   "source": [
    "# X - вся таблица без столбца BOROUGH\n",
    "# y - только столбец BOROUGH\n",
    "X = data.drop('BOROUGH', axis = 1) # выбрасываем столбец 'BOROUGH'\n",
    "y = data['BOROUGH']\n",
    "feature_names = X.columns"
   ]
  },
  {
   "cell_type": "code",
   "execution_count": 102,
   "metadata": {},
   "outputs": [
    {
     "data": {
      "text/plain": [
       "pandas.core.indexes.base.Index"
      ]
     },
     "execution_count": 102,
     "metadata": {},
     "output_type": "execute_result"
    }
   ],
   "source": [
    "type(feature_names)"
   ]
  },
  {
   "cell_type": "code",
   "execution_count": 103,
   "metadata": {},
   "outputs": [
    {
     "data": {
      "text/plain": [
       "Index(['BLOCK', 'LOT', 'ZIP CODE', 'RESIDENTIAL UNITS', 'COMMERCIAL UNITS',\n",
       "       'TOTAL UNITS', 'LAND SQUARE FEET', 'GROSS SQUARE FEET', 'YEAR BUILT',\n",
       "       'TAX CLASS AT TIME OF SALE',\n",
       "       ...\n",
       "       'BUILDING CLASS AT TIME OF SALE_W6',\n",
       "       'BUILDING CLASS AT TIME OF SALE_W8',\n",
       "       'BUILDING CLASS AT TIME OF SALE_W9',\n",
       "       'BUILDING CLASS AT TIME OF SALE_Y1',\n",
       "       'BUILDING CLASS AT TIME OF SALE_Y3',\n",
       "       'BUILDING CLASS AT TIME OF SALE_Z0',\n",
       "       'BUILDING CLASS AT TIME OF SALE_Z2',\n",
       "       'BUILDING CLASS AT TIME OF SALE_Z3',\n",
       "       'BUILDING CLASS AT TIME OF SALE_Z7',\n",
       "       'BUILDING CLASS AT TIME OF SALE_Z9'],\n",
       "      dtype='object', length=656)"
      ]
     },
     "execution_count": 103,
     "metadata": {},
     "output_type": "execute_result"
    }
   ],
   "source": [
    "feature_names\n",
    "# д.б. все колонки, кроме BOROUGH"
   ]
  },
  {
   "cell_type": "code",
   "execution_count": 104,
   "metadata": {},
   "outputs": [],
   "source": [
    "X = X.to_numpy()"
   ]
  },
  {
   "cell_type": "code",
   "execution_count": 105,
   "metadata": {},
   "outputs": [],
   "source": [
    "y = y.to_numpy()"
   ]
  },
  {
   "cell_type": "code",
   "execution_count": 106,
   "metadata": {},
   "outputs": [
    {
     "name": "stdout",
     "output_type": "stream",
     "text": [
      "(83116, 656)\n",
      "(83116,)\n"
     ]
    }
   ],
   "source": [
    "print(X.shape)\n",
    "print(y.shape)\n",
    "N, d = X.shape"
   ]
  },
  {
   "cell_type": "code",
   "execution_count": 107,
   "metadata": {},
   "outputs": [
    {
     "data": {
      "text/plain": [
       "numpy.ndarray"
      ]
     },
     "execution_count": 107,
     "metadata": {},
     "output_type": "execute_result"
    }
   ],
   "source": [
    "type(X)"
   ]
  },
  {
   "cell_type": "code",
   "execution_count": 108,
   "metadata": {},
   "outputs": [
    {
     "data": {
      "text/plain": [
       "numpy.ndarray"
      ]
     },
     "execution_count": 108,
     "metadata": {},
     "output_type": "execute_result"
    }
   ],
   "source": [
    "type(y)"
   ]
  },
  {
   "cell_type": "markdown",
   "metadata": {},
   "source": [
    "## Разбиваем на тренировочную и тестовую выборки"
   ]
  },
  {
   "cell_type": "code",
   "execution_count": 109,
   "metadata": {},
   "outputs": [
    {
     "name": "stdout",
     "output_type": "stream",
     "text": [
      "58181 24935\n",
      "X_train:  (58181, 656)\n",
      "X_test:   (24935, 656)\n",
      "y_train:  (58181,)\n",
      "y_test:   (24935,)\n"
     ]
    }
   ],
   "source": [
    "from sklearn.model_selection import train_test_split\n",
    "X_train, X_test, y_train, y_test = train_test_split(X, y, test_size = 0.3, random_state = 42)\n",
    "# тестовая выборка - 30% данных\n",
    "# random_state фиксирует split\n",
    "\n",
    "N_train, _ = X_train.shape \n",
    "N_test,  _ = X_test.shape \n",
    "print(N_train, N_test)\n",
    "\n",
    "print(\"X_train: \", X_train.shape)\n",
    "print(\"X_test:  \", X_test.shape)\n",
    "print(\"y_train: \", y_train.shape)\n",
    "print(\"y_test:  \", y_test.shape)"
   ]
  },
  {
   "cell_type": "markdown",
   "metadata": {},
   "source": [
    "# kNN"
   ]
  },
  {
   "cell_type": "markdown",
   "metadata": {},
   "source": [
    "### 10 соседей"
   ]
  },
  {
   "cell_type": "code",
   "execution_count": 110,
   "metadata": {},
   "outputs": [
    {
     "data": {
      "text/plain": [
       "KNeighborsClassifier(algorithm='auto', leaf_size=30, metric='minkowski',\n",
       "                     metric_params=None, n_jobs=None, n_neighbors=10, p=2,\n",
       "                     weights='uniform')"
      ]
     },
     "execution_count": 110,
     "metadata": {},
     "output_type": "execute_result"
    }
   ],
   "source": [
    "from sklearn.neighbors import KNeighborsClassifier\n",
    "knn = KNeighborsClassifier(n_neighbors = 10)\n",
    "knn.fit(X_train, y_train)"
   ]
  },
  {
   "cell_type": "code",
   "execution_count": 111,
   "metadata": {},
   "outputs": [
    {
     "name": "stdout",
     "output_type": "stream",
     "text": [
      "0.02444096870112236 0.0309604972929617\n"
     ]
    }
   ],
   "source": [
    "# predict - предсказывать значение целевого признака по входным признакам для новых объектов\n",
    "y_train_predict = knn.predict(X_train)\n",
    "y_test_predict = knn.predict(X_test)\n",
    "\n",
    "err_train = np.mean(y_train != y_train_predict)\n",
    "err_test  = np.mean(y_test  != y_test_predict)"
   ]
  },
  {
   "cell_type": "code",
   "execution_count": 112,
   "metadata": {},
   "outputs": [
    {
     "name": "stdout",
     "output_type": "stream",
     "text": [
      "ошибка на тестовой выборке 0.0309604972929617\n",
      "ошибка на обучающей выборке 0.02444096870112236\n"
     ]
    }
   ],
   "source": [
    "print ('ошибка на тестовой выборке', err_test)\n",
    "print ('ошибка на обучающей выборке', err_train)"
   ]
  },
  {
   "cell_type": "code",
   "execution_count": 113,
   "metadata": {},
   "outputs": [
    {
     "name": "stdout",
     "output_type": "stream",
     "text": [
      "[[5186   27   24    4    9]\n",
      " [  44 1926   38    9   35]\n",
      " [  51   46 6972   81    4]\n",
      " [  25    9  252 7706   15]\n",
      " [  10   50   32    7 2373]]\n"
     ]
    }
   ],
   "source": [
    "# матрица ошибок\n",
    "from sklearn.metrics import confusion_matrix\n",
    "print(confusion_matrix(y_test, y_test_predict))"
   ]
  },
  {
   "cell_type": "markdown",
   "metadata": {},
   "source": [
    "На диагонали представлены \"большие\" значения, соответствующие тому, что метод сделал правильный прогноз.  \n",
    "Ошибок, напротив, мало."
   ]
  },
  {
   "cell_type": "markdown",
   "metadata": {},
   "source": [
    "### 1-7 соседей"
   ]
  },
  {
   "cell_type": "code",
   "execution_count": 114,
   "metadata": {},
   "outputs": [
    {
     "name": "stdout",
     "output_type": "stream",
     "text": [
      "7 0.01863151200563758\n",
      "6 0.017703373953696224\n",
      "5 0.014506453997009333\n",
      "4 0.013543940461662742\n",
      "3 0.009728261803681615\n",
      "2 0.008456368917687905\n",
      "1 0.0\n"
     ]
    }
   ],
   "source": [
    "for i in range(7,0,-1):\n",
    "    knn = KNeighborsClassifier(n_neighbors = i)\n",
    "    knn.fit(X_train, y_train)\n",
    "\n",
    "    y_train_predict = knn.predict(X_train)\n",
    "    err_train = np.mean(y_train != y_train_predict)\n",
    "    print(i, err_train)"
   ]
  },
  {
   "cell_type": "markdown",
   "metadata": {},
   "source": [
    "Точность на обучающей выборке для 1 соседа самая высокая - при вычислении одного ближайшего соседа на той же самой выборке, на которой проходило обучение, классификатор выберет этот же самый элемент, то есть на уникальных данных точность должна составлять 100 % - как в нашем случае.\n",
    "\n",
    "На тестовой выборке при 10 соседях получили, что ошибка на тестовой выборке = 0.0309604972929617, а\n",
    "ошибка на обучающей выборке = 0.02444096870112236, что можно считать хорошим результатом."
   ]
  }
 ],
 "metadata": {
  "kernelspec": {
   "display_name": "Python 3",
   "language": "python",
   "name": "python3"
  },
  "language_info": {
   "codemirror_mode": {
    "name": "ipython",
    "version": 3
   },
   "file_extension": ".py",
   "mimetype": "text/x-python",
   "name": "python",
   "nbconvert_exporter": "python",
   "pygments_lexer": "ipython3",
   "version": "3.7.3"
  }
 },
 "nbformat": 4,
 "nbformat_minor": 2
}
